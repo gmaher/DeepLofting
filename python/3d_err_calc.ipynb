{
 "cells": [
  {
   "cell_type": "code",
   "execution_count": 1,
   "metadata": {},
   "outputs": [
    {
     "name": "stderr",
     "output_type": "stream",
     "text": [
      "Using TensorFlow backend.\n"
     ]
    }
   ],
   "source": [
    "import numpy as np\n",
    "import matplotlib.pyplot as plt\n",
    "from IPython.display import display, Javascript\n",
    "from modules import utility\n",
    "import os"
   ]
  },
  {
   "cell_type": "code",
   "execution_count": 2,
   "metadata": {
    "collapsed": true
   },
   "outputs": [],
   "source": [
    "mhas = open('images.txt').readlines()\n",
    "mhas = [i.replace('\\n','') for i in mhas]\n",
    "\n",
    "truths = open('truths.txt').readlines()\n",
    "truths = [i.replace('\\n','') for i in truths]\n",
    "\n",
    "paths = open('paths.txt').readlines()\n",
    "paths = [i.replace('\\n','') for i in paths]\n",
    "\n",
    "groups = open('groups.txt').readlines()\n",
    "groups = [i.replace('\\n','') for i in groups]\n",
    "\n",
    "ct_test = open('ct_test.txt').readlines()\n",
    "ct_test = [i.replace('\\n','') for i in ct_test]\n",
    "\n",
    "mr_test = open('mr_test.txt').readlines()\n",
    "mr_test = [i.replace('\\n','') for i in mr_test]"
   ]
  },
  {
   "cell_type": "code",
   "execution_count": 3,
   "metadata": {
    "collapsed": true
   },
   "outputs": [],
   "source": [
    "vtp_dir = '/home/marsdenlab/projects/DeepLofting/python/vtp'\n",
    "model_dir = '/home/marsdenlab/projects/DeepLofting/python/3d_models'\n",
    "\n",
    "vtp_files = os.listdir(vtp_dir)"
   ]
  },
  {
   "cell_type": "code",
   "execution_count": 4,
   "metadata": {},
   "outputs": [
    {
     "name": "stdout",
     "output_type": "stream",
     "text": [
      "['OSMSC0004', 'OSMSC0177', 'cabg11', 'OSMSC0179', 'OSMSC0144', 'OSMSC0148', 'OSMSC0150', 'OSMSC0119']\n",
      "['0119_0001_i2ifc.LPA_br2_br1.vtp', '0150_0001_oof.celiac_hepatic.vtp', '0179_0001_truth.C_left.vtp', 'cabg11_all_oof.lca2.vtp', '0119_0001_i2i3d.LPA_br12.vtp', '0110_0001_i2i3d.right_iliac.vtp', '0177_0000_i2i3d.in_iliac_left.vtp', '0148_1001_i2i.renal_left.vtp', '0171_0001_i2i3d.R_incrd_b4.vtp', '0119_0001_i2i.RPA_br12_br4.vtp']\n",
      "['OSMSC0004', 'OSMSC0177', 'cabg11', 'OSMSC0179', 'OSMSC0144', 'OSMSC0148', 'OSMSC0150', 'OSMSC0119', 'OSMSC0006', 'OSMSC0101', 'OSMSC0171', 'OSMSC0178', 'OSMSC0110']\n"
     ]
    }
   ],
   "source": [
    "print ct_test\n",
    "print vtp_files[:10]\n",
    "IMAGES = ct_test+mr_test\n",
    "print IMAGES\n",
    "codes = ['truth','i2ifc','i2i3d','i2i','drls','oof']"
   ]
  },
  {
   "cell_type": "code",
   "execution_count": 5,
   "metadata": {
    "collapsed": true
   },
   "outputs": [],
   "source": [
    "model_dict = {}\n",
    "for model in IMAGES:\n",
    "    \n",
    "    if not model_dict.has_key(model):\n",
    "        model_dict[model] = {}\n",
    "        m = model.replace('OSMSC','')\n",
    "        \n",
    "    for code in codes:\n",
    "        if not model_dict[model].has_key(code):\n",
    "            model_dict[model][code] = {}\n",
    "        f = [v for v in vtp_files if (code in v and m in v)]\n",
    "        model_dict[model][code]['files'] = f"
   ]
  },
  {
   "cell_type": "code",
   "execution_count": 6,
   "metadata": {},
   "outputs": [
    {
     "name": "stdout",
     "output_type": "stream",
     "text": [
      "{'oof': {'files': ['0177_0000_oof.dc_2.vtp', '0177_0000_oof.dc_1.vtp', '0177_0000_oof.LSA.vtp', '0177_0000_oof.LCCA.vtp', '0177_0000_oof.celiac_hepatic.vtp', '0177_0000_oof.in_iliac_right.vtp', '0177_0000_oof.dc_4.vtp', '0177_0000_oof.renal_right.vtp', '0177_0000_oof.renal_left.vtp', '0177_0000_oof.RSA.vtp', '0177_0000_oof.dc_5.vtp', '0177_0000_oof.disection.vtp', '0177_0000_oof.in_iliac_left.vtp', '0177_0000_oof.dc_3.vtp', '0177_0000_oof.aorta.vtp', '0177_0000_oof.IMA.vtp', '0177_0000_oof.RCCA.vtp', '0177_0000_oof.SMA.vtp', '0177_0000_oof.celiac_splenic.vtp', '0177_0000_oof.ext_iliac_left.vtp']}, 'truth': {'files': ['0177_0000_truth.in_iliac_left.vtp', '0177_0000_truth.disection.vtp', '0177_0000_truth.RSA.vtp', '0177_0000_truth.IMA.vtp', '0177_0000_truth.renal_right.vtp', '0177_0000_truth.aorta.vtp', '0177_0000_truth.renal_left.vtp', '0177_0000_truth.RCCA.vtp', '0177_0000_truth.LCCA.vtp', '0177_0000_truth.SMA.vtp', '0177_0000_truth.dc_2.vtp', '0177_0000_truth.ext_iliac_left.vtp', '0177_0000_truth.dc_4.vtp', '0177_0000_truth.dc_1.vtp', '0177_0000_truth.dc_3.vtp', '0177_0000_truth.celiac_splenic.vtp', '0177_0000_truth.dc_5.vtp', '0177_0000_truth.celiac_hepatic.vtp', '0177_0000_truth.in_iliac_right.vtp', '0177_0000_truth.LSA.vtp']}, 'i2i3d': {'files': ['0177_0000_i2i3d.in_iliac_left.vtp', '0177_0000_i2i3d.renal_left.vtp', '0177_0000_i2i3d.dc_1.vtp', '0177_0000_i2i3d.LSA.vtp', '0177_0000_i2i3d.disection.vtp', '0177_0000_i2i3d.aorta.vtp', '0177_0000_i2i3d.in_iliac_right.vtp', '0177_0000_i2i3d.IMA.vtp', '0177_0000_i2i3d.celiac_splenic.vtp', '0177_0000_i2i3d.dc_5.vtp', '0177_0000_i2i3d.dc_2.vtp', '0177_0000_i2i3d.LCCA.vtp', '0177_0000_i2i3d.renal_right.vtp', '0177_0000_i2i3d.RSA.vtp', '0177_0000_i2i3d.SMA.vtp', '0177_0000_i2i3d.dc_4.vtp', '0177_0000_i2i3d.ext_iliac_left.vtp', '0177_0000_i2i3d.RCCA.vtp', '0177_0000_i2i3d.celiac_hepatic.vtp', '0177_0000_i2i3d.dc_3.vtp']}, 'i2i': {'files': ['0177_0000_i2i3d.in_iliac_left.vtp', '0177_0000_i2i.RCCA.vtp', '0177_0000_i2ifc.celiac_hepatic.vtp', '0177_0000_i2i3d.renal_left.vtp', '0177_0000_i2i.renal_right.vtp', '0177_0000_i2i.dc_4.vtp', '0177_0000_i2i3d.dc_1.vtp', '0177_0000_i2ifc.RSA.vtp', '0177_0000_i2ifc.dc_1.vtp', '0177_0000_i2ifc.ext_iliac_left.vtp', '0177_0000_i2i3d.LSA.vtp', '0177_0000_i2ifc.LSA.vtp', '0177_0000_i2i3d.disection.vtp', '0177_0000_i2ifc.SMA.vtp', '0177_0000_i2i.dc_5.vtp', '0177_0000_i2ifc.dc_5.vtp', '0177_0000_i2i.in_iliac_right.vtp', '0177_0000_i2i.ext_iliac_left.vtp', '0177_0000_i2ifc.in_iliac_left.vtp', '0177_0000_i2i.dc_3.vtp', '0177_0000_i2i.LCCA.vtp', '0177_0000_i2i3d.aorta.vtp', '0177_0000_i2ifc.IMA.vtp', '0177_0000_i2ifc.renal_right.vtp', '0177_0000_i2i3d.in_iliac_right.vtp', '0177_0000_i2i3d.IMA.vtp', '0177_0000_i2ifc.dc_3.vtp', '0177_0000_i2i.SMA.vtp', '0177_0000_i2i.in_iliac_left.vtp', '0177_0000_i2i.disection.vtp', '0177_0000_i2i3d.celiac_splenic.vtp', '0177_0000_i2i.dc_2.vtp', '0177_0000_i2i3d.dc_5.vtp', '0177_0000_i2i.RSA.vtp', '0177_0000_i2ifc.in_iliac_right.vtp', '0177_0000_i2ifc.RCCA.vtp', '0177_0000_i2ifc.aorta.vtp', '0177_0000_i2i.celiac_hepatic.vtp', '0177_0000_i2i3d.dc_2.vtp', '0177_0000_i2i.LSA.vtp', '0177_0000_i2i3d.LCCA.vtp', '0177_0000_i2i.dc_1.vtp', '0177_0000_i2i.renal_left.vtp', '0177_0000_i2i3d.renal_right.vtp', '0177_0000_i2i.aorta.vtp', '0177_0000_i2i3d.RSA.vtp', '0177_0000_i2i3d.SMA.vtp', '0177_0000_i2i3d.dc_4.vtp', '0177_0000_i2i3d.ext_iliac_left.vtp', '0177_0000_i2i.IMA.vtp', '0177_0000_i2i3d.RCCA.vtp', '0177_0000_i2i3d.celiac_hepatic.vtp', '0177_0000_i2ifc.disection.vtp', '0177_0000_i2ifc.celiac_splenic.vtp', '0177_0000_i2i3d.dc_3.vtp', '0177_0000_i2ifc.dc_4.vtp', '0177_0000_i2ifc.renal_left.vtp', '0177_0000_i2ifc.LCCA.vtp', '0177_0000_i2i.celiac_splenic.vtp', '0177_0000_i2ifc.dc_2.vtp']}, 'drls': {'files': ['0177_0000_drls.in_iliac_right.vtp', '0177_0000_drls.dc_5.vtp', '0177_0000_drls.RSA.vtp', '0177_0000_drls.dc_4.vtp', '0177_0000_drls.dc_1.vtp', '0177_0000_drls.IMA.vtp', '0177_0000_drls.disection.vtp', '0177_0000_drls.LCCA.vtp', '0177_0000_drls.dc_3.vtp', '0177_0000_drls.in_iliac_left.vtp', '0177_0000_drls.renal_right.vtp', '0177_0000_drls.SMA.vtp', '0177_0000_drls.ext_iliac_left.vtp', '0177_0000_drls.aorta.vtp', '0177_0000_drls.renal_left.vtp', '0177_0000_drls.RCCA.vtp', '0177_0000_drls.celiac_hepatic.vtp', '0177_0000_drls.celiac_splenic.vtp', '0177_0000_drls.LSA.vtp']}, 'i2ifc': {'files': ['0177_0000_i2ifc.celiac_hepatic.vtp', '0177_0000_i2ifc.RSA.vtp', '0177_0000_i2ifc.dc_1.vtp', '0177_0000_i2ifc.ext_iliac_left.vtp', '0177_0000_i2ifc.LSA.vtp', '0177_0000_i2ifc.SMA.vtp', '0177_0000_i2ifc.dc_5.vtp', '0177_0000_i2ifc.in_iliac_left.vtp', '0177_0000_i2ifc.IMA.vtp', '0177_0000_i2ifc.renal_right.vtp', '0177_0000_i2ifc.dc_3.vtp', '0177_0000_i2ifc.in_iliac_right.vtp', '0177_0000_i2ifc.RCCA.vtp', '0177_0000_i2ifc.aorta.vtp', '0177_0000_i2ifc.disection.vtp', '0177_0000_i2ifc.celiac_splenic.vtp', '0177_0000_i2ifc.dc_4.vtp', '0177_0000_i2ifc.renal_left.vtp', '0177_0000_i2ifc.LCCA.vtp', '0177_0000_i2ifc.dc_2.vtp']}}\n"
     ]
    }
   ],
   "source": [
    "print model_dict[ct_test[1]]"
   ]
  },
  {
   "cell_type": "code",
   "execution_count": 7,
   "metadata": {},
   "outputs": [
    {
     "name": "stdout",
     "output_type": "stream",
     "text": [
      "OSMSC0101 oof\n",
      "OSMSC0101 truth\n",
      "OSMSC0101 i2i3d\n",
      "OSMSC0101 i2i\n",
      "OSMSC0101 drls\n",
      "OSMSC0101 i2ifc\n",
      "OSMSC0178 oof\n",
      "OSMSC0178 truth\n",
      "OSMSC0178 i2i3d\n",
      "OSMSC0178 i2i\n",
      "OSMSC0178 drls\n",
      "OSMSC0178 i2ifc\n",
      "OSMSC0110 oof\n",
      "OSMSC0110 truth\n",
      "OSMSC0110 i2i3d\n",
      "OSMSC0110 i2i\n",
      "OSMSC0110 drls\n",
      "OSMSC0110 i2ifc\n",
      "OSMSC0006 oof\n",
      "OSMSC0006 truth\n",
      "OSMSC0006 i2i3d\n",
      "OSMSC0006 i2i\n",
      "OSMSC0006 drls\n",
      "OSMSC0006 i2ifc\n",
      "cabg11 oof\n",
      "cabg11 truth\n",
      "cabg11 i2i3d\n",
      "cabg11 i2i\n",
      "cabg11 drls\n",
      "cabg11 i2ifc\n",
      "OSMSC0119 oof\n",
      "OSMSC0119 truth\n",
      "OSMSC0119 i2i3d\n",
      "OSMSC0119 i2i\n",
      "OSMSC0119 drls\n",
      "OSMSC0119 i2ifc\n",
      "OSMSC0177 oof\n",
      "OSMSC0177 truth\n",
      "OSMSC0177 i2i3d\n",
      "OSMSC0177 i2i\n",
      "OSMSC0177 drls\n",
      "OSMSC0177 i2ifc\n",
      "OSMSC0148 oof\n",
      "OSMSC0148 truth\n",
      "OSMSC0148 i2i3d\n",
      "OSMSC0148 i2i\n",
      "OSMSC0148 drls\n",
      "OSMSC0148 i2ifc\n",
      "OSMSC0144 oof\n",
      "OSMSC0144 truth\n",
      "OSMSC0144 i2i3d\n",
      "OSMSC0144 i2i\n",
      "OSMSC0144 drls\n",
      "OSMSC0144 i2ifc\n",
      "OSMSC0004 oof\n",
      "OSMSC0004 truth\n",
      "OSMSC0004 i2i3d\n",
      "OSMSC0004 i2i\n",
      "OSMSC0004 drls\n",
      "OSMSC0004 i2ifc\n",
      "OSMSC0179 oof\n",
      "OSMSC0179 truth\n",
      "OSMSC0179 i2i3d\n",
      "OSMSC0179 i2i\n",
      "OSMSC0179 drls\n",
      "OSMSC0179 i2ifc\n",
      "OSMSC0150 oof\n",
      "OSMSC0150 truth\n",
      "OSMSC0150 i2i3d\n",
      "OSMSC0150 i2i\n",
      "OSMSC0150 drls\n",
      "OSMSC0150 i2ifc\n",
      "OSMSC0171 oof\n",
      "OSMSC0171 truth\n",
      "OSMSC0171 i2i3d\n",
      "OSMSC0171 i2i\n",
      "OSMSC0171 drls\n",
      "OSMSC0171 i2ifc\n"
     ]
    }
   ],
   "source": [
    "merged_pds = []\n",
    "for m in model_dict.keys():\n",
    "    for c in model_dict[m].keys():\n",
    "        print m,c\n",
    "        p_list = model_dict[m][c]['files']\n",
    "        p_list = [vtp_dir+'/'+p for p in p_list]\n",
    "        p_list = utility.get_pds_from_files(p_list)\n",
    "        p      = utility.merge_pds(p_list)\n",
    "        model_dict[m][c]['pd'] = p\n",
    "        merged_pds.append(p)\n",
    "        utility.write_pd(p,'./3d_models/{}_{}.vtp'.format(m,c))"
   ]
  },
  {
   "cell_type": "code",
   "execution_count": 8,
   "metadata": {
    "collapsed": true
   },
   "outputs": [],
   "source": [
    "for m in model_dict.keys():\n",
    "    for c in model_dict[m].keys():\n",
    "# m = 'OSMSC0113'\n",
    "# c = 'i2ifc'\n",
    "        \n",
    "        p = model_dict[m][c]['pd']\n",
    "        p_smooth = utility.vtkSmoothPD(p, iters=10, relax=1.0)\n",
    "        utility.write_pd(p_smooth,'./3d_models/{}_{}_smooth.vtp'.format(m,c))"
   ]
  },
  {
   "cell_type": "code",
   "execution_count": 9,
   "metadata": {},
   "outputs": [
    {
     "name": "stdout",
     "output_type": "stream",
     "text": [
      "[('/home/marsdenlab/datasets/vascular_data/OSMSC0004/OSMSC0004-cm.mha', '/home/marsdenlab/datasets/vascular_data/OSMSC0004/0004_0001/0004_0001-cm.mha', '/home/marsdenlab/datasets/vascular_data/OSMSC0004/0004_0001/0004_0001-cm.paths', '/home/marsdenlab/datasets/vascular_data/OSMSC0004/0004_0001/0004_0001_groups-cm'), ('/home/marsdenlab/datasets/vascular_data/OSMSC0006/OSMSC0006-cm.mha', '/home/marsdenlab/datasets/vascular_data/OSMSC0006/0006_0001/0006_0001-cm.mha', '/home/marsdenlab/datasets/vascular_data/OSMSC0006/0006_0001/0006_0001-cm.paths', '/home/marsdenlab/datasets/vascular_data/OSMSC0006/0006_0001/0006_0001_groups-cm'), ('/home/marsdenlab/datasets/vascular_data/OSMSC0101/OSMSC0101-cm.mha', '/home/marsdenlab/datasets/vascular_data/OSMSC0101/0101_0001/0101_0001-cm.mha', '/home/marsdenlab/datasets/vascular_data/OSMSC0101/0101_0001/0101_0001-cm.paths', '/home/marsdenlab/datasets/vascular_data/OSMSC0101/0101_0001/0101_0001_groups-cm'), ('/home/marsdenlab/datasets/vascular_data/OSMSC0110/OSMSC0110-cm.mha', '/home/marsdenlab/datasets/vascular_data/OSMSC0110/0110_0001/0110_0001-cm.mha', '/home/marsdenlab/datasets/vascular_data/OSMSC0110/0110_0001/0110_0001-cm.paths', '/home/marsdenlab/datasets/vascular_data/OSMSC0110/0110_0001/0110_0001_groups-cm'), ('/home/marsdenlab/datasets/vascular_data/OSMSC0119/OSMSC0119-cm.mha', '/home/marsdenlab/datasets/vascular_data/OSMSC0119/0119_0001/0119_0001-cm.mha', '/home/marsdenlab/datasets/vascular_data/OSMSC0119/0119_0001/0119_0001-cm.paths', '/home/marsdenlab/datasets/vascular_data/OSMSC0119/0119_0001/0119_0001_groups-cm'), ('/home/marsdenlab/datasets/vascular_data/OSMSC0144/OSMSC0144-cm.mha', '/home/marsdenlab/datasets/vascular_data/OSMSC0144/0144_1001/0144_1001-cm.mha', '/home/marsdenlab/datasets/vascular_data/OSMSC0144/0144_1001/0144_1001-cm.paths', '/home/marsdenlab/datasets/vascular_data/OSMSC0144/0144_1001/0144_1001_groups-cm'), ('/home/marsdenlab/datasets/vascular_data/OSMSC0148/OSMSC0148-cm.mha', '/home/marsdenlab/datasets/vascular_data/OSMSC0148/0148_1001/0148_1001-cm.mha', '/home/marsdenlab/datasets/vascular_data/OSMSC0148/0148_1001/0148_1001-cm.paths', '/home/marsdenlab/datasets/vascular_data/OSMSC0148/0148_1001/0148_1001_groups-cm'), ('/home/marsdenlab/datasets/vascular_data/OSMSC0150/OSMSC0150-cm.mha', '/home/marsdenlab/datasets/vascular_data/OSMSC0150/0150_0001/0150_0001-cm.mha', '/home/marsdenlab/datasets/vascular_data/OSMSC0150/0150_0001/0150_0001-cm.paths', '/home/marsdenlab/datasets/vascular_data/OSMSC0150/0150_0001/0150_0001_groups-cm'), ('/home/marsdenlab/datasets/vascular_data/OSMSC0171/OSMSC0171-cm.mha', '/home/marsdenlab/datasets/vascular_data/OSMSC0171/0171_0001/0171_0001-cm.mha', '/home/marsdenlab/datasets/vascular_data/OSMSC0171/0171_0001/0171_0001-cm.paths', '/home/marsdenlab/datasets/vascular_data/OSMSC0171/0171_0001/0171_0001_groups-cm'), ('/home/marsdenlab/datasets/vascular_data/OSMSC0177/OSMSC0177-cm.mha', '/home/marsdenlab/datasets/vascular_data/OSMSC0177/0177_0000/0177_0000-cm.mha', '/home/marsdenlab/datasets/vascular_data/OSMSC0177/0177_0000/0177_0000-cm.paths', '/home/marsdenlab/datasets/vascular_data/OSMSC0177/0177_0000/0177_0000_groups-cm'), ('/home/marsdenlab/datasets/vascular_data/OSMSC0178/OSMSC0178-cm.mha', '/home/marsdenlab/datasets/vascular_data/OSMSC0178/0178_0001/0178_0001-cm.mha', '/home/marsdenlab/datasets/vascular_data/OSMSC0178/0178_0001/0178_0001-cm.paths', '/home/marsdenlab/datasets/vascular_data/OSMSC0178/0178_0001/0178_0001_groups-cm'), ('/home/marsdenlab/datasets/vascular_data/OSMSC0179/OSMSC0179-cm.mha', '/home/marsdenlab/datasets/vascular_data/OSMSC0179/0179_0001/0179_0001-cm.mha', '/home/marsdenlab/datasets/vascular_data/OSMSC0179/0179_0001/0179_0001-cm.paths', '/home/marsdenlab/datasets/vascular_data/OSMSC0179/0179_0001/0179_0001_groups-cm'), ('/home/marsdenlab/datasets/vascular_data/cabg11/cabg11-image.mha', '/home/marsdenlab/datasets/vascular_data/cabg11/cabg11_all/cabg11_all.mha', '/home/marsdenlab/datasets/vascular_data/cabg11/cabg11_all/cabg11_all.paths', '/home/marsdenlab/datasets/vascular_data/cabg11/cabg11_all/cabg11_all_groups')]\n"
     ]
    }
   ],
   "source": [
    "test_images = []\n",
    "for i in range(len(mhas)):\n",
    "    if any([c in mhas[i] for c in IMAGES]):\n",
    "        test_images.append((mhas[i],truths[i],paths[i],groups[i]))\n",
    "        \n",
    "print test_images"
   ]
  },
  {
   "cell_type": "code",
   "execution_count": 10,
   "metadata": {},
   "outputs": [
    {
     "name": "stdout",
     "output_type": "stream",
     "text": [
      "/home/marsdenlab/datasets/vascular_data/OSMSC0004/OSMSC0004-cm.mha\n",
      "OSMSC0004 oof\n",
      "355680\n",
      "472207.0\n",
      "OSMSC0004 truth\n",
      "424800\n",
      "189216.0\n",
      "OSMSC0004 i2i3d\n",
      "236880\n",
      "260320.0\n",
      "OSMSC0004 i2i\n",
      "1039680\n",
      "985921.0\n",
      "OSMSC0004 drls\n",
      "303120\n",
      "303882.0\n",
      "OSMSC0004 i2ifc\n",
      "405360\n",
      "553778.0\n",
      "/home/marsdenlab/datasets/vascular_data/OSMSC0006/OSMSC0006-cm.mha\n",
      "OSMSC0006 oof\n",
      "195840\n",
      "52987.0\n",
      "OSMSC0006 truth\n",
      "95760\n",
      "76706.0\n",
      "OSMSC0006 i2i3d\n",
      "205920\n",
      "106672.0\n",
      "OSMSC0006 i2i\n",
      "622080\n",
      "111742.0\n",
      "OSMSC0006 drls\n",
      "142560\n",
      "37516.0\n",
      "OSMSC0006 i2ifc\n",
      "208080\n",
      "97301.0\n",
      "/home/marsdenlab/datasets/vascular_data/OSMSC0101/OSMSC0101-cm.mha\n",
      "OSMSC0101 oof\n",
      "303120\n",
      "105980.0\n",
      "OSMSC0101 truth\n",
      "59760\n",
      "201014.0\n",
      "OSMSC0101 i2i3d\n",
      "334800\n",
      "147585.0\n",
      "OSMSC0101 i2i\n",
      "1077840\n",
      "158657.0\n",
      "OSMSC0101 drls\n",
      "195120\n",
      "80552.0\n",
      "OSMSC0101 i2ifc\n",
      "371520\n",
      "144949.0\n",
      "/home/marsdenlab/datasets/vascular_data/OSMSC0110/OSMSC0110-cm.mha\n",
      "OSMSC0110 oof\n",
      "948960\n",
      "103420.0\n",
      "OSMSC0110 truth\n",
      "216000\n",
      "134733.0\n",
      "OSMSC0110 i2i3d\n",
      "959040\n",
      "148284.0\n",
      "OSMSC0110 i2i\n",
      "2930400\n",
      "152090.0\n",
      "OSMSC0110 drls\n",
      "815040\n",
      "82166.0\n",
      "OSMSC0110 i2ifc\n",
      "985680\n",
      "161747.0\n",
      "/home/marsdenlab/datasets/vascular_data/OSMSC0119/OSMSC0119-cm.mha\n",
      "OSMSC0119 oof\n",
      "3083760\n",
      "791820.0\n",
      "OSMSC0119 truth\n",
      "828000\n",
      "187118.0\n",
      "OSMSC0119 i2i3d\n",
      "2487600\n",
      "160292.0\n",
      "OSMSC0119 i2i\n",
      "8694000\n",
      "237399.0\n",
      "OSMSC0119 drls\n",
      "3112560\n",
      "400724.0\n",
      "OSMSC0119 i2ifc\n",
      "3124800\n",
      "255836.0\n",
      "/home/marsdenlab/datasets/vascular_data/OSMSC0144/OSMSC0144-cm.mha\n",
      "OSMSC0144 oof\n",
      "730800\n",
      "33502.0\n",
      "OSMSC0144 truth\n",
      "185760\n",
      "228488.0\n",
      "OSMSC0144 i2i3d\n",
      "1108800\n",
      "225985.0\n",
      "OSMSC0144 i2i\n",
      "3641760\n",
      "337856.0\n",
      "OSMSC0144 drls\n",
      "522000\n",
      "40664.0\n",
      "OSMSC0144 i2ifc\n",
      "1265040\n",
      "298138.0\n",
      "/home/marsdenlab/datasets/vascular_data/OSMSC0148/OSMSC0148-cm.mha\n",
      "OSMSC0148 oof\n",
      "506880\n",
      "33999.0\n",
      "OSMSC0148 truth\n",
      "170640\n",
      "104372.0\n",
      "OSMSC0148 i2i3d\n",
      "827280\n",
      "113191.0\n",
      "OSMSC0148 i2i\n",
      "2532960\n",
      "160511.0\n",
      "OSMSC0148 drls\n",
      "384480\n",
      "31977.0\n",
      "OSMSC0148 i2ifc\n",
      "853200\n",
      "146685.0\n",
      "/home/marsdenlab/datasets/vascular_data/OSMSC0150/OSMSC0150-cm.mha\n",
      "OSMSC0150 oof\n",
      "146880\n",
      "21782.0\n",
      "OSMSC0150 truth\n",
      "156240\n",
      "333896.0\n",
      "OSMSC0150 i2i3d\n",
      "298800\n",
      "214910.0\n",
      "OSMSC0150 i2i\n",
      "896400\n",
      "263502.0\n",
      "OSMSC0150 drls\n",
      "127440\n",
      "34294.0\n",
      "OSMSC0150 i2ifc\n",
      "298800\n",
      "252121.0\n",
      "/home/marsdenlab/datasets/vascular_data/OSMSC0171/OSMSC0171-cm.mha\n",
      "OSMSC0171 oof\n",
      "1984320\n",
      "1.36173e+06\n",
      "OSMSC0171 truth\n",
      "912960\n",
      "92413.0\n",
      "OSMSC0171 i2i3d\n",
      "1948320\n",
      "166024.0\n",
      "OSMSC0171 i2i\n",
      "5782320\n",
      "357292.0\n",
      "OSMSC0171 drls\n",
      "1984320\n",
      "1.94622e+06\n",
      "OSMSC0171 i2ifc\n",
      "2016720\n",
      "272672.0\n",
      "/home/marsdenlab/datasets/vascular_data/OSMSC0177/OSMSC0177-cm.mha\n",
      "OSMSC0177 oof\n",
      "385920\n",
      "102164.0\n",
      "OSMSC0177 truth\n",
      "190080\n",
      "890226.0\n",
      "OSMSC0177 i2i3d\n",
      "426960\n",
      "309877.0\n",
      "OSMSC0177 i2i\n",
      "1305360\n",
      "345064.0\n"
     ]
    },
    {
     "ename": "IOError",
     "evalue": "236836747 requested and 1004 written",
     "output_type": "error",
     "traceback": [
      "\u001b[0;31m---------------------------------------------------------------------------\u001b[0m",
      "\u001b[0;31mIOError\u001b[0m                                   Traceback (most recent call last)",
      "\u001b[0;32m<ipython-input-10-bb905e131df0>\u001b[0m in \u001b[0;36m<module>\u001b[0;34m()\u001b[0m\n\u001b[1;32m     27\u001b[0m         \u001b[0mmodel_dict\u001b[0m\u001b[0;34m[\u001b[0m\u001b[0mmodel\u001b[0m\u001b[0;34m]\u001b[0m\u001b[0;34m[\u001b[0m\u001b[0mc\u001b[0m\u001b[0;34m]\u001b[0m\u001b[0;34m[\u001b[0m\u001b[0;34m'np'\u001b[0m\u001b[0;34m]\u001b[0m \u001b[0;34m=\u001b[0m \u001b[0mpd_np\u001b[0m\u001b[0;34m\u001b[0m\u001b[0m\n\u001b[1;32m     28\u001b[0m \u001b[0;34m\u001b[0m\u001b[0m\n\u001b[0;32m---> 29\u001b[0;31m         \u001b[0mnp\u001b[0m\u001b[0;34m.\u001b[0m\u001b[0msave\u001b[0m\u001b[0;34m(\u001b[0m\u001b[0;34m'./3d_models/{}_{}.npy'\u001b[0m\u001b[0;34m.\u001b[0m\u001b[0mformat\u001b[0m\u001b[0;34m(\u001b[0m\u001b[0mmodel\u001b[0m\u001b[0;34m,\u001b[0m\u001b[0mc\u001b[0m\u001b[0;34m)\u001b[0m\u001b[0;34m,\u001b[0m\u001b[0mpd_np\u001b[0m\u001b[0;34m)\u001b[0m\u001b[0;34m\u001b[0m\u001b[0m\n\u001b[0m\u001b[1;32m     30\u001b[0m \u001b[0;34m\u001b[0m\u001b[0m\n\u001b[1;32m     31\u001b[0m         \u001b[0mimg\u001b[0m \u001b[0;34m=\u001b[0m \u001b[0msitk\u001b[0m\u001b[0;34m.\u001b[0m\u001b[0mGetImageFromArray\u001b[0m\u001b[0;34m(\u001b[0m\u001b[0mpd_np\u001b[0m\u001b[0;34m)\u001b[0m\u001b[0;34m\u001b[0m\u001b[0m\n",
      "\u001b[0;32m/home/marsdenlab/anaconda2/lib/python2.7/site-packages/numpy/lib/npyio.pyc\u001b[0m in \u001b[0;36msave\u001b[0;34m(file, arr, allow_pickle, fix_imports)\u001b[0m\n\u001b[1;32m    507\u001b[0m         \u001b[0marr\u001b[0m \u001b[0;34m=\u001b[0m \u001b[0mnp\u001b[0m\u001b[0;34m.\u001b[0m\u001b[0masanyarray\u001b[0m\u001b[0;34m(\u001b[0m\u001b[0marr\u001b[0m\u001b[0;34m)\u001b[0m\u001b[0;34m\u001b[0m\u001b[0m\n\u001b[1;32m    508\u001b[0m         format.write_array(fid, arr, allow_pickle=allow_pickle,\n\u001b[0;32m--> 509\u001b[0;31m                            pickle_kwargs=pickle_kwargs)\n\u001b[0m\u001b[1;32m    510\u001b[0m     \u001b[0;32mfinally\u001b[0m\u001b[0;34m:\u001b[0m\u001b[0;34m\u001b[0m\u001b[0m\n\u001b[1;32m    511\u001b[0m         \u001b[0;32mif\u001b[0m \u001b[0mown_fid\u001b[0m\u001b[0;34m:\u001b[0m\u001b[0;34m\u001b[0m\u001b[0m\n",
      "\u001b[0;32m/home/marsdenlab/anaconda2/lib/python2.7/site-packages/numpy/lib/format.pyc\u001b[0m in \u001b[0;36mwrite_array\u001b[0;34m(fp, array, version, allow_pickle, pickle_kwargs)\u001b[0m\n\u001b[1;32m    585\u001b[0m     \u001b[0;32melse\u001b[0m\u001b[0;34m:\u001b[0m\u001b[0;34m\u001b[0m\u001b[0m\n\u001b[1;32m    586\u001b[0m         \u001b[0;32mif\u001b[0m \u001b[0misfileobj\u001b[0m\u001b[0;34m(\u001b[0m\u001b[0mfp\u001b[0m\u001b[0;34m)\u001b[0m\u001b[0;34m:\u001b[0m\u001b[0;34m\u001b[0m\u001b[0m\n\u001b[0;32m--> 587\u001b[0;31m             \u001b[0marray\u001b[0m\u001b[0;34m.\u001b[0m\u001b[0mtofile\u001b[0m\u001b[0;34m(\u001b[0m\u001b[0mfp\u001b[0m\u001b[0;34m)\u001b[0m\u001b[0;34m\u001b[0m\u001b[0m\n\u001b[0m\u001b[1;32m    588\u001b[0m         \u001b[0;32melse\u001b[0m\u001b[0;34m:\u001b[0m\u001b[0;34m\u001b[0m\u001b[0m\n\u001b[1;32m    589\u001b[0m             for chunk in numpy.nditer(\n",
      "\u001b[0;31mIOError\u001b[0m: 236836747 requested and 1004 written"
     ]
    }
   ],
   "source": [
    "import vtk\n",
    "import SimpleITK as sitk\n",
    "meta_dict = {}\n",
    "for i in range(len(test_images)):\n",
    "    im_file = test_images[i][0]\n",
    "    print im_file\n",
    "    reader = vtk.vtkMetaImageReader()\n",
    "    reader.SetFileName(im_file)\n",
    "    reader.Update()\n",
    "    im = reader.GetOutput()\n",
    "\n",
    "    spacing = im.GetSpacing()\n",
    "    extent  = im.GetExtent()\n",
    "    origin  = im.GetOrigin()\n",
    "    s = extent[1::2]\n",
    "    model = [c for c in IMAGES if c in im_file][0]\n",
    "    meta_dict[model] = {}\n",
    "    meta_dict[model]['spacing'] = spacing\n",
    "    meta_dict[model]['origin'] = origin\n",
    "    \n",
    "    for c in model_dict[model].keys():\n",
    "        print model,c\n",
    "        pd = model_dict[model][c]['pd']\n",
    "        print pd.GetNumberOfPoints()\n",
    "        pd_np = utility.pd_to_numpy_vol(pd,spacing,shape=s,origin=origin,foreground_value=1)\n",
    "        print np.sum(pd_np)\n",
    "        model_dict[model][c]['np'] = pd_np\n",
    "        \n",
    "        np.save('./3d_models/{}_{}.npy'.format(model,c),pd_np)\n",
    "        \n",
    "        img = sitk.GetImageFromArray(pd_np)\n",
    "        img.SetOrigin(origin)\n",
    "        img.SetSpacing(spacing)\n",
    "        sitk.WriteImage(img,'3d_models/{}_{}.mha'.format(model,c))"
   ]
  },
  {
   "cell_type": "code",
   "execution_count": null,
   "metadata": {
    "collapsed": true
   },
   "outputs": [],
   "source": [
    "import pandas as pd\n",
    "import SimpleITK as sitk\n",
    "from medpy.metric.binary import hd, assd, dc, precision\n",
    "\n",
    "df = pd.DataFrame(columns=['image','code','jaccard','hausdorf','ASSD','dice'])\n",
    "\n",
    "for m in model_dict.keys():\n",
    "    truth_np = np.load(model_dir+'/{}_truth.npy'.format(m))\n",
    "    truth_np=truth_np[::2,::2,::2]\n",
    "    spacing = meta_dict[model]['spacing']\n",
    "    \n",
    "    im_file = [t[0] for t in test_images if m in t[0]][0]\n",
    "    print im_file\n",
    "\n",
    "    im = sitk.ReadImage(im_file)\n",
    "    \n",
    "    for c in model_dict[m].keys():\n",
    "        print m, c\n",
    "        pred_np = np.load(model_dir+'/{}_{}.npy'.format(m,c))\n",
    "        pred_np = pred_np[::2,::2,::2]\n",
    "        if np.sum(pred_np) <1:\n",
    "            pred_np[0,0,0] = 1\n",
    "        print truth_np.shape,pred_np.shape\n",
    "        \n",
    "        e_hd = hd(truth_np,pred_np, spacing[0])\n",
    "        \n",
    "        #e_j = utility.jaccard3D_pd_to_itk(model_dict[m]['truth']['pd'], model_dict[m][c]['pd'],im)\n",
    "        \n",
    "        e_asd = assd(truth_np,pred_np, spacing[0])\n",
    "\n",
    "        #e_dc = dc(truth_np,pred_np)\n",
    "        \n",
    "        #e_ap = precision(truth_np, pred_np)\n",
    "        \n",
    "        TP = np.sum(pred_np*truth_np)\n",
    "        FP = np.sum((1-truth_np)*pred_np)\n",
    "        TN = np.sum((1-truth_np)*(1-pred_np))\n",
    "        FN = np.sum(truth_np*(1-pred_np))\n",
    "        \n",
    "        d = {'image': m, 'code':c,'hausdorf':e_hd, 'ASSD':e_asd,\"TP\":TP,\"FP\":FP,\"TN\":TN,\"FN\":FN}\n",
    "        #d = {'image': m, 'code':c, 'jaccard':e_j, 'hausdorf':e_hd, 'ASSD':e_asd, 'dice':e_dc, 'ap':e_ap}\n",
    "        df = df.append(d, ignore_index=True)\n"
   ]
  },
  {
   "cell_type": "code",
   "execution_count": null,
   "metadata": {
    "collapsed": true
   },
   "outputs": [],
   "source": [
    "print truth_np.shape\n",
    "print pred_np.shape"
   ]
  },
  {
   "cell_type": "code",
   "execution_count": null,
   "metadata": {
    "collapsed": true
   },
   "outputs": [],
   "source": [
    "print np.sum(truth_np), np.sum(pred_np)"
   ]
  },
  {
   "cell_type": "code",
   "execution_count": null,
   "metadata": {
    "collapsed": true
   },
   "outputs": [],
   "source": [
    "print df"
   ]
  },
  {
   "cell_type": "code",
   "execution_count": null,
   "metadata": {},
   "outputs": [],
   "source": [
    "strings = []\n",
    "for CODE in ['CT','MR']:\n",
    "    l = ct_test\n",
    "    if CODE == 'MR': l = mr_test\n",
    "    strings = []\n",
    "    f = open('{}_3d_err_.txt'.format(CODE),'w')\n",
    "    for c in codes:\n",
    "        print c\n",
    "        t1 = [any([H==K for K in l]) for H in df['image']]\n",
    "        t2 = [d==c for d in df['code']]\n",
    "        t3 = [H and K for H,K in zip(t1,t2)]\n",
    "        #a = df.loc[(df['code']==c) and [df['image'] == c for c in mr_test])].mean()\n",
    "        a = df.loc[t3].mean()\n",
    "        #print df.loc[df['code']==c].std()\n",
    "        s = \"{} & ${:.3f}$ & ${:.3f}$ \\\\\".format(c,a['hausdorf'],a['ASSD'])\n",
    "        strings.append((a['dice'],s))\n",
    "\n",
    "    strings = sorted(strings,key = lambda x: x[0])\n",
    "    print CODE\n",
    "    for s in strings:\n",
    "        print s[1]\n",
    "        f.write(s[1]+'\\n')\n",
    "    f.close()"
   ]
  },
  {
   "cell_type": "code",
   "execution_count": null,
   "metadata": {
    "collapsed": true
   },
   "outputs": [],
   "source": [
    "df.to_csv('3derrs_fullmodel.csv')\n"
   ]
  },
  {
   "cell_type": "code",
   "execution_count": null,
   "metadata": {
    "collapsed": true
   },
   "outputs": [],
   "source": []
  }
 ],
 "metadata": {
  "kernelspec": {
   "display_name": "Python [conda root]",
   "language": "python",
   "name": "conda-root-py"
  },
  "language_info": {
   "codemirror_mode": {
    "name": "ipython",
    "version": 2
   },
   "file_extension": ".py",
   "mimetype": "text/x-python",
   "name": "python",
   "nbconvert_exporter": "python",
   "pygments_lexer": "ipython2",
   "version": "2.7.13"
  }
 },
 "nbformat": 4,
 "nbformat_minor": 2
}
