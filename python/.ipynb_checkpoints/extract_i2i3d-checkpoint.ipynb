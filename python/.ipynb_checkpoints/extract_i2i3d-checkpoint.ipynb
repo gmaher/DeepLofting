{
 "cells": [
  {
   "cell_type": "code",
   "execution_count": 1,
   "metadata": {},
   "outputs": [
    {
     "name": "stderr",
     "output_type": "stream",
     "text": [
      "Using TensorFlow backend.\n"
     ]
    }
   ],
   "source": [
    "import numpy as np\n",
    "import matplotlib.pyplot as plt\n",
    "from IPython.display import display, Javascript\n",
    "from modules import utility\n",
    "import os"
   ]
  },
  {
   "cell_type": "code",
   "execution_count": 2,
   "metadata": {
    "collapsed": true
   },
   "outputs": [],
   "source": [
    "SEGS = []"
   ]
  },
  {
   "cell_type": "code",
   "execution_count": 3,
   "metadata": {},
   "outputs": [],
   "source": [
    "class Segger:\n",
    "    def __init__(self,segs):\n",
    "        self.segs = segs\n",
    "        \n",
    "    \n",
    "    def batch_seg(self,X,crop_dims):\n",
    "        N=X.shape[0]\n",
    "        print X.shape\n",
    "        ypred=np.zeros((N,crop_dims,crop_dims,1)).astype(float)\n",
    "\n",
    "        for i in range(0,N):\n",
    "            img = X[i,:,:,0]\n",
    "\n",
    "            ypred[i,:,:,0] = img\n",
    "        if len(self.segs) == 0:\n",
    "            self.segs = ypred.copy()\n",
    "        else:\n",
    "            self.segs = np.concatenate((self.segs,ypred))\n",
    "        return ypred.copy()\n",
    "\n",
    "seg = Segger(SEGS)\n",
    "\n",
    "def norm(x,im):\n",
    "    return x\n",
    "\n",
    "ext = [127, 127]\n",
    "DIMS = [128,128]\n",
    "ISOVALUE=0.5\n",
    "NUM_MODES = 5"
   ]
  },
  {
   "cell_type": "code",
   "execution_count": 4,
   "metadata": {
    "collapsed": true
   },
   "outputs": [],
   "source": [
    "mhas = open('images.txt').readlines()\n",
    "mhas = [i.replace('\\n','') for i in mhas]\n",
    "\n",
    "truths = open('truths.txt').readlines()\n",
    "truths = [i.replace('\\n','') for i in truths]\n",
    "\n",
    "paths = open('paths.txt').readlines()\n",
    "paths = [i.replace('\\n','') for i in paths]\n",
    "\n",
    "groups = open('groups.txt').readlines()\n",
    "groups = [i.replace('\\n','') for i in groups]\n",
    "\n",
    "ct_test = open('ct_test.txt').readlines()\n",
    "ct_test = [i.replace('\\n','') for i in ct_test]\n",
    "\n",
    "mr_test = open('mr_test.txt').readlines()\n",
    "mr_test = [i.replace('\\n','') for i in mr_test]"
   ]
  },
  {
   "cell_type": "code",
   "execution_count": 5,
   "metadata": {},
   "outputs": [
    {
     "name": "stdout",
     "output_type": "stream",
     "text": [
      "['OSMSC0148_i2i3d.mha', 'OSMSC0113_i2i3d.mha', 'cabg11_i2i3d.mha', 'OSMSC0177_i2i3d.mha', 'OSMSC0118_i2i3d.mha', 'OSMSC0144_i2i3d.mha', 'OSMSC0180_i2i3d.mha', 'OSMSC0129_i2i3d.mha', 'OSMSC0004_i2i3d.mha']\n",
      "OSMSC0004\n",
      "OSMSC0113\n",
      "OSMSC0129\n",
      "OSMSC0177\n",
      "cabg11\n",
      "OSMSC0180\n",
      "OSMSC0144\n",
      "OSMSC0148\n",
      "OSMSC0118\n",
      "[('/media/marsdenlab/Data2/datasets/DeepLofting/i2i3d/OSMSC0004', '/home/marsdenlab/datasets/vascular_data/OSMSC0004/0004_0001/0004_0001-cm.mha', '/home/marsdenlab/datasets/vascular_data/OSMSC0004/0004_0001/0004_0001-cm.paths', '/home/marsdenlab/datasets/vascular_data/OSMSC0004/0004_0001/0004_0001_groups-cm'), ('/media/marsdenlab/Data2/datasets/DeepLofting/i2i3d/OSMSC0113', '/home/marsdenlab/datasets/vascular_data/OSMSC0113/0113_0003/0113_0003-cm.mha', '/home/marsdenlab/datasets/vascular_data/OSMSC0113/0113_0003/0113_0003-cm.paths', '/home/marsdenlab/datasets/vascular_data/OSMSC0113/0113_0003/0113_0003_groups-cm'), ('/media/marsdenlab/Data2/datasets/DeepLofting/i2i3d/OSMSC0129', '/home/marsdenlab/datasets/vascular_data/OSMSC0129/0129_0000/0129_0000-cm.mha', '/home/marsdenlab/datasets/vascular_data/OSMSC0129/0129_0000/0129_0000-cm.paths', '/home/marsdenlab/datasets/vascular_data/OSMSC0129/0129_0000/0129_0000_groups-cm'), ('/media/marsdenlab/Data2/datasets/DeepLofting/i2i3d/OSMSC0177', '/home/marsdenlab/datasets/vascular_data/OSMSC0177/0177_0000/0177_0000-cm.mha', '/home/marsdenlab/datasets/vascular_data/OSMSC0177/0177_0000/0177_0000-cm.paths', '/home/marsdenlab/datasets/vascular_data/OSMSC0177/0177_0000/0177_0000_groups-cm'), ('/media/marsdenlab/Data2/datasets/DeepLofting/i2i3d/cabg11', '/home/marsdenlab/datasets/vascular_data/cabg11/cabg11_all/cabg11_all.mha', '/home/marsdenlab/datasets/vascular_data/cabg11/cabg11_all/cabg11_all.paths', '/home/marsdenlab/datasets/vascular_data/cabg11/cabg11_all/cabg11_all_groups'), ('/media/marsdenlab/Data2/datasets/DeepLofting/i2i3d/OSMSC0180', '/home/marsdenlab/datasets/vascular_data/OSMSC0180/0180_0000/0180_0000-cm.mha', '/home/marsdenlab/datasets/vascular_data/OSMSC0180/0180_0000/0180_0000-cm.paths', '/home/marsdenlab/datasets/vascular_data/OSMSC0180/0180_0000/0180_0000_groups-cm'), ('/media/marsdenlab/Data2/datasets/DeepLofting/i2i3d/OSMSC0144', '/home/marsdenlab/datasets/vascular_data/OSMSC0144/0144_1001/0144_1001-cm.mha', '/home/marsdenlab/datasets/vascular_data/OSMSC0144/0144_1001/0144_1001-cm.paths', '/home/marsdenlab/datasets/vascular_data/OSMSC0144/0144_1001/0144_1001_groups-cm'), ('/media/marsdenlab/Data2/datasets/DeepLofting/i2i3d/OSMSC0148', '/home/marsdenlab/datasets/vascular_data/OSMSC0148/0148_1001/0148_1001-cm.mha', '/home/marsdenlab/datasets/vascular_data/OSMSC0148/0148_1001/0148_1001-cm.paths', '/home/marsdenlab/datasets/vascular_data/OSMSC0148/0148_1001/0148_1001_groups-cm'), ('/media/marsdenlab/Data2/datasets/DeepLofting/i2i3d/OSMSC0118', '/home/marsdenlab/datasets/vascular_data/OSMSC0118/0118_1000/0118_1000-cm.mha', '/home/marsdenlab/datasets/vascular_data/OSMSC0118/0118_1000/0118_1000-cm.paths', '/home/marsdenlab/datasets/vascular_data/OSMSC0118/0118_1000/0118_1000_groups-cm')]\n"
     ]
    }
   ],
   "source": [
    "volumes_dir = \"/media/marsdenlab/Data2/datasets/DeepLofting/i2i3d/\"\n",
    "i2i_images = os.listdir(volumes_dir)\n",
    "print i2i_images\n",
    "test_images = []\n",
    "\n",
    "for v in ct_test:\n",
    "    image_name = v\n",
    "    print v\n",
    "\n",
    "    ind = [i for i in range(len(mhas)) if image_name in mhas[i]][0]\n",
    "    \n",
    "    i2i_name = [i for i in i2i_images if v in i][0]\n",
    "    \n",
    "    test_images.append((volumes_dir+v+'_i2i3d.mha',truths[ind],paths[ind],groups[ind]))\n",
    "    \n",
    "print test_images"
   ]
  },
  {
   "cell_type": "code",
   "execution_count": 6,
   "metadata": {},
   "outputs": [
    {
     "name": "stdout",
     "output_type": "stream",
     "text": [
      "/media/marsdenlab/Data2/datasets/DeepLofting/i2i3d/OSMSC0004\n",
      "(1.0, 1.0, 1.0)\n",
      "profunda_branch_left\n",
      "(100, 128, 128, 1)\n",
      "profunda_left\n",
      "(100, 128, 128, 1)\n",
      "knee_right\n",
      "(100, 128, 128, 1)\n",
      "profunda_branch_right\n",
      "(100, 128, 128, 1)\n",
      "anterior_tibial_right\n",
      "(100, 128, 128, 1)\n"
     ]
    },
    {
     "ename": "KeyboardInterrupt",
     "evalue": "",
     "output_type": "error",
     "traceback": [
      "\u001b[0;31m---------------------------------------------------------------------------\u001b[0m",
      "\u001b[0;31mKeyboardInterrupt\u001b[0m                         Traceback (most recent call last)",
      "\u001b[0;32m<ipython-input-6-b48f86fd14a9>\u001b[0m in \u001b[0;36m<module>\u001b[0;34m()\u001b[0m\n\u001b[1;32m      1\u001b[0m utility.gen_groups(test_images,seg.batch_seg,norm,\n\u001b[0;32m----> 2\u001b[0;31m                 ext,DIMS,ISOVALUE,NUM_MODES,DIMS[0],'i2i3d','./pred_groups')\n\u001b[0m",
      "\u001b[0;32m/home/marsdenlab/projects/DeepLofting/python/modules/utility.pyc\u001b[0m in \u001b[0;36mgen_groups\u001b[0;34m(test_images, batch_seg, norm, ext, DIMS, ISOVALUE, NUM_MODES, CROP_DIMS, code, dir_)\u001b[0m\n\u001b[1;32m     97\u001b[0m             \u001b[0mpred_segs\u001b[0m \u001b[0;34m=\u001b[0m \u001b[0mbatch_seg\u001b[0m\u001b[0;34m(\u001b[0m\u001b[0mtmpimages\u001b[0m\u001b[0;34m,\u001b[0m\u001b[0mCROP_DIMS\u001b[0m\u001b[0;34m)\u001b[0m\u001b[0;34m\u001b[0m\u001b[0m\n\u001b[1;32m     98\u001b[0m \u001b[0;34m\u001b[0m\u001b[0m\n\u001b[0;32m---> 99\u001b[0;31m             \u001b[0mcontours\u001b[0m \u001b[0;34m=\u001b[0m \u001b[0;34m[\u001b[0m\u001b[0mmarchingSquares\u001b[0m\u001b[0;34m(\u001b[0m\u001b[0mseg\u001b[0m\u001b[0;34m[\u001b[0m\u001b[0;34m:\u001b[0m\u001b[0;34m,\u001b[0m\u001b[0;34m:\u001b[0m\u001b[0;34m,\u001b[0m\u001b[0;36m0\u001b[0m\u001b[0;34m]\u001b[0m\u001b[0;34m,\u001b[0m\u001b[0miso\u001b[0m\u001b[0;34m=\u001b[0m\u001b[0mISOVALUE\u001b[0m\u001b[0;34m,\u001b[0m\u001b[0mmode\u001b[0m\u001b[0;34m=\u001b[0m\u001b[0;34m'center'\u001b[0m\u001b[0;34m)\u001b[0m \u001b[0;32mfor\u001b[0m \u001b[0mseg\u001b[0m \u001b[0;32min\u001b[0m \u001b[0mpred_segs\u001b[0m\u001b[0;34m]\u001b[0m\u001b[0;34m\u001b[0m\u001b[0m\n\u001b[0m\u001b[1;32m    100\u001b[0m \u001b[0;34m\u001b[0m\u001b[0m\n\u001b[1;32m    101\u001b[0m             \u001b[0mcontours\u001b[0m \u001b[0;34m=\u001b[0m \u001b[0;34m[\u001b[0m\u001b[0;34m(\u001b[0m\u001b[0mc\u001b[0m\u001b[0;34m[\u001b[0m\u001b[0;34m:\u001b[0m\u001b[0;34m,\u001b[0m\u001b[0;34m:\u001b[0m\u001b[0;36m2\u001b[0m\u001b[0;34m]\u001b[0m\u001b[0;34m-\u001b[0m\u001b[0mnp\u001b[0m\u001b[0;34m.\u001b[0m\u001b[0marray\u001b[0m\u001b[0;34m(\u001b[0m\u001b[0mDIMS\u001b[0m\u001b[0;34m)\u001b[0m\u001b[0;34m/\u001b[0m\u001b[0;36m2\u001b[0m\u001b[0;34m)\u001b[0m\u001b[0;34m*\u001b[0m\u001b[0mspacing\u001b[0m\u001b[0;34m[\u001b[0m\u001b[0;34m:\u001b[0m\u001b[0;36m2\u001b[0m\u001b[0;34m]\u001b[0m \u001b[0;32mfor\u001b[0m \u001b[0mc\u001b[0m \u001b[0;32min\u001b[0m \u001b[0mcontours\u001b[0m\u001b[0;34m]\u001b[0m\u001b[0;34m\u001b[0m\u001b[0m\n",
      "\u001b[0;32m/home/marsdenlab/projects/DeepLofting/python/modules/utility.pyc\u001b[0m in \u001b[0;36mmarchingSquares\u001b[0;34m(img, iso, mode)\u001b[0m\n\u001b[1;32m    632\u001b[0m     \u001b[0malg\u001b[0m \u001b[0;34m=\u001b[0m \u001b[0mvtk\u001b[0m\u001b[0;34m.\u001b[0m\u001b[0mvtkMarchingSquares\u001b[0m\u001b[0;34m(\u001b[0m\u001b[0;34m)\u001b[0m\u001b[0;34m\u001b[0m\u001b[0m\n\u001b[1;32m    633\u001b[0m \u001b[0;34m\u001b[0m\u001b[0m\n\u001b[0;32m--> 634\u001b[0;31m     \u001b[0msp\u001b[0m \u001b[0;34m=\u001b[0m \u001b[0mVTKNumpytoSP\u001b[0m\u001b[0;34m(\u001b[0m\u001b[0mimg\u001b[0m\u001b[0;34m)\u001b[0m\u001b[0;34m\u001b[0m\u001b[0m\n\u001b[0m\u001b[1;32m    635\u001b[0m \u001b[0;34m\u001b[0m\u001b[0m\n\u001b[1;32m    636\u001b[0m     \u001b[0malg\u001b[0m\u001b[0;34m.\u001b[0m\u001b[0mSetInputData\u001b[0m\u001b[0;34m(\u001b[0m\u001b[0msp\u001b[0m\u001b[0;34m)\u001b[0m\u001b[0;34m\u001b[0m\u001b[0m\n",
      "\u001b[0;32m/home/marsdenlab/projects/DeepLofting/python/modules/utility.pyc\u001b[0m in \u001b[0;36mVTKNumpytoSP\u001b[0;34m(img_)\u001b[0m\n\u001b[1;32m    623\u001b[0m     \u001b[0;32mfor\u001b[0m \u001b[0mi\u001b[0m \u001b[0;32min\u001b[0m \u001b[0mrange\u001b[0m\u001b[0;34m(\u001b[0m\u001b[0mH\u001b[0m\u001b[0;34m)\u001b[0m\u001b[0;34m:\u001b[0m\u001b[0;34m\u001b[0m\u001b[0m\n\u001b[1;32m    624\u001b[0m         \u001b[0;32mfor\u001b[0m \u001b[0mj\u001b[0m \u001b[0;32min\u001b[0m \u001b[0mrange\u001b[0m\u001b[0;34m(\u001b[0m\u001b[0mW\u001b[0m\u001b[0;34m)\u001b[0m\u001b[0;34m:\u001b[0m\u001b[0;34m\u001b[0m\u001b[0m\n\u001b[0;32m--> 625\u001b[0;31m             \u001b[0mv\u001b[0m \u001b[0;34m=\u001b[0m \u001b[0mimg\u001b[0m\u001b[0;34m[\u001b[0m\u001b[0mi\u001b[0m\u001b[0;34m,\u001b[0m\u001b[0mj\u001b[0m\u001b[0;34m]\u001b[0m\u001b[0;34m\u001b[0m\u001b[0m\n\u001b[0m\u001b[1;32m    626\u001b[0m             \u001b[0msp\u001b[0m\u001b[0;34m.\u001b[0m\u001b[0mSetScalarComponentFromFloat\u001b[0m\u001b[0;34m(\u001b[0m\u001b[0mi\u001b[0m\u001b[0;34m,\u001b[0m\u001b[0mj\u001b[0m\u001b[0;34m,\u001b[0m\u001b[0;36m0\u001b[0m\u001b[0;34m,\u001b[0m\u001b[0;36m0\u001b[0m\u001b[0;34m,\u001b[0m\u001b[0mv\u001b[0m\u001b[0;34m)\u001b[0m\u001b[0;34m\u001b[0m\u001b[0m\n\u001b[1;32m    627\u001b[0m \u001b[0;34m\u001b[0m\u001b[0m\n",
      "\u001b[0;31mKeyboardInterrupt\u001b[0m: "
     ]
    }
   ],
   "source": [
    "utility.gen_groups(test_images,seg.batch_seg,norm,\n",
    "                ext,DIMS,ISOVALUE,NUM_MODES,DIMS[0],'i2i3d','./pred_groups')"
   ]
  },
  {
   "cell_type": "code",
   "execution_count": null,
   "metadata": {
    "collapsed": true
   },
   "outputs": [],
   "source": [
    "print seg.segs.shape\n",
    "np.save('i2i3d_segs_ct.npy',seg.segs)"
   ]
  },
  {
   "cell_type": "code",
   "execution_count": null,
   "metadata": {
    "collapsed": true
   },
   "outputs": [],
   "source": [
    "N = len(SEGS)\n",
    "conts = []\n",
    "for i in range(N):\n",
    "    if i %1000==0:\n",
    "        print i\n",
    "    seg = SEGS[i,:,:,0]\n",
    "    cont = util.marchingSquares(seg.astype(np.float32),iso=0.5,mode='center')\n",
    "    conts.append(cont)\n",
    "    \n",
    "\n",
    "np.save('i2i3d_conts_ct.npy',conts)"
   ]
  },
  {
   "cell_type": "code",
   "execution_count": null,
   "metadata": {
    "collapsed": true
   },
   "outputs": [],
   "source": []
  }
 ],
 "metadata": {
  "kernelspec": {
   "display_name": "Python [conda root]",
   "language": "python",
   "name": "conda-root-py"
  },
  "language_info": {
   "codemirror_mode": {
    "name": "ipython",
    "version": 2
   },
   "file_extension": ".py",
   "mimetype": "text/x-python",
   "name": "python",
   "nbconvert_exporter": "python",
   "pygments_lexer": "ipython2",
   "version": "2.7.13"
  }
 },
 "nbformat": 4,
 "nbformat_minor": 2
}
