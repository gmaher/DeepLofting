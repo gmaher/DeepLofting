{
 "cells": [
  {
   "cell_type": "code",
   "execution_count": 1,
   "metadata": {
    "collapsed": true
   },
   "outputs": [],
   "source": [
    "import SimpleITK as sitk\n",
    "import numpy as np"
   ]
  },
  {
   "cell_type": "code",
   "execution_count": 2,
   "metadata": {
    "collapsed": true
   },
   "outputs": [],
   "source": [
    "def ct_norm(x):\n",
    "    return (1.0*x+1000)/(2000)\n",
    "\n",
    "def mr_norm(x):\n",
    "    x = np.log(1.0*x-np.amin(x)+1)\n",
    "    m = np.amin(x)\n",
    "    x = (x-m)/(np.amax(x)-m)    \n",
    "    return x"
   ]
  },
  {
   "cell_type": "code",
   "execution_count": 3,
   "metadata": {
    "collapsed": true
   },
   "outputs": [],
   "source": [
    "mhas = open('images.txt').readlines()\n",
    "mhas = [i.replace('\\n','') for i in mhas]\n",
    "\n",
    "im_mr = open('mr_images.list').readlines()\n",
    "im_mr = [i.replace('\\n','') for i in im_mr]\n",
    "\n",
    "im_ct = open('ct_images.list').readlines()\n",
    "im_ct = [i.replace('\\n','') for i in im_ct]"
   ]
  },
  {
   "cell_type": "code",
   "execution_count": null,
   "metadata": {
    "collapsed": true
   },
   "outputs": [],
   "source": [
    "def process_image(img_fn, normalizer):\n",
    "    \n",
    "    img = sitk.ReadImage(img_fn)\n",
    "    \n",
    "    img_np = sitk.GetArrayFromImage(img)\n",
    "    \n",
    "    img_np = normalizer(img_np)\n",
    "    \n",
    "    img = sitk.GetImageFromArray(img_np)\n",
    "    \n",
    "    return img"
   ]
  }
 ],
 "metadata": {
  "kernelspec": {
   "display_name": "Python [conda root]",
   "language": "python",
   "name": "conda-root-py"
  },
  "language_info": {
   "codemirror_mode": {
    "name": "ipython",
    "version": 2
   },
   "file_extension": ".py",
   "mimetype": "text/x-python",
   "name": "python",
   "nbconvert_exporter": "python",
   "pygments_lexer": "ipython2",
   "version": "2.7.13"
  }
 },
 "nbformat": 4,
 "nbformat_minor": 2
}
