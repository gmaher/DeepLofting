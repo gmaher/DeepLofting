{
 "cells": [
  {
   "cell_type": "code",
   "execution_count": 1,
   "metadata": {},
   "outputs": [
    {
     "name": "stderr",
     "output_type": "stream",
     "text": [
      "Using TensorFlow backend.\n"
     ]
    },
    {
     "data": {
      "application/javascript": [
       "\n",
       "IPython.OutputArea.prototype._should_scroll = function(lines) {\n",
       "    return false;\n",
       "}\n"
      ],
      "text/plain": [
       "<IPython.core.display.Javascript object>"
      ]
     },
     "metadata": {},
     "output_type": "display_data"
    },
    {
     "name": "stdout",
     "output_type": "stream",
     "text": [
      "autoscrolling long output is disabled\n"
     ]
    }
   ],
   "source": [
    "import tensorflow as tf\n",
    "import modules.layers as tf_util\n",
    "import modules.utility as util\n",
    "import numpy as np\n",
    "import tables\n",
    "import matplotlib\n",
    "%matplotlib inline\n",
    "matplotlib.rcParams['font.size'] = 15\n",
    "import matplotlib.pyplot as plt\n",
    "from scipy.ndimage import rotate\n",
    "from IPython.display import display, Javascript\n",
    "from sklearn.metrics import precision_recall_curve\n",
    "from sklearn.metrics import f1_score\n",
    "from medpy.metric.binary import hd, assd,dc,precision\n",
    "# plt.style.use('ggplot')\n",
    "\n",
    "\n",
    "disable_js = \"\"\"\n",
    "IPython.OutputArea.prototype._should_scroll = function(lines) {\n",
    "    return false;\n",
    "}\n",
    "\"\"\"\n",
    "\n",
    "def disable_scroll():\n",
    "    display(Javascript(disable_js))\n",
    "    print (\"autoscrolling long output is disabled\")\n",
    "    \n",
    "disable_scroll()\n",
    "\n",
    "import logging\n",
    "logger = logging.getLogger()\n",
    "logger.setLevel(logging.ERROR)\n",
    "\n",
    "def reorder_contour(c):\n",
    "    N = len(c)\n",
    "    even_inds = np.arange(0,N,2)\n",
    "    odd_inds = np.arange(1,N,2)\n",
    "    \n",
    "    even_points = np.asarray([c[i] for i in even_inds])\n",
    "    odd_points = np.asarray([c[i] for i in odd_inds])\n",
    "    \n",
    "    N_even = len(even_points)\n",
    "    ret = np.zeros_like(c)\n",
    "    ret[:N_even] = even_points\n",
    "    ret[N_even:] = np.flipud(odd_points)\n",
    "    ret = ret[:-2]\n",
    "    return ret.copy()"
   ]
  },
  {
   "cell_type": "code",
   "execution_count": 2,
   "metadata": {},
   "outputs": [
    {
     "name": "stdout",
     "output_type": "stream",
     "text": [
      "[('/home/marsdenlab/datasets/vascular_data/OSMSC0004/OSMSC0004-cm.mha', '/home/marsdenlab/datasets/vascular_data/OSMSC0004/0004_0001/0004_0001-cm.mha', '/home/marsdenlab/datasets/vascular_data/OSMSC0004/0004_0001/0004_0001-cm.paths', '/home/marsdenlab/datasets/vascular_data/OSMSC0004/0004_0001/0004_0001_groups-cm'), ('/home/marsdenlab/datasets/vascular_data/OSMSC0119/OSMSC0119-cm.mha', '/home/marsdenlab/datasets/vascular_data/OSMSC0119/0119_0001/0119_0001-cm.mha', '/home/marsdenlab/datasets/vascular_data/OSMSC0119/0119_0001/0119_0001-cm.paths', '/home/marsdenlab/datasets/vascular_data/OSMSC0119/0119_0001/0119_0001_groups-cm'), ('/home/marsdenlab/datasets/vascular_data/OSMSC0144/OSMSC0144-cm.mha', '/home/marsdenlab/datasets/vascular_data/OSMSC0144/0144_1001/0144_1001-cm.mha', '/home/marsdenlab/datasets/vascular_data/OSMSC0144/0144_1001/0144_1001-cm.paths', '/home/marsdenlab/datasets/vascular_data/OSMSC0144/0144_1001/0144_1001_groups-cm'), ('/home/marsdenlab/datasets/vascular_data/OSMSC0148/OSMSC0148-cm.mha', '/home/marsdenlab/datasets/vascular_data/OSMSC0148/0148_1001/0148_1001-cm.mha', '/home/marsdenlab/datasets/vascular_data/OSMSC0148/0148_1001/0148_1001-cm.paths', '/home/marsdenlab/datasets/vascular_data/OSMSC0148/0148_1001/0148_1001_groups-cm'), ('/home/marsdenlab/datasets/vascular_data/OSMSC0150/OSMSC0150-cm.mha', '/home/marsdenlab/datasets/vascular_data/OSMSC0150/0150_0001/0150_0001-cm.mha', '/home/marsdenlab/datasets/vascular_data/OSMSC0150/0150_0001/0150_0001-cm.paths', '/home/marsdenlab/datasets/vascular_data/OSMSC0150/0150_0001/0150_0001_groups-cm'), ('/home/marsdenlab/datasets/vascular_data/OSMSC0177/OSMSC0177-cm.mha', '/home/marsdenlab/datasets/vascular_data/OSMSC0177/0177_0000/0177_0000-cm.mha', '/home/marsdenlab/datasets/vascular_data/OSMSC0177/0177_0000/0177_0000-cm.paths', '/home/marsdenlab/datasets/vascular_data/OSMSC0177/0177_0000/0177_0000_groups-cm'), ('/home/marsdenlab/datasets/vascular_data/OSMSC0179/OSMSC0179-cm.mha', '/home/marsdenlab/datasets/vascular_data/OSMSC0179/0179_0001/0179_0001-cm.mha', '/home/marsdenlab/datasets/vascular_data/OSMSC0179/0179_0001/0179_0001-cm.paths', '/home/marsdenlab/datasets/vascular_data/OSMSC0179/0179_0001/0179_0001_groups-cm'), ('/home/marsdenlab/datasets/vascular_data/cabg11/cabg11-image.mha', '/home/marsdenlab/datasets/vascular_data/cabg11/cabg11_all/cabg11_all.mha', '/home/marsdenlab/datasets/vascular_data/cabg11/cabg11_all/cabg11_all.paths', '/home/marsdenlab/datasets/vascular_data/cabg11/cabg11_all/cabg11_all_groups')]\n"
     ]
    }
   ],
   "source": [
    "mhas = open('images.txt').readlines()\n",
    "mhas = [i.replace('\\n','') for i in mhas]\n",
    "# mhas = [i.split('/')[-1] for i in mhas]\n",
    "# mhas = ['./data/'+i for i in mhas]\n",
    "\n",
    "truths = open('truths.txt').readlines()\n",
    "truths = [i.replace('\\n','') for i in truths]\n",
    "\n",
    "paths = open('paths.txt').readlines()\n",
    "paths = [i.replace('\\n','') for i in paths]\n",
    "\n",
    "groups = open('groups.txt').readlines()\n",
    "groups = [i.replace('\\n','') for i in groups]\n",
    "\n",
    "ct_test = open('ct_test.txt').readlines()\n",
    "ct_test = [i.replace('\\n','') for i in ct_test]\n",
    "\n",
    "test_images = []\n",
    "for i in range(len(mhas)):\n",
    "    if any([c in mhas[i] for c in ct_test]):\n",
    "        test_images.append((mhas[i],truths[i],paths[i],groups[i]))\n",
    "        \n",
    "print test_images"
   ]
  },
  {
   "cell_type": "code",
   "execution_count": 5,
   "metadata": {},
   "outputs": [
    {
     "name": "stdout",
     "output_type": "stream",
     "text": [
      "19712\n",
      "19712\n",
      "(19712, 128, 128, 1)\n",
      "(19712, 2)\n"
     ]
    }
   ],
   "source": [
    "#######################################################\n",
    "# Get data\n",
    "#######################################################\n",
    "data_path = '/media/marsdenlab/Data2/datasets/DeepLofting/'\n",
    "test = data_path+'test_192_ct.hdf5'\n",
    "test_mr = data_path+'test_192_mr.hdf5'\n",
    "\n",
    "CODE = 'ALL'\n",
    "\n",
    "crop_dims = 128\n",
    "SKIP = 3\n",
    "if CODE == \"CT\":\n",
    "    f_test = tables.open_file(test)\n",
    "    \n",
    "if CODE == \"MR\":\n",
    "    f_test = tables.open_file(test_mr)\n",
    "    \n",
    "if not CODE == 'ALL':\n",
    "    \n",
    "\n",
    "    Y = np.asarray(f_test.root.Y)\n",
    "    Y = Y.astype(int)\n",
    "    C_truth = f_test.root.C\n",
    "    \n",
    "    \n",
    "    META = f_test.root.meta\n",
    "    \n",
    "\n",
    "    \n",
    "else:\n",
    "    f_test = tables.open_file(test)\n",
    "    f_test_mr = tables.open_file(test_mr)\n",
    "    \n",
    "    Y = np.concatenate((f_test.root.Y,f_test_mr.root.Y))\n",
    "    C_truth = np.concatenate((f_test.root.C,f_test_mr.root.C))\n",
    "    META = np.concatenate((f_test.root.meta,f_test_mr.root.meta))\n",
    "\n",
    "    \n",
    "    Y = Y[::SKIP]\n",
    "    C_truth = C_truth[::SKIP]\n",
    "    META = META[::SKIP]\n",
    "Y = util.crop_center_nd(Y,crop_dims, crop_dims)\n",
    "N,W,H,C = Y.shape\n",
    "print len(Y)\n",
    "print len(C_truth)\n",
    "print Y.shape\n",
    "print META.shape"
   ]
  },
  {
   "cell_type": "code",
   "execution_count": 6,
   "metadata": {
    "collapsed": true
   },
   "outputs": [],
   "source": [
    "def calc_errors(err_dict,pred_dict,c_truth,y_truth,meta,code):\n",
    "    \n",
    "    err_dict[code] = {}\n",
    "    \n",
    "    y = util.threshold(pred_dict[code]['y'],0.1).astype(int)\n",
    "    c = pred_dict[code]['c']\n",
    "    \n",
    "    N = len(y)\n",
    "    Ntruth = len(y_truth)\n",
    "   \n",
    "    if not N == Ntruth:\n",
    "        raise RuntimeError('number of predicted and true segs does not match {},{}'.format(N,Ntruth))\n",
    "    \n",
    "    Nc = len(pred_dict[code]['c'])\n",
    "    Nc_truth = len(c_truth)\n",
    "\n",
    "    if not Nc == Nc_truth:\n",
    "        raise RuntimeError('number of predicted and true conts does not match {},{}'.format(Nc,Nc_truth))\n",
    "\n",
    "    print \"Error calc {} y {}, y_truth {}, c {}, c_truth {}\".format(code,y.shape,y_truth.shape,len(c),len(c_truth))\n",
    "\n",
    "    #JACCARD\n",
    "    err_dict[code]['jaccard'] = util.jaccard2d(y_truth,y)\n",
    "\n",
    "    #HAUSDORF\n",
    "    err_dict[code]['hausdorf'] = []\n",
    "    for i in range(N):\n",
    "        if np.sum(y_truth[i]) >2:\n",
    "            if np.sum(y[i])>2:\n",
    "                e = hd(y[i,:,:,0], y_truth[i,:,:,0], meta[i][0])\n",
    "                err_dict[code]['hausdorf'].append(e)\n",
    "\n",
    "    #ASSD\n",
    "    err_dict[code]['assd'] = [] \n",
    "\n",
    "    for i in range(N):\n",
    "        if np.sum(y_truth[i]) > 2:\n",
    "            if np.sum(y[i])>2:\n",
    "\n",
    "                e = assd(y[i,:,:,0],y_truth[i,:,:,0],meta[i][0])\n",
    "                err_dict[code]['assd'].append(e)\n",
    "    \n",
    "                \n",
    "def get_preds(pred_dict,ct_c,ct_y,mr_c,mr_y,code, TCODE):\n",
    "    pred_dict[code] = {}\n",
    "    if TCODE == \"CT\":\n",
    "        pred_dict[code]['y'] = np.load(ct_y)\n",
    "\n",
    "        pred_dict[code]['c'] = np.load(ct_c)\n",
    "    if TCODE == \"MR\":\n",
    "        pred_dict[code]['y'] = np.load(mr_y)\n",
    "\n",
    "        pred_dict[code]['c'] = np.load(mr_c)\n",
    "    \n",
    "    if TCODE == \"ALL\":\n",
    "        y_ct = np.load(ct_y)\n",
    "        y_mr = np.load(mr_y)\n",
    "        pred_dict[code]['y'] = np.concatenate((y_ct,y_mr))[::SKIP]\n",
    "        \n",
    "        c_ct = np.load(ct_c)\n",
    "        c_mr = np.load(mr_c)\n",
    "        pred_dict[code]['c'] = np.concatenate((c_ct,c_mr))[::SKIP]\n",
    "        \n",
    "    print \"segs and contours for {}, y shape = {}, c shape = {}\".format(code,pred_dict[code]['y'].shape,\n",
    "                                                                    pred_dict[code]['c'].shape)"
   ]
  },
  {
   "cell_type": "code",
   "execution_count": 7,
   "metadata": {},
   "outputs": [
    {
     "name": "stdout",
     "output_type": "stream",
     "text": [
      "19712 19712\n",
      "segs and contours for i2ifc, y shape = (19712, 128, 128, 1), c shape = (19712,)\n",
      "i2ifc shape = y (19712, 128, 128, 1), c 19712, (58, 2)\n",
      "Error calc i2ifc y (19712, 128, 128, 1), y_truth (19712, 128, 128, 1), c 19712, c_truth 19712\n"
     ]
    }
   ],
   "source": [
    "PREDS = {}\n",
    "ERRORS = {}\n",
    "\n",
    "code = 'i2ifc'\n",
    "ct_c = 'i2i_conts_CT.npy'\n",
    "ct_y = 'i2i_segs_CT.npy'\n",
    "mr_c = 'i2i_conts_MR.npy'\n",
    "mr_y = 'i2i_segs_MR.npy'\n",
    "\n",
    "c_truth = C_truth\n",
    "y_truth = Y\n",
    "\n",
    "print len(y_truth),len(c_truth)\n",
    "get_preds(PREDS, ct_c, ct_y, mr_c, mr_y, code,CODE)\n",
    "\n",
    "#NOTE ADDING 32 BECAUSE EXTRACTED FROM CROPPED IMAGES\n",
    "PREDS[code]['c'] = [c[:,:2]-64 for c in PREDS[code]['c']]\n",
    "PREDS[code]['c'] = [PREDS[code]['c'][i]*META[i] for i in  range(len(C_truth))]\n",
    "PREDS[code]['c'] = [reorder_contour(c) for c in PREDS[code]['c']]\n",
    "\n",
    "print \"{} shape = y {}, c {}, {}\".format(code,PREDS[code]['y'].shape,len(PREDS[code]['c']),\n",
    "                                         PREDS[code]['c'][0].shape)\n",
    "\n",
    "#ERROR CALCULATION\n",
    "calc_errors(ERRORS,PREDS,c_truth,y_truth,META,code)"
   ]
  },
  {
   "cell_type": "code",
   "execution_count": 8,
   "metadata": {},
   "outputs": [
    {
     "name": "stdout",
     "output_type": "stream",
     "text": [
      "segs and contours for i2i, y shape = (19712, 128, 128, 1), c shape = (19712,)\n",
      "i2i shape = y (19712, 128, 128, 1), c 19712, (629, 2)\n",
      "Error calc i2i y (19712, 128, 128, 1), y_truth (19712, 128, 128, 1), c 19712, c_truth 19712\n"
     ]
    }
   ],
   "source": [
    "code = 'i2i'\n",
    "ct_c = 'i2i_vanilla_conts_ct.npy'\n",
    "ct_y = 'i2i_vanilla_segs_ct.npy'\n",
    "mr_c = 'i2i_vanilla_conts_mr.npy'\n",
    "mr_y = 'i2i_vanilla_segs_mr.npy'\n",
    "\n",
    "get_preds(PREDS, ct_c, ct_y, mr_c, mr_y, code,CODE)\n",
    "\n",
    "#NOTE ADDING 32 BECAUSE EXTRACTED FROM CROPPED IMAGES\n",
    "PREDS[code]['c'] = [c[:,:2]-64 for c in PREDS[code]['c']]\n",
    "PREDS[code]['c'] = [PREDS[code]['c'][i]*META[i] for i in  range(len(C_truth))]\n",
    "PREDS[code]['c'] = [reorder_contour(c) for c in PREDS[code]['c']]\n",
    "\n",
    "print \"{} shape = y {}, c {}, {}\".format(code,PREDS[code]['y'].shape,len(PREDS[code]['c']),\n",
    "                                         PREDS[code]['c'][0].shape)\n",
    "\n",
    "#ERROR CALCULATION\n",
    "calc_errors(ERRORS,PREDS,c_truth,y_truth,META,code)"
   ]
  },
  {
   "cell_type": "code",
   "execution_count": 10,
   "metadata": {},
   "outputs": [
    {
     "name": "stdout",
     "output_type": "stream",
     "text": [
      "19712 (2, 2)\n",
      "19712 19712 19712\n",
      "i2i3d shape = y (19712, 128, 128, 1), c 19712, (2, 2)\n",
      "Error calc i2i3d y (19712, 128, 128, 1), y_truth (19712, 128, 128, 1), c 19712, c_truth 19712\n"
     ]
    }
   ],
   "source": [
    "from skimage.measure import grid_points_in_poly\n",
    "if CODE == \"CT\":\n",
    "    f_i2i3d = tables.open_file('/media/marsdenlab/Data2/datasets/DeepLofting/test_192_ct_i2i3d.hdf5')\n",
    "    c3d = np.load('i2i_3d_conts_ct.npy')\n",
    "    y_3d = f_i2i3d.root.X\n",
    "    \n",
    "if CODE == \"MR\":\n",
    "    f_i2i3d = tables.open_file('/media/marsdenlab/Data2/datasets/DeepLofting/test_192_mr_i2i3d.hdf5')\n",
    "    c3d = np.load('i2i_3d_conts_mr.npy')\n",
    "    y_3d = f_i2i3d.root.X\n",
    "    \n",
    "if CODE == \"ALL\":\n",
    "    f_i2i3d = tables.open_file('/media/marsdenlab/Data2/datasets/DeepLofting/test_192_ct_i2i3d.hdf5')\n",
    "    c3d = np.load('i2i_3d_conts_ct.npy')\n",
    "    \n",
    "    f_i2i3d_mr = tables.open_file('/media/marsdenlab/Data2/datasets/DeepLofting/test_192_mr_i2i3d.hdf5')\n",
    "    c3d_mr = np.load('i2i_3d_conts_mr.npy')\n",
    "    \n",
    "    y_3d = np.concatenate((f_i2i3d.root.X,f_i2i3d_mr.root.X))[::SKIP]\n",
    "    c3d = np.concatenate((c3d,c3d_mr))[::SKIP]\n",
    "code = 'i2i3d'\n",
    "\n",
    "PREDS[code] = {}\n",
    "PREDS[code]['y'] = y_3d\n",
    "PREDS[code]['c'] = c3d\n",
    "\n",
    "c_truth = C_truth\n",
    "y_truth = Y\n",
    "\n",
    "print len(PREDS[code]['c']),PREDS[code]['c'][0].shape\n",
    "\n",
    "\n",
    "meta = META\n",
    "PREDS[code]['c'] = [c for c in PREDS[code]['c']]\n",
    "\n",
    "print len(y_truth),len(c_truth),len(meta)\n",
    "\n",
    "PREDS[code]['y'] = util.crop_center_nd(PREDS[code]['y'], crop_dims, crop_dims)\n",
    "y_truth = util.crop_center_nd(y_truth, crop_dims, crop_dims)\n",
    "\n",
    "#Convert segs to central segs\n",
    "for i in range(N):\n",
    "    c_ = util.marchingSquares(PREDS[code]['y'][i,:,:,0],iso=0.05,mode='center')\n",
    "    c_ = util.reorder_contour(c_)\n",
    "    a_ = grid_points_in_poly((crop_dims,crop_dims),c_)\n",
    "    PREDS[code]['y'][i][~a_.T] = 0.0\n",
    "    \n",
    "#NOTE ADDING 32 BECAUSE EXTRACTED FROM CROPPED IMAGES\n",
    "PREDS[code]['c'] = [c[:,:2]-96 for c in PREDS[code]['c']]\n",
    "PREDS[code]['c'] = [PREDS[code]['c'][i]*meta[i] for i in  range(len(c_truth))]\n",
    "# PREDS[code]['c'] = [reorder_contour(c) for c in PREDS[code]['c']]\n",
    "for i in range(len(PREDS[code]['c'])):\n",
    "    c_ = PREDS[code]['c'][i]\n",
    "    if len(c) > 2:\n",
    "        PREDS[code]['c'][i] = reorder_contour(c_)\n",
    "\n",
    "print \"{} shape = y {}, c {}, {}\".format(code,PREDS[code]['y'].shape,len(PREDS[code]['c']),\n",
    "                                         PREDS[code]['c'][0].shape)\n",
    "\n",
    "#ERROR CALCULATION\n",
    "calc_errors(ERRORS,PREDS,c_truth,y_truth,META,code)"
   ]
  },
  {
   "cell_type": "code",
   "execution_count": 11,
   "metadata": {},
   "outputs": [
    {
     "name": "stdout",
     "output_type": "stream",
     "text": [
      "segs and contours for drls, y shape = (19712, 192, 192), c shape = (19712,)\n",
      "drls shape = y (19712, 128, 128, 1), c 19712, (50, 2)\n",
      "Error calc drls y (19712, 128, 128, 1), y_truth (19712, 128, 128, 1), c 19712, c_truth 19712\n"
     ]
    }
   ],
   "source": [
    "\n",
    "code = 'drls'\n",
    "ct_c = 'drls_conts_ct.npy'\n",
    "ct_y = 'drls_segs_ct.npy'\n",
    "mr_c = 'drls_conts_mr.npy'\n",
    "mr_y = 'drls_segs_mr.npy'\n",
    "\n",
    "# c_truth = C_truth\n",
    "# y_truth = Y\n",
    "\n",
    "get_preds(PREDS, ct_c, ct_y, mr_c, mr_y, code,CODE)\n",
    "\n",
    "ROI = 64\n",
    "N,W,H = PREDS[code]['y'].shape\n",
    "#post processing\n",
    "tmp = []\n",
    "for i in range(N):\n",
    "    t = np.zeros((W,H))\n",
    "    t[W/2-ROI/2:W/2+ROI/2,H/2-ROI/2:H/2+ROI/2] = PREDS[code]['y'][i][W/2-ROI/2:W/2+ROI/2,H/2-ROI/2:H/2+ROI/2]\n",
    "    PREDS[code]['y'][i] = t.copy()\n",
    "    c = PREDS[code]['c'][i]\n",
    "    if len(c.shape) == 1:\n",
    "        c = np.asarray([[0,0,0],[0,0,0]])\n",
    "        \n",
    "    c = c[:,:2]\n",
    "    r = reorder_contour(c)\n",
    "    r = r-96\n",
    "    r = r*META[i]\n",
    "    tmp.append(r)\n",
    "PREDS[code]['c'] = tmp\n",
    "\n",
    "#crop dims\n",
    "PREDS[code]['y'] = util.crop_center_nd(PREDS[code]['y'], crop_dims, crop_dims)\n",
    "PREDS[code]['y'] = PREDS[code]['y'][:,:,:,np.newaxis]\n",
    "\n",
    "print \"{} shape = y {}, c {}, {}\".format(code,PREDS[code]['y'].shape,len(PREDS[code]['c']),\n",
    "                                         PREDS[code]['c'][0].shape)\n",
    "\n",
    "#ERROR CALCULATION\n",
    "calc_errors(ERRORS,PREDS,c_truth,y_truth,META,code)\n",
    "   "
   ]
  },
  {
   "cell_type": "code",
   "execution_count": 12,
   "metadata": {},
   "outputs": [
    {
     "name": "stdout",
     "output_type": "stream",
     "text": [
      "segs and contours for drls_oof, y shape = (19712, 192, 192), c shape = (19712,)\n",
      "drls_oof shape = y (19712, 128, 128, 1), c 19712, (50, 2)\n",
      "Error calc drls_oof y (19712, 128, 128, 1), y_truth (19712, 128, 128, 1), c 19712, c_truth 19712\n"
     ]
    }
   ],
   "source": [
    "\n",
    "code = 'drls_oof'\n",
    "ct_c = 'drls_conts_OOF_ct.npy'\n",
    "ct_y = 'drls_segs_OOF_ct.npy'\n",
    "mr_c = 'drls_conts_OOF_mr.npy'\n",
    "mr_y = 'drls_segs_OOF_mr.npy'\n",
    "\n",
    "c_truth = C_truth\n",
    "y_truth = Y\n",
    "\n",
    "get_preds(PREDS, ct_c, ct_y, mr_c, mr_y, code,CODE)\n",
    "\n",
    "ROI = 64\n",
    "N,W,H = PREDS[code]['y'].shape\n",
    "\n",
    "#post processing\n",
    "tmp = []\n",
    "for i in range(N):\n",
    "    t = np.zeros((W,H))\n",
    "    t[W/2-ROI/2:W/2+ROI/2,H/2-ROI/2:H/2+ROI/2] = PREDS[code]['y'][i,W/2-ROI/2:W/2+ROI/2,H/2-ROI/2:H/2+ROI/2]\n",
    "    PREDS[code]['y'][i] = t.copy()\n",
    "    c = PREDS[code]['c'][i]\n",
    "    if len(c.shape) == 1:\n",
    "        c = np.asarray([[0,0,0],[0,0,0]])\n",
    "        \n",
    "    c = c[:,:2]\n",
    "    r = reorder_contour(c)\n",
    "    r = r-96\n",
    "    r = r*META[i]\n",
    "    tmp.append(r)\n",
    "PREDS[code]['c'] = tmp\n",
    "\n",
    "#crop dims\n",
    "PREDS[code]['y'] = util.crop_center_nd(PREDS[code]['y'], crop_dims, crop_dims)\n",
    "PREDS[code]['y'] = PREDS[code]['y'][:,:,:,np.newaxis]\n",
    "\n",
    "print \"{} shape = y {}, c {}, {}\".format(code,PREDS[code]['y'].shape,len(PREDS[code]['c']),\n",
    "                                         PREDS[code]['c'][0].shape)\n",
    "\n",
    "#ERROR CALCULATION\n",
    "calc_errors(ERRORS,PREDS,c_truth,y_truth,META,code)"
   ]
  },
  {
   "cell_type": "code",
   "execution_count": 13,
   "metadata": {},
   "outputs": [
    {
     "name": "stdout",
     "output_type": "stream",
     "text": [
      "i2i\n",
      "drls_oof\n",
      "i2i3d\n",
      "i2ifc\n",
      "drls\n"
     ]
    }
   ],
   "source": [
    "#precision recall curves\n",
    "from sklearn.metrics import average_precision_score\n",
    "for code in PREDS:\n",
    "    print code\n",
    "          \n",
    "    #precision recall\n",
    "    ERRORS[code]['pr'] = precision_recall_curve(np.ravel(Y),np.ravel(PREDS[code]['y']))\n",
    "    \n",
    "    y_ = util.threshold(PREDS[code]['y'],0.1)\n",
    "    ERRORS[code]['dice'] = f1_score(np.ravel(Y.astype(int)),\n",
    "                                    np.ravel(y_.astype(int)))\n",
    "    \n",
    "    ERRORS[code]['ap'] = average_precision_score(np.ravel(Y.astype(int)),\n",
    "                                                 np.ravel(y_.astype(int)))"
   ]
  },
  {
   "cell_type": "code",
   "execution_count": 14,
   "metadata": {},
   "outputs": [
    {
     "data": {
      "image/png": "[encoded data removed]",
      "text/plain": [
       "<matplotlib.figure.Figure at 0x7faecd8e2990>"
      ]
     },
     "metadata": {},
     "output_type": "display_data"
    }
   ],
   "source": [
    "plt.figure()\n",
    "plt.imshow(util.threshold(PREDS['i2ifc']['y'][0,:,:,0],0.1))\n",
    "plt.show()"
   ]
  },
  {
   "cell_type": "code",
   "execution_count": 14,
   "metadata": {},
   "outputs": [
    {
     "name": "stdout",
     "output_type": "stream",
     "text": [
      "code, dice, jaccard, hausdorf, assd, ap\n",
      "drls_oof & $0.176$ & $0.904$ & $0.728$ & $0.357$ & $0.236$\\ \\ \n",
      "drls & $0.203$ & $0.887$ & $0.726$ & $0.328$ & $0.260$\\ \\ \n",
      "i2i & $0.421$ & $0.733$ & $0.698$ & $0.222$ & $0.536$\\ \\ \n",
      "i2i3d & $0.442$ & $0.717$ & $0.589$ & $0.272$ & $0.451$\\ \\ \n",
      "i2ifc & $0.586$ & $0.585$ & $0.339$ & $0.117$ & $0.620$\\ \\ \n"
     ]
    }
   ],
   "source": [
    "strings = []\n",
    "dices = []\n",
    "for code in ERRORS.keys():\n",
    "    e_d_m = np.mean(ERRORS[code]['dice'])\n",
    "    e_d_s = np.std(ERRORS[code]['dice'])\n",
    "    \n",
    "    e_j_m = np.mean(ERRORS[code]['jaccard'])\n",
    "    e_j_s = np.std(ERRORS[code]['jaccard'])\n",
    "    \n",
    "    e_hd_m = np.mean(ERRORS[code]['hausdorf'])\n",
    "    e_hd_s = np.std(ERRORS[code]['hausdorf'])\n",
    "    \n",
    "    e_assd_m = np.mean(ERRORS[code]['assd'])\n",
    "    e_assd_s = np.std(ERRORS[code]['assd'])\n",
    "    \n",
    "    e_ap_m = np.mean(ERRORS[code]['ap'])\n",
    "    e_ap_s = np.std(ERRORS[code]['ap'])\n",
    "    \n",
    "    s =  \"{} & ${:.3f}$ & ${:.3f}$ & ${:.3f}$ & ${:.3f}$ & ${:.3f}$\\ \\ \".format(code, \n",
    "                                                          e_d_m, \n",
    "                                                          e_j_m, \n",
    "                                                          e_hd_m,\n",
    "                                                          e_assd_m,\n",
    "                                                        e_ap_m)\n",
    "    strings.append(s)\n",
    "    dices.append(e_d_m)\n",
    "\n",
    "a = sorted(zip(strings,dices), key = lambda x: x[1])\n",
    "f = open('2derr_{}.txt'.format(CODE),'w')\n",
    "print \"code, dice, jaccard, hausdorf, assd, ap\"\n",
    "f.write(\"code, dice, jaccard, hausdorf, assd, ap\\n\")\n",
    "for x in a:\n",
    "    print x[0]\n",
    "    f.write(x[0]+'\\n')\n",
    "f.close()"
   ]
  },
  {
   "cell_type": "code",
   "execution_count": 17,
   "metadata": {
    "collapsed": true
   },
   "outputs": [],
   "source": [
    "S = 100\n",
    "\n",
    "#subsample\n",
    "for code in ERRORS.keys():\n",
    "    for PTYPE in ['pr']:\n",
    "        N = len(ERRORS[code][PTYPE][0])\n",
    "        ERRORS[code][PTYPE+\"_\"] = []\n",
    "\n",
    "        ERRORS[code][PTYPE+'_'].append([ERRORS[code][PTYPE][0][i] for i in range(0,N,S)] + [ERRORS[code][PTYPE][0][N-1]])\n",
    "        ERRORS[code][PTYPE+'_'].append([ERRORS[code][PTYPE][1][i] for i in range(0,N,S)] + [ERRORS[code][PTYPE][1][N-1]])\n",
    "\n"
   ]
  },
  {
   "cell_type": "code",
   "execution_count": 17,
   "metadata": {},
   "outputs": [
    {
     "data": {
      "application/javascript": [
       "\n",
       "IPython.OutputArea.prototype._should_scroll = function(lines) {\n",
       "    return false;\n",
       "}\n"
      ],
      "text/plain": [
       "<IPython.core.display.Javascript object>"
      ]
     },
     "metadata": {},
     "output_type": "display_data"
    },
    {
     "name": "stdout",
     "output_type": "stream",
     "text": [
      "autoscrolling long output is disabled\n",
      "4491\n"
     ]
    },
    {
     "ename": "IndexError",
     "evalue": "list index out of range",
     "output_type": "error",
     "traceback": [
      "\u001b[0;31m---------------------------------------------------------------------------\u001b[0m",
      "\u001b[0;31mIndexError\u001b[0m                                Traceback (most recent call last)",
      "\u001b[0;32m<ipython-input-17-2ff85cda592e>\u001b[0m in \u001b[0;36m<module>\u001b[0;34m()\u001b[0m\n\u001b[1;32m     18\u001b[0m     \u001b[0mid_\u001b[0m \u001b[0;34m=\u001b[0m \u001b[0mnp\u001b[0m\u001b[0;34m.\u001b[0m\u001b[0mrandom\u001b[0m\u001b[0;34m.\u001b[0m\u001b[0mrandint\u001b[0m\u001b[0;34m(\u001b[0m\u001b[0mN\u001b[0m\u001b[0;34m)\u001b[0m\u001b[0;34m\u001b[0m\u001b[0m\n\u001b[1;32m     19\u001b[0m     \u001b[0;32mprint\u001b[0m \u001b[0mid_\u001b[0m\u001b[0;34m\u001b[0m\u001b[0m\n\u001b[0;32m---> 20\u001b[0;31m     \u001b[0;32mprint\u001b[0m \u001b[0mf\u001b[0m\u001b[0;34m[\u001b[0m\u001b[0mid_\u001b[0m\u001b[0;34m]\u001b[0m\u001b[0;34m\u001b[0m\u001b[0m\n\u001b[0m\u001b[1;32m     21\u001b[0m     \u001b[0mimg\u001b[0m \u001b[0;34m=\u001b[0m \u001b[0mutil\u001b[0m\u001b[0;34m.\u001b[0m\u001b[0mcrop_center\u001b[0m\u001b[0;34m(\u001b[0m\u001b[0mf_test\u001b[0m\u001b[0;34m.\u001b[0m\u001b[0mroot\u001b[0m\u001b[0;34m.\u001b[0m\u001b[0mX\u001b[0m\u001b[0;34m[\u001b[0m\u001b[0mid_\u001b[0m\u001b[0;34m,\u001b[0m\u001b[0;34m:\u001b[0m\u001b[0;34m,\u001b[0m\u001b[0;34m:\u001b[0m\u001b[0;34m,\u001b[0m\u001b[0;36m0\u001b[0m\u001b[0;34m]\u001b[0m\u001b[0;34m,\u001b[0m\u001b[0mcrop_dims\u001b[0m\u001b[0;34m,\u001b[0m\u001b[0mcrop_dims\u001b[0m\u001b[0;34m)\u001b[0m\u001b[0;34m\u001b[0m\u001b[0m\n\u001b[1;32m     22\u001b[0m     \u001b[0mseg\u001b[0m \u001b[0;34m=\u001b[0m \u001b[0mutil\u001b[0m\u001b[0;34m.\u001b[0m\u001b[0mcrop_center\u001b[0m\u001b[0;34m(\u001b[0m\u001b[0mf_test\u001b[0m\u001b[0;34m.\u001b[0m\u001b[0mroot\u001b[0m\u001b[0;34m.\u001b[0m\u001b[0mY\u001b[0m\u001b[0;34m[\u001b[0m\u001b[0mid_\u001b[0m\u001b[0;34m,\u001b[0m\u001b[0;34m:\u001b[0m\u001b[0;34m,\u001b[0m\u001b[0;34m:\u001b[0m\u001b[0;34m,\u001b[0m\u001b[0;36m0\u001b[0m\u001b[0;34m]\u001b[0m\u001b[0;34m,\u001b[0m\u001b[0mcrop_dims\u001b[0m\u001b[0;34m,\u001b[0m\u001b[0mcrop_dims\u001b[0m\u001b[0;34m)\u001b[0m\u001b[0;34m\u001b[0m\u001b[0m\n",
      "\u001b[0;31mIndexError\u001b[0m: list index out of range"
     ]
    }
   ],
   "source": [
    "from IPython.display import display, Javascript\n",
    "\n",
    "disable_js = \"\"\"\n",
    "IPython.OutputArea.prototype._should_scroll = function(lines) {\n",
    "    return false;\n",
    "}\n",
    "\"\"\"\n",
    "\n",
    "def disable_scroll():\n",
    "    display(Javascript(disable_js))\n",
    "    print (\"autoscrolling long output is disabled\")\n",
    "    \n",
    "disable_scroll()\n",
    "N=f_test.root.X.shape[0]\n",
    "f = open('ct_test_list.txt','r').readlines()\n",
    "for i in range(5):\n",
    "    \n",
    "    id_ = np.random.randint(N)\n",
    "    print id_\n",
    "    print f[id_]\n",
    "    img = util.crop_center(f_test.root.X[id_,:,:,0],crop_dims,crop_dims)\n",
    "    seg = util.crop_center(f_test.root.Y[id_,:,:,0],crop_dims,crop_dims)\n",
    "    c   = f_test.root.C[id_]\n",
    "    c_i2ifc = PREDS['i2ifc']['c'][id_]\n",
    "    \n",
    "    spacing = f_test.root.meta[i]\n",
    "    extent = [-64*spacing[0],64*spacing[0],-64*spacing[1],64*spacing[1]]\n",
    "    \n",
    "    plt.figure()\n",
    "    fig, (ax1, ax2, ax3, ax4, ax5, ax6,ax7) = plt.subplots(1, 7, sharey=True,figsize=(12,2))\n",
    "    ax1.imshow(img,cmap='gray')\n",
    "    ax2.imshow(seg,cmap='gray')\n",
    "    ax3.imshow(PREDS['i2ifc']['y'][id_,:,:,0].astype(np.float32))\n",
    "    ax4.imshow(PREDS['i2i']['y'][id_,:,:,0].astype(np.float32))\n",
    "    ax5.imshow(PREDS['i2i3d']['y'][id_,:,:,0].astype(np.float32))\n",
    "    ax6.imshow(PREDS['drls']['y'][id_,:,:,0].astype(np.float32))\n",
    "    ax7.imshow(PREDS['drls_oof']['y'][id_,:,:,0].astype(np.float32))\n",
    "    plt.title(f[id_])\n",
    "    plt.tight_layout\n",
    "    plt.savefig('../images/images_{}.png'.format(id_),dpi=500)\n",
    "    plt.show()\n",
    "    \n",
    "    \n",
    "    plt.imshow(img[:,:],cmap='gray',extent=extent)\n",
    "    plt.plot(c[:,0],c[:,1],color='b',label='truth')\n",
    "    plt.plot(c_i2ifc[:,0],c_i2ifc[:,1],color='r',label='i2ifc')\n",
    "    plt.legend()\n",
    "    plt.colorbar()\n",
    "    plt.show()\n",
    "    \n",
    "    plt.figure()\n",
    "    plt.imshow(seg,cmap='gray',extent=extent)\n",
    "    plt.plot(c[:,0],c[:,1],color='b',label='truth')\n",
    "    plt.plot(c_i2ifc[:,0],c_i2ifc[:,1],color='r',label='i2ifc')\n",
    "    plt.legend()\n",
    "    plt.colorbar()\n",
    "    plt.show()"
   ]
  },
  {
   "cell_type": "code",
   "execution_count": 18,
   "metadata": {
    "collapsed": true
   },
   "outputs": [],
   "source": [
    "%matplotlib inline\n",
    "from matplotlib import pylab as plt\n",
    "import numpy as np\n",
    "import pandas as pd\n",
    "def plot_f_lines(ax=None,fig_size=None):\n",
    "    if ax is None:\n",
    "        fig,ax = plt.subplots(1,1)\n",
    "    for f in np.array(np.arange(.1,1,.1)):\n",
    "        r = np.squeeze(np.array([np.arange(f,1.01,.01)]))\n",
    "        p = np.squeeze(np.array((f*r)/(2*r-f)))\n",
    "        ax.plot(p,r,color=[0,1,0], linewidth=.5)\n",
    "        ax.plot(r,p,color=[0,1,0], linewidth=.5);\n",
    "        ax.set_xlim(0,1);ax.set_ylim(0,1)\n",
    "        ax.set_xlabel('Recall');ax.set_ylabel('Precision')\n",
    "        tcks=np.arange(0,1.1,.1)\n",
    "        tcks_lab = map('{:g}'.format,tcks)\n",
    "        ax.set_xticks(tcks);ax.set_yticks(tcks)\n",
    "        ax.set_xticklabels(tcks_lab);ax.set_yticklabels(tcks_lab)\n",
    "        ax.grid(1);ax.set_aspect('equal')\n",
    "    if fig_size is not None:\n",
    "        fig.set_figwidth(fig_size[1]);fig.set_figheight(fig_size[0])\n",
    "    return fig,ax\n",
    "def plot_result(R,P,ax=None,label=None, color=None):\n",
    "    print(color)\n",
    "    if ax is None:\n",
    "        fig,ax = plt.subplots(1,1)\n",
    "    if len(R)>1:\n",
    "        handle = ax.plot(R,P,'-',label=label,linewidth=2.5)\n",
    "    else:\n",
    "        handle = ax.plot(R,P,'.-',label=label,markersize=20, linewidth=3)\n",
    "    if color:\n",
    "        handle[0].set_color(color)\n",
    "    ax.set_xlim(0,1);ax.set_ylim(0,1)\n",
    "    ax.set_xlabel('Recall');ax.set_ylabel('Precision')\n",
    "    tcks=np.arange(0,1.1,.1)\n",
    "    tcks_lab = map('{:g}'.format,tcks)\n",
    "    ax.set_xticks(tcks);ax.set_yticks(tcks)\n",
    "    ax.set_xticklabels(tcks_lab);ax.set_yticklabels(tcks_lab)\n",
    "    ax.grid(1)"
   ]
  },
  {
   "cell_type": "code",
   "execution_count": 19,
   "metadata": {},
   "outputs": [
    {
     "name": "stdout",
     "output_type": "stream",
     "text": [
      "r\n",
      "g\n",
      "b\n",
      "k\n",
      "y\n"
     ]
    },
    {
     "data": {
      "image/png": "[encoded data removed]",
      "text/plain": [
       "<matplotlib.figure.Figure at 0x7f7d0ba1b710>"
      ]
     },
     "metadata": {},
     "output_type": "display_data"
    }
   ],
   "source": [
    "    \n",
    "fig,ax = plot_f_lines(fig_size=(10,10))\n",
    "legof = (.5, -0.05)\n",
    "\n",
    "plot_result(ERRORS['i2ifc']['pr_'][1], ERRORS['i2ifc']['pr_'][0], ax=ax, color='r', \n",
    "            label='[DICE={:.2f}] I2I-FC'.format(np.mean(ERRORS['i2ifc']['dice'])))\n",
    "\n",
    "plot_result(ERRORS['i2i']['pr_'][1], ERRORS['i2i']['pr_'][0], ax=ax,color='g', \n",
    "            label='[DICE={:.2f}] I2I'.format(np.mean(ERRORS['i2i']['dice'])))\n",
    "\n",
    "plot_result(ERRORS['i2i3d']['pr_'][1][1:], ERRORS['i2i3d']['pr_'][0][1:], ax=ax,color='b', \n",
    "            label='[DICE={:.2f}] I2I-3D'.format(np.mean(ERRORS['i2i3d']['dice'])))\n",
    "\n",
    "plot_result(ERRORS['drls']['pr'][1][1:-1], ERRORS['drls']['pr'][0][1:-1], ax=ax,color='k', \n",
    "            label='[DICE={:.2f}] DRLS'.format(np.mean(ERRORS['drls']['dice'])))\n",
    "\n",
    "plot_result(ERRORS['drls_oof']['pr'][1][1:-1], ERRORS['drls_oof']['pr'][0][1:-1], ax=ax,color='y', \n",
    "            label='[DICE={:.2f}] OOF+DRLS'.format(np.mean(ERRORS['drls_oof']['dice'])))\n",
    "\n",
    "handles, labels = ax.get_legend_handles_labels()\n",
    "handles2 = [plt.Line2D((0,1),(0,0), color=handle.get_c(), marker='', markersize=20, linestyle='-', linewidth=5) for handle in handles]\n",
    "\n",
    "ax.legend(handles2,labels,\n",
    "         ncol=1,loc='lower left', numpoints=1,frameon=True)\n",
    "plt.show()\n",
    "\n",
    "fig.savefig('pr_{}.pdf'.format(CODE), bbox_inches='tight')"
   ]
  },
  {
   "cell_type": "code",
   "execution_count": 20,
   "metadata": {
    "collapsed": true
   },
   "outputs": [],
   "source": [
    "import pickle\n",
    "pickle.dump( ERRORS, open( \"ERRORS_{}.pkl\".format(CODE), \"w\" ) )"
   ]
  },
  {
   "cell_type": "code",
   "execution_count": null,
   "metadata": {
    "collapsed": true
   },
   "outputs": [],
   "source": []
  }
 ],
 "metadata": {
  "kernelspec": {
   "display_name": "Python [conda root]",
   "language": "python",
   "name": "conda-root-py"
  },
  "language_info": {
   "codemirror_mode": {
    "name": "ipython",
    "version": 2
   },
   "file_extension": ".py",
   "mimetype": "text/x-python",
   "name": "python",
   "nbconvert_exporter": "python",
   "pygments_lexer": "ipython2",
   "version": "2.7.13"
  }
 },
 "nbformat": 4,
 "nbformat_minor": 2
}
