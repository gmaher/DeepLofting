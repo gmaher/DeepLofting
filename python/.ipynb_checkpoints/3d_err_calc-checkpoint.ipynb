{
 "cells": [
  {
   "cell_type": "code",
   "execution_count": 1,
   "metadata": {},
   "outputs": [
    {
     "name": "stderr",
     "output_type": "stream",
     "text": [
      "Using TensorFlow backend.\n"
     ]
    }
   ],
   "source": [
    "import numpy as np\n",
    "import matplotlib.pyplot as plt\n",
    "from IPython.display import display, Javascript\n",
    "from modules import utility\n",
    "import os"
   ]
  },
  {
   "cell_type": "code",
   "execution_count": 2,
   "metadata": {
    "collapsed": true
   },
   "outputs": [],
   "source": [
    "mhas = open('images.txt').readlines()\n",
    "mhas = [i.replace('\\n','') for i in mhas]\n",
    "\n",
    "truths = open('truths.txt').readlines()\n",
    "truths = [i.replace('\\n','') for i in truths]\n",
    "\n",
    "paths = open('paths.txt').readlines()\n",
    "paths = [i.replace('\\n','') for i in paths]\n",
    "\n",
    "groups = open('groups.txt').readlines()\n",
    "groups = [i.replace('\\n','') for i in groups]\n",
    "\n",
    "ct_test = open('ct_test.txt').readlines()\n",
    "ct_test = [i.replace('\\n','') for i in ct_test]\n",
    "\n",
    "mr_test = open('mr_test.txt').readlines()\n",
    "mr_test = [i.replace('\\n','') for i in mr_test]"
   ]
  },
  {
   "cell_type": "code",
   "execution_count": 3,
   "metadata": {
    "collapsed": true
   },
   "outputs": [],
   "source": [
    "vtp_dir = '/home/marsdenlab/projects/DeepLofting/python/vtp'\n",
    "model_dir = '/home/marsdenlab/projects/DeepLofting/python/3d_models'\n",
    "\n",
    "vtp_files = os.listdir(vtp_dir)"
   ]
  },
  {
   "cell_type": "code",
   "execution_count": 4,
   "metadata": {},
   "outputs": [
    {
     "name": "stdout",
     "output_type": "stream",
     "text": [
      "['OSMSC0004', 'OSMSC0177', 'cabg11', 'OSMSC0179', 'OSMSC0144', 'OSMSC0148', 'OSMSC0150', 'OSMSC0119']\n",
      "['0119_0001_i2ifc.LPA_br2_br1.vtp', '0150_0001_oof.celiac_hepatic.vtp', '0179_0001_truth.C_left.vtp', 'cabg11_all_oof.lca2.vtp', '0119_0001_i2i3d.LPA_br12.vtp', '0110_0001_i2i3d.right_iliac.vtp', '0177_0000_i2i3d.in_iliac_left.vtp', '0148_1001_i2i.renal_left.vtp', '0171_0001_i2i3d.R_incrd_b4.vtp', '0119_0001_i2i.RPA_br12_br4.vtp']\n",
      "['OSMSC0004', 'OSMSC0177', 'cabg11', 'OSMSC0179', 'OSMSC0144', 'OSMSC0148', 'OSMSC0150', 'OSMSC0119', 'OSMSC0006', 'OSMSC0101', 'OSMSC0171', 'OSMSC0178', 'OSMSC0110']\n"
     ]
    }
   ],
   "source": [
    "print ct_test\n",
    "print vtp_files[:10]\n",
    "IMAGES = ct_test+mr_test\n",
    "print IMAGES\n",
    "codes = ['truth','i2ifc','i2i3d','i2i','drls','oof']"
   ]
  },
  {
   "cell_type": "code",
   "execution_count": 5,
   "metadata": {
    "collapsed": true
   },
   "outputs": [],
   "source": [
    "model_dict = {}\n",
    "for model in IMAGES:\n",
    "    \n",
    "    if not model_dict.has_key(model):\n",
    "        model_dict[model] = {}\n",
    "        m = model.replace('OSMSC','')\n",
    "        \n",
    "    for code in codes:\n",
    "        if not model_dict[model].has_key(code):\n",
    "            model_dict[model][code] = {}\n",
    "        f = [v for v in vtp_files if (code in v and m in v)]\n",
    "        model_dict[model][code]['files'] = f"
   ]
  },
  {
   "cell_type": "code",
   "execution_count": null,
   "metadata": {},
   "outputs": [
    {
     "name": "stdout",
     "output_type": "stream",
     "text": [
      "{'oof': {'files': ['0177_0000_oof.dc_2.vtp', '0177_0000_oof.dc_1.vtp', '0177_0000_oof.LSA.vtp', '0177_0000_oof.LCCA.vtp', '0177_0000_oof.celiac_hepatic.vtp', '0177_0000_oof.in_iliac_right.vtp', '0177_0000_oof.dc_4.vtp', '0177_0000_oof.renal_right.vtp', '0177_0000_oof.renal_left.vtp', '0177_0000_oof.RSA.vtp', '0177_0000_oof.dc_5.vtp', '0177_0000_oof.disection.vtp', '0177_0000_oof.in_iliac_left.vtp', '0177_0000_oof.dc_3.vtp', '0177_0000_oof.aorta.vtp', '0177_0000_oof.IMA.vtp', '0177_0000_oof.RCCA.vtp', '0177_0000_oof.SMA.vtp', '0177_0000_oof.celiac_splenic.vtp', '0177_0000_oof.ext_iliac_left.vtp']}, 'truth': {'files': ['0177_0000_truth.in_iliac_left.vtp', '0177_0000_truth.disection.vtp', '0177_0000_truth.RSA.vtp', '0177_0000_truth.IMA.vtp', '0177_0000_truth.renal_right.vtp', '0177_0000_truth.aorta.vtp', '0177_0000_truth.renal_left.vtp', '0177_0000_truth.RCCA.vtp', '0177_0000_truth.LCCA.vtp', '0177_0000_truth.SMA.vtp', '0177_0000_truth.dc_2.vtp', '0177_0000_truth.ext_iliac_left.vtp', '0177_0000_truth.dc_4.vtp', '0177_0000_truth.dc_1.vtp', '0177_0000_truth.dc_3.vtp', '0177_0000_truth.celiac_splenic.vtp', '0177_0000_truth.dc_5.vtp', '0177_0000_truth.celiac_hepatic.vtp', '0177_0000_truth.in_iliac_right.vtp', '0177_0000_truth.LSA.vtp']}, 'i2i3d': {'files': ['0177_0000_i2i3d.in_iliac_left.vtp', '0177_0000_i2i3d.renal_left.vtp', '0177_0000_i2i3d.dc_1.vtp', '0177_0000_i2i3d.LSA.vtp', '0177_0000_i2i3d.disection.vtp', '0177_0000_i2i3d.aorta.vtp', '0177_0000_i2i3d.in_iliac_right.vtp', '0177_0000_i2i3d.IMA.vtp', '0177_0000_i2i3d.celiac_splenic.vtp', '0177_0000_i2i3d.dc_5.vtp', '0177_0000_i2i3d.dc_2.vtp', '0177_0000_i2i3d.LCCA.vtp', '0177_0000_i2i3d.renal_right.vtp', '0177_0000_i2i3d.RSA.vtp', '0177_0000_i2i3d.SMA.vtp', '0177_0000_i2i3d.dc_4.vtp', '0177_0000_i2i3d.ext_iliac_left.vtp', '0177_0000_i2i3d.RCCA.vtp', '0177_0000_i2i3d.celiac_hepatic.vtp', '0177_0000_i2i3d.dc_3.vtp']}, 'i2i': {'files': ['0177_0000_i2i3d.in_iliac_left.vtp', '0177_0000_i2i.RCCA.vtp', '0177_0000_i2ifc.celiac_hepatic.vtp', '0177_0000_i2i3d.renal_left.vtp', '0177_0000_i2i.renal_right.vtp', '0177_0000_i2i.dc_4.vtp', '0177_0000_i2i3d.dc_1.vtp', '0177_0000_i2ifc.RSA.vtp', '0177_0000_i2ifc.dc_1.vtp', '0177_0000_i2ifc.ext_iliac_left.vtp', '0177_0000_i2i3d.LSA.vtp', '0177_0000_i2ifc.LSA.vtp', '0177_0000_i2i3d.disection.vtp', '0177_0000_i2ifc.SMA.vtp', '0177_0000_i2i.dc_5.vtp', '0177_0000_i2ifc.dc_5.vtp', '0177_0000_i2i.in_iliac_right.vtp', '0177_0000_i2i.ext_iliac_left.vtp', '0177_0000_i2ifc.in_iliac_left.vtp', '0177_0000_i2i.dc_3.vtp', '0177_0000_i2i.LCCA.vtp', '0177_0000_i2i3d.aorta.vtp', '0177_0000_i2ifc.IMA.vtp', '0177_0000_i2ifc.renal_right.vtp', '0177_0000_i2i3d.in_iliac_right.vtp', '0177_0000_i2i3d.IMA.vtp', '0177_0000_i2ifc.dc_3.vtp', '0177_0000_i2i.SMA.vtp', '0177_0000_i2i.in_iliac_left.vtp', '0177_0000_i2i.disection.vtp', '0177_0000_i2i3d.celiac_splenic.vtp', '0177_0000_i2i.dc_2.vtp', '0177_0000_i2i3d.dc_5.vtp', '0177_0000_i2i.RSA.vtp', '0177_0000_i2ifc.in_iliac_right.vtp', '0177_0000_i2ifc.RCCA.vtp', '0177_0000_i2ifc.aorta.vtp', '0177_0000_i2i.celiac_hepatic.vtp', '0177_0000_i2i3d.dc_2.vtp', '0177_0000_i2i.LSA.vtp', '0177_0000_i2i3d.LCCA.vtp', '0177_0000_i2i.dc_1.vtp', '0177_0000_i2i.renal_left.vtp', '0177_0000_i2i3d.renal_right.vtp', '0177_0000_i2i.aorta.vtp', '0177_0000_i2i3d.RSA.vtp', '0177_0000_i2i3d.SMA.vtp', '0177_0000_i2i3d.dc_4.vtp', '0177_0000_i2i3d.ext_iliac_left.vtp', '0177_0000_i2i.IMA.vtp', '0177_0000_i2i3d.RCCA.vtp', '0177_0000_i2i3d.celiac_hepatic.vtp', '0177_0000_i2ifc.disection.vtp', '0177_0000_i2ifc.celiac_splenic.vtp', '0177_0000_i2i3d.dc_3.vtp', '0177_0000_i2ifc.dc_4.vtp', '0177_0000_i2ifc.renal_left.vtp', '0177_0000_i2ifc.LCCA.vtp', '0177_0000_i2i.celiac_splenic.vtp', '0177_0000_i2ifc.dc_2.vtp']}, 'drls': {'files': ['0177_0000_drls.in_iliac_right.vtp', '0177_0000_drls.dc_5.vtp', '0177_0000_drls.RSA.vtp', '0177_0000_drls.dc_4.vtp', '0177_0000_drls.dc_1.vtp', '0177_0000_drls.IMA.vtp', '0177_0000_drls.disection.vtp', '0177_0000_drls.LCCA.vtp', '0177_0000_drls.dc_3.vtp', '0177_0000_drls.in_iliac_left.vtp', '0177_0000_drls.renal_right.vtp', '0177_0000_drls.SMA.vtp', '0177_0000_drls.ext_iliac_left.vtp', '0177_0000_drls.aorta.vtp', '0177_0000_drls.renal_left.vtp', '0177_0000_drls.RCCA.vtp', '0177_0000_drls.celiac_hepatic.vtp', '0177_0000_drls.celiac_splenic.vtp', '0177_0000_drls.LSA.vtp']}, 'i2ifc': {'files': ['0177_0000_i2ifc.celiac_hepatic.vtp', '0177_0000_i2ifc.RSA.vtp', '0177_0000_i2ifc.dc_1.vtp', '0177_0000_i2ifc.ext_iliac_left.vtp', '0177_0000_i2ifc.LSA.vtp', '0177_0000_i2ifc.SMA.vtp', '0177_0000_i2ifc.dc_5.vtp', '0177_0000_i2ifc.in_iliac_left.vtp', '0177_0000_i2ifc.IMA.vtp', '0177_0000_i2ifc.renal_right.vtp', '0177_0000_i2ifc.dc_3.vtp', '0177_0000_i2ifc.in_iliac_right.vtp', '0177_0000_i2ifc.RCCA.vtp', '0177_0000_i2ifc.aorta.vtp', '0177_0000_i2ifc.disection.vtp', '0177_0000_i2ifc.celiac_splenic.vtp', '0177_0000_i2ifc.dc_4.vtp', '0177_0000_i2ifc.renal_left.vtp', '0177_0000_i2ifc.LCCA.vtp', '0177_0000_i2ifc.dc_2.vtp']}}\n"
     ]
    }
   ],
   "source": [
    "print model_dict[ct_test[1]]"
   ]
  },
  {
   "cell_type": "code",
   "execution_count": null,
   "metadata": {},
   "outputs": [
    {
     "name": "stdout",
     "output_type": "stream",
     "text": [
      "OSMSC0101"
     ]
    }
   ],
   "source": [
    "merged_pds = []\n",
    "for m in model_dict.keys():\n",
    "    for c in model_dict[m].keys():\n",
    "        print m,c\n",
    "        p_list = model_dict[m][c]['files']\n",
    "        p_list = [vtp_dir+'/'+p for p in p_list]\n",
    "        p_list = utility.get_pds_from_files(p_list)\n",
    "        p      = utility.merge_pds(p_list)\n",
    "        model_dict[m][c]['pd'] = p\n",
    "        merged_pds.append(p)\n",
    "        utility.write_pd(p,'./3d_models/{}_{}.vtp'.format(m,c))"
   ]
  },
  {
   "cell_type": "code",
   "execution_count": null,
   "metadata": {
    "collapsed": true
   },
   "outputs": [],
   "source": [
    "for m in model_dict.keys():\n",
    "    for c in model_dict[m].keys():\n",
    "# m = 'OSMSC0113'\n",
    "# c = 'i2ifc'\n",
    "        \n",
    "        p = model_dict[m][c]['pd']\n",
    "        p_smooth = utility.vtkSmoothPD(p, iters=10, relax=1.0)\n",
    "        utility.write_pd(p_smooth,'./3d_models/{}_{}_smooth.vtp'.format(m,c))"
   ]
  },
  {
   "cell_type": "code",
   "execution_count": null,
   "metadata": {
    "collapsed": true
   },
   "outputs": [],
   "source": [
    "test_images = []\n",
    "for i in range(len(mhas)):\n",
    "    if any([c in mhas[i] for c in IMAGES]):\n",
    "        test_images.append((mhas[i],truths[i],paths[i],groups[i]))\n",
    "        \n",
    "print test_images"
   ]
  },
  {
   "cell_type": "code",
   "execution_count": null,
   "metadata": {
    "collapsed": true
   },
   "outputs": [],
   "source": [
    "import vtk\n",
    "import SimpleITK as sitk\n",
    "meta_dict = {}\n",
    "for i in range(len(test_images)):\n",
    "    im_file = test_images[i][0]\n",
    "    print im_file\n",
    "    reader = vtk.vtkMetaImageReader()\n",
    "    reader.SetFileName(im_file)\n",
    "    reader.Update()\n",
    "    im = reader.GetOutput()\n",
    "\n",
    "    spacing = im.GetSpacing()\n",
    "    extent  = im.GetExtent()\n",
    "    origin  = im.GetOrigin()\n",
    "    s = extent[1::2]\n",
    "    model = [c for c in IMAGES if c in im_file][0]\n",
    "    meta_dict[model] = {}\n",
    "    meta_dict[model]['spacing'] = spacing\n",
    "    meta_dict[model]['origin'] = origin\n",
    "    \n",
    "    for c in model_dict[model].keys():\n",
    "        print model,c\n",
    "        pd = model_dict[model][c]['pd']\n",
    "        print pd.GetNumberOfPoints()\n",
    "        pd_np = utility.pd_to_numpy_vol(pd,spacing,shape=s,origin=origin,foreground_value=1)\n",
    "        print np.sum(pd_np)\n",
    "        model_dict[model][c]['np'] = pd_np\n",
    "        \n",
    "        np.save('./3d_models/{}_{}.npy'.format(model,c),pd_np)\n",
    "        \n",
    "        img = sitk.GetImageFromArray(pd_np)\n",
    "        img.SetOrigin(origin)\n",
    "        img.SetSpacing(spacing)\n",
    "        sitk.WriteImage(img,'3d_models/{}_{}.mha'.format(model,c))"
   ]
  },
  {
   "cell_type": "code",
   "execution_count": null,
   "metadata": {
    "collapsed": true
   },
   "outputs": [],
   "source": [
    "import pandas as pd\n",
    "import SimpleITK as sitk\n",
    "from medpy.metric.binary import hd, assd, dc, precision\n",
    "\n",
    "df = pd.DataFrame(columns=['image','code','jaccard','hausdorf','ASSD','dice'])\n",
    "\n",
    "for m in model_dict.keys():\n",
    "    truth_np = np.load(model_dir+'/{}_truth.npy'.format(m))\n",
    "    truth_np=truth_np[::2,::2,::2]\n",
    "    spacing = meta_dict[model]['spacing']\n",
    "    \n",
    "    im_file = [t[0] for t in test_images if m in t[0]][0]\n",
    "    print im_file\n",
    "\n",
    "    im = sitk.ReadImage(im_file)\n",
    "    \n",
    "    for c in model_dict[m].keys():\n",
    "        print m, c\n",
    "        pred_np = np.load(model_dir+'/{}_{}.npy'.format(m,c))\n",
    "        pred_np = pred_np[::2,::2,::2]\n",
    "        if np.sum(pred_np) <1:\n",
    "            pred_np[0,0,0] = 1\n",
    "        print truth_np.shape,pred_np.shape\n",
    "        \n",
    "        e_hd = hd(truth_np,pred_np, spacing[0])\n",
    "        \n",
    "        #e_j = utility.jaccard3D_pd_to_itk(model_dict[m]['truth']['pd'], model_dict[m][c]['pd'],im)\n",
    "        \n",
    "        e_asd = assd(truth_np,pred_np, spacing[0])\n",
    "\n",
    "        #e_dc = dc(truth_np,pred_np)\n",
    "        \n",
    "        #e_ap = precision(truth_np, pred_np)\n",
    "        \n",
    "        TP = np.sum(pred_np*truth_np)\n",
    "        FP = np.sum((1-truth_np)*pred_np)\n",
    "        TN = np.sum((1-truth_np)*(1-pred_np))\n",
    "        FN = np.sum(truth_np*(1-pred_np))\n",
    "        \n",
    "        d = {'image': m, 'code':c,'hausdorf':e_hd, 'ASSD':e_asd,\"TP\":TP,\"FP\":FP,\"TN\":TN,\"FN\":FN}\n",
    "        #d = {'image': m, 'code':c, 'jaccard':e_j, 'hausdorf':e_hd, 'ASSD':e_asd, 'dice':e_dc, 'ap':e_ap}\n",
    "        df = df.append(d, ignore_index=True)\n"
   ]
  },
  {
   "cell_type": "code",
   "execution_count": null,
   "metadata": {
    "collapsed": true
   },
   "outputs": [],
   "source": [
    "print truth_np.shape\n",
    "print pred_np.shape"
   ]
  },
  {
   "cell_type": "code",
   "execution_count": null,
   "metadata": {
    "collapsed": true
   },
   "outputs": [],
   "source": [
    "print np.sum(truth_np), np.sum(pred_np)"
   ]
  },
  {
   "cell_type": "code",
   "execution_count": null,
   "metadata": {
    "collapsed": true
   },
   "outputs": [],
   "source": [
    "print df"
   ]
  },
  {
   "cell_type": "code",
   "execution_count": 27,
   "metadata": {},
   "outputs": [
    {
     "name": "stdout",
     "output_type": "stream",
     "text": [
      "truth\n",
      "i2ifc\n",
      "i2i3d\n",
      "i2i\n",
      "drls\n",
      "oof\n",
      "CT\n",
      "oof & $0.331$ & $0.792$ & $2.144$ & $0.150 & $0.474$ \\\n",
      "drls & $0.420$ & $0.719$ & $2.133$ & $0.132 & $0.555$ \\\n",
      "i2i & $0.451$ & $0.699$ & $2.148$ & $0.151 & $0.625$ \\\n",
      "i2i3d & $0.581$ & $0.585$ & $1.857$ & $0.095 & $0.606$ \\\n",
      "i2ifc & $0.585$ & $0.582$ & $2.129$ & $0.122 & $0.765$ \\\n",
      "truth & $1.000$ & $0.000$ & $0.000$ & $0.000 & $1.000$ \\\n",
      "truth\n",
      "i2ifc\n",
      "i2i3d\n",
      "i2i\n",
      "drls\n",
      "oof\n",
      "MR\n",
      "drls & $0.341$ & $0.771$ & $1.817$ & $0.155 & $0.595$ \\\n",
      "oof & $0.367$ & $0.749$ & $1.686$ & $0.139 & $0.575$ \\\n",
      "i2i & $0.489$ & $0.658$ & $1.450$ & $0.101 & $0.697$ \\\n",
      "i2i3d & $0.550$ & $0.609$ & $1.426$ & $0.094 & $0.689$ \\\n",
      "i2ifc & $0.603$ & $0.545$ & $1.377$ & $0.085 & $0.836$ \\\n",
      "truth & $1.000$ & $0.000$ & $0.000$ & $0.000 & $1.000$ \\\n"
     ]
    }
   ],
   "source": [
    "strings = []\n",
    "for CODE in ['CT','MR']:\n",
    "    l = ct_test\n",
    "    if CODE == 'MR': l = mr_test\n",
    "    strings = []\n",
    "    f = open('{}_3d_err_.txt'.format(CODE),'w')\n",
    "    for c in codes:\n",
    "        print c\n",
    "        t1 = [any([H==K for K in l]) for H in df['image']]\n",
    "        t2 = [d==c for d in df['code']]\n",
    "        t3 = [H and K for H,K in zip(t1,t2)]\n",
    "        #a = df.loc[(df['code']==c) and [df['image'] == c for c in mr_test])].mean()\n",
    "        a = df.loc[t3].mean()\n",
    "        #print df.loc[df['code']==c].std()\n",
    "        s = \"{} & ${:.3f}$ & ${:.3f}$ \\\\\".format(c,a['hausdorf'],a['ASSD'])\n",
    "        strings.append((a['dice'],s))\n",
    "\n",
    "    strings = sorted(strings,key = lambda x: x[0])\n",
    "    print CODE\n",
    "    for s in strings:\n",
    "        print s[1]\n",
    "        f.write(s[1]+'\\n')\n",
    "    f.close()"
   ]
  },
  {
   "cell_type": "code",
   "execution_count": 28,
   "metadata": {
    "collapsed": true
   },
   "outputs": [],
   "source": [
    "df.to_csv('3derrs.csv')\n"
   ]
  },
  {
   "cell_type": "code",
   "execution_count": null,
   "metadata": {
    "collapsed": true
   },
   "outputs": [],
   "source": []
  }
 ],
 "metadata": {
  "kernelspec": {
   "display_name": "Python [conda root]",
   "language": "python",
   "name": "conda-root-py"
  },
  "language_info": {
   "codemirror_mode": {
    "name": "ipython",
    "version": 2
   },
   "file_extension": ".py",
   "mimetype": "text/x-python",
   "name": "python",
   "nbconvert_exporter": "python",
   "pygments_lexer": "ipython2",
   "version": "2.7.13"
  }
 },
 "nbformat": 4,
 "nbformat_minor": 2
}
