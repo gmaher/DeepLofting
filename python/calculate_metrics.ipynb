{
 "cells": [
  {
   "cell_type": "code",
   "execution_count": 1,
   "metadata": {},
   "outputs": [
    {
     "name": "stderr",
     "output_type": "stream",
     "text": [
      "Using TensorFlow backend.\n"
     ]
    },
    {
     "data": {
      "application/javascript": [
       "\n",
       "IPython.OutputArea.prototype._should_scroll = function(lines) {\n",
       "    return false;\n",
       "}\n"
      ],
      "text/plain": [
       "<IPython.core.display.Javascript object>"
      ]
     },
     "metadata": {},
     "output_type": "display_data"
    },
    {
     "name": "stdout",
     "output_type": "stream",
     "text": [
      "autoscrolling long output is disabled\n"
     ]
    }
   ],
   "source": [
    "import tensorflow as tf\n",
    "import modules.layers as tf_util\n",
    "import modules.utility as util\n",
    "import numpy as np\n",
    "import tables\n",
    "import matplotlib\n",
    "import matplotlib.pyplot as plt\n",
    "from scipy.ndimage import rotate\n",
    "from IPython.display import display, Javascript\n",
    "from sklearn.metrics import precision_recall_curve\n",
    "from medpy.metric.binary import hd, assd,dc,precision\n",
    "plt.style.use('ggplot')\n",
    "%matplotlib inline\n",
    "matplotlib.rcParams['font.size'] = 13\n",
    "\n",
    "disable_js = \"\"\"\n",
    "IPython.OutputArea.prototype._should_scroll = function(lines) {\n",
    "    return false;\n",
    "}\n",
    "\"\"\"\n",
    "\n",
    "def disable_scroll():\n",
    "    display(Javascript(disable_js))\n",
    "    print (\"autoscrolling long output is disabled\")\n",
    "    \n",
    "disable_scroll()\n",
    "\n",
    "import logging\n",
    "logger = logging.getLogger()\n",
    "logger.setLevel(logging.ERROR)\n",
    "\n",
    "def reorder_contour(c):\n",
    "    N = len(c)\n",
    "    even_inds = np.arange(0,N,2)\n",
    "    odd_inds = np.arange(1,N,2)\n",
    "    \n",
    "    even_points = np.asarray([c[i] for i in even_inds])\n",
    "    odd_points = np.asarray([c[i] for i in odd_inds])\n",
    "    \n",
    "    N_even = len(even_points)\n",
    "    ret = np.zeros_like(c)\n",
    "    ret[:N_even] = even_points\n",
    "    ret[N_even:] = np.flipud(odd_points)\n",
    "    ret = ret[:-2]\n",
    "    return ret.copy()"
   ]
  },
  {
   "cell_type": "code",
   "execution_count": 2,
   "metadata": {},
   "outputs": [
    {
     "name": "stdout",
     "output_type": "stream",
     "text": [
      "[('/home/marsdenlab/datasets/vascular_data/OSMSC0004/OSMSC0004-cm.mha', '/home/marsdenlab/datasets/vascular_data/OSMSC0004/0004_0001/0004_0001-cm.mha', '/home/marsdenlab/datasets/vascular_data/OSMSC0004/0004_0001/0004_0001-cm.paths', '/home/marsdenlab/datasets/vascular_data/OSMSC0004/0004_0001/0004_0001_groups-cm'), ('/home/marsdenlab/datasets/vascular_data/OSMSC0113/OSMSC0113-cm.mha', '/home/marsdenlab/datasets/vascular_data/OSMSC0113/0113_0003/0113_0003-cm.mha', '/home/marsdenlab/datasets/vascular_data/OSMSC0113/0113_0003/0113_0003-cm.paths', '/home/marsdenlab/datasets/vascular_data/OSMSC0113/0113_0003/0113_0003_groups-cm'), ('/home/marsdenlab/datasets/vascular_data/OSMSC0118/OSMSC0118-cm.mha', '/home/marsdenlab/datasets/vascular_data/OSMSC0118/0118_1000/0118_1000-cm.mha', '/home/marsdenlab/datasets/vascular_data/OSMSC0118/0118_1000/0118_1000-cm.paths', '/home/marsdenlab/datasets/vascular_data/OSMSC0118/0118_1000/0118_1000_groups-cm'), ('/home/marsdenlab/datasets/vascular_data/OSMSC0129/OSMSC0129-cm.mha', '/home/marsdenlab/datasets/vascular_data/OSMSC0129/0129_0000/0129_0000-cm.mha', '/home/marsdenlab/datasets/vascular_data/OSMSC0129/0129_0000/0129_0000-cm.paths', '/home/marsdenlab/datasets/vascular_data/OSMSC0129/0129_0000/0129_0000_groups-cm'), ('/home/marsdenlab/datasets/vascular_data/OSMSC0144/OSMSC0144-cm.mha', '/home/marsdenlab/datasets/vascular_data/OSMSC0144/0144_1001/0144_1001-cm.mha', '/home/marsdenlab/datasets/vascular_data/OSMSC0144/0144_1001/0144_1001-cm.paths', '/home/marsdenlab/datasets/vascular_data/OSMSC0144/0144_1001/0144_1001_groups-cm'), ('/home/marsdenlab/datasets/vascular_data/OSMSC0148/OSMSC0148-cm.mha', '/home/marsdenlab/datasets/vascular_data/OSMSC0148/0148_1001/0148_1001-cm.mha', '/home/marsdenlab/datasets/vascular_data/OSMSC0148/0148_1001/0148_1001-cm.paths', '/home/marsdenlab/datasets/vascular_data/OSMSC0148/0148_1001/0148_1001_groups-cm'), ('/home/marsdenlab/datasets/vascular_data/OSMSC0177/OSMSC0177-cm.mha', '/home/marsdenlab/datasets/vascular_data/OSMSC0177/0177_0000/0177_0000-cm.mha', '/home/marsdenlab/datasets/vascular_data/OSMSC0177/0177_0000/0177_0000-cm.paths', '/home/marsdenlab/datasets/vascular_data/OSMSC0177/0177_0000/0177_0000_groups-cm'), ('/home/marsdenlab/datasets/vascular_data/OSMSC0180/OSMSC0180-cm.mha', '/home/marsdenlab/datasets/vascular_data/OSMSC0180/0180_0000/0180_0000-cm.mha', '/home/marsdenlab/datasets/vascular_data/OSMSC0180/0180_0000/0180_0000-cm.paths', '/home/marsdenlab/datasets/vascular_data/OSMSC0180/0180_0000/0180_0000_groups-cm'), ('/home/marsdenlab/datasets/vascular_data/cabg11/cabg11-image.mha', '/home/marsdenlab/datasets/vascular_data/cabg11/cabg11_all/cabg11_all.mha', '/home/marsdenlab/datasets/vascular_data/cabg11/cabg11_all/cabg11_all.paths', '/home/marsdenlab/datasets/vascular_data/cabg11/cabg11_all/cabg11_all_groups')]\n"
     ]
    }
   ],
   "source": [
    "mhas = open('images.txt').readlines()\n",
    "mhas = [i.replace('\\n','') for i in mhas]\n",
    "# mhas = [i.split('/')[-1] for i in mhas]\n",
    "# mhas = ['./data/'+i for i in mhas]\n",
    "\n",
    "truths = open('truths.txt').readlines()\n",
    "truths = [i.replace('\\n','') for i in truths]\n",
    "\n",
    "paths = open('paths.txt').readlines()\n",
    "paths = [i.replace('\\n','') for i in paths]\n",
    "\n",
    "groups = open('groups.txt').readlines()\n",
    "groups = [i.replace('\\n','') for i in groups]\n",
    "\n",
    "ct_test = open('ct_test.txt').readlines()\n",
    "ct_test = [i.replace('\\n','') for i in ct_test]\n",
    "\n",
    "test_images = []\n",
    "for i in range(len(mhas)):\n",
    "    if any([c in mhas[i] for c in ct_test]):\n",
    "        test_images.append((mhas[i],truths[i],paths[i],groups[i]))\n",
    "        \n",
    "print test_images"
   ]
  },
  {
   "cell_type": "code",
   "execution_count": 3,
   "metadata": {
    "collapsed": true
   },
   "outputs": [],
   "source": [
    "#######################################################\n",
    "# Get data\n",
    "#######################################################\n",
    "data_path = '/media/marsdenlab/Data2/datasets/DeepLofting/'\n",
    "test = data_path+'test_192_ct.hdf5'\n",
    "f_test = tables.open_file(test)\n"
   ]
  },
  {
   "cell_type": "code",
   "execution_count": 4,
   "metadata": {},
   "outputs": [
    {
     "name": "stdout",
     "output_type": "stream",
     "text": [
      "(31588, 2)\n",
      "[ 0.05859375  0.05859375]\n"
     ]
    }
   ],
   "source": [
    "N,W,H,C = f_test.root.X.shape\n",
    "#C_truth = [util.marchingSquares(y.astype(np.float32),iso=0.5,mode='center') for y in f_test.root.Y[:,:,:,0]]\n",
    "crop_dims = 128\n",
    "print f_test.root.meta.shape\n",
    "print f_test.root.meta[0]\n",
    "Y = np.asarray(f_test.root.Y)\n",
    "Y = Y.astype(int)"
   ]
  },
  {
   "cell_type": "code",
   "execution_count": 5,
   "metadata": {
    "collapsed": true
   },
   "outputs": [],
   "source": [
    "Y = util.crop_center_nd(Y,crop_dims, crop_dims)"
   ]
  },
  {
   "cell_type": "code",
   "execution_count": 6,
   "metadata": {},
   "outputs": [
    {
     "name": "stdout",
     "output_type": "stream",
     "text": [
      "31588\n",
      "[[ -1.29760742e-01   1.15633011e-05]\n",
      " [ -1.23840332e-01  -4.02221680e-02]\n",
      " [ -1.07238770e-01  -7.78808594e-02]\n",
      " [ -7.95288086e-02  -1.09497070e-01]\n",
      " [ -4.24804688e-02  -1.30737305e-01]\n",
      " [  8.34465027e-07  -1.38549805e-01]\n",
      " [  4.27246094e-02  -1.31469727e-01]\n",
      " [  8.04443359e-02  -1.10717773e-01]\n",
      " [  1.08703613e-01  -7.89794922e-02]\n",
      " [  1.25122070e-01  -4.06799316e-02]\n",
      " [  1.29760742e-01  -0.00000000e+00]\n",
      " [  1.23901367e-01   4.02526855e-02]\n",
      " [  1.07238770e-01   7.78808594e-02]\n",
      " [  7.95898438e-02   1.09497070e-01]\n",
      " [  4.24804688e-02   1.30737305e-01]\n",
      " [ -9.53674316e-07   1.38427734e-01]\n",
      " [ -4.27551270e-02   1.31591797e-01]\n",
      " [ -8.04443359e-02   1.10717773e-01]\n",
      " [ -1.08764648e-01   7.89794922e-02]\n",
      " [ -1.25122070e-01   4.06494141e-02]]\n"
     ]
    },
    {
     "data": {
      "image/png": "[encoded data removed]",
      "text/plain": [
       "<matplotlib.figure.Figure at 0x7f9530489890>"
      ]
     },
     "metadata": {},
     "output_type": "display_data"
    }
   ],
   "source": [
    "C_truth = f_test.root.C[:N]\n",
    "print len(C_truth)\n",
    "print C_truth[0]\n",
    "\n",
    "plt.figure()\n",
    "plt.plot(C_truth[0][:,0],C_truth[0][:,1])\n",
    "plt.show()\n",
    "plt.close()\n",
    "# np.save('truth_conts_ct.npy',C_truth)"
   ]
  },
  {
   "cell_type": "code",
   "execution_count": 7,
   "metadata": {
    "collapsed": true
   },
   "outputs": [],
   "source": [
    "def calc_errors(err_dict,pred_dict,c_truth,y_truth,meta,code):\n",
    "    \n",
    "    err_dict[code] = {}\n",
    "    \n",
    "    y = util.threshold(pred_dict[code]['y'],0.2).astype(int)\n",
    "    c = pred_dict[code]['c']\n",
    "    \n",
    "    N = len(y)\n",
    "    Ntruth = len(y_truth)\n",
    "   \n",
    "    if not N == Ntruth:\n",
    "        raise RuntimeError('number of predicted and true segs does not match {},{}'.format(N,Ntruth))\n",
    "    \n",
    "    Nc = len(pred_dict[code]['c'])\n",
    "    Nc_truth = len(c_truth)\n",
    "\n",
    "    if not Nc == Nc_truth:\n",
    "        raise RuntimeError('number of predicted and true conts does not match {},{}'.format(Nc,Nc_truth))\n",
    "\n",
    "    print \"Error calc {} y {}, y_truth {}, c {}, c_truth {}\".format(code,y.shape,y_truth.shape,len(c),len(c_truth))\n",
    "\n",
    "    #JACCARD\n",
    "    err_dict[code]['jaccard'] = util.listAreaOverlapError(c,c_truth)\n",
    "\n",
    "    #HAUSDORF\n",
    "    err_dict[code]['hausdorf'] = []\n",
    "    for i in range(N):\n",
    "        if np.sum(y_truth[i]) > 0.1:\n",
    "            if np.sum(y[i])>0.1:\n",
    "                e = hd(y[i,:,:,0], y_truth[i,:,:,0], meta[i][0])\n",
    "                err_dict[code]['hausdorf'].append(e)\n",
    "\n",
    "    #ASSD\n",
    "    err_dict[code]['assd'] = [] \n",
    "\n",
    "    for i in range(N):\n",
    "        if np.sum(y_truth[i]) > 0.1:\n",
    "            if np.sum(y[i])>0.1:\n",
    "                e = assd(y[i,:,:,0],y_truth[i,:,:,0],f_test.root.meta[i][0])\n",
    "                err_dict[code]['assd'].append(e)\n",
    "\n",
    "    #DICE\n",
    "    err_dict[code]['dice'] = [] \n",
    "\n",
    "    for i in range(N):\n",
    "        if np.sum(y_truth[i]) > 0.1:\n",
    "            if np.sum(y[i])>0.1:\n",
    "                e = dc(y[i,:,:,0],y_truth[i,:,:,0])\n",
    "                err_dict[code]['dice'].append(e)\n",
    "    \n",
    "    y = pred_dict[code]['y'].astype(float)\n",
    "    \n",
    "    #precision recall\n",
    "    err_dict[code]['pr'] = precision_recall_curve(np.ravel(y_truth),np.ravel(y))\n",
    "                \n",
    "def get_preds(pred_dict,ct_c,ct_y,mr_c,mr_y,code):\n",
    "    pred_dict[code] = {}\n",
    "    pred_dict[code]['y'] = np.load(ct_y)\n",
    "\n",
    "    pred_dict[code]['c'] = np.load(ct_c)\n",
    "    \n",
    "#     pred_dict[code]['y'] = np.concatenate((pred_dict[code]['y'], np.load(mr_y)))\n",
    "\n",
    "#     pred_dict[code]['c'] = np.concatenate((pred_dict[code]['c'],np.load(mr_c)))\n",
    "    \n",
    "    print \"segs and contours for {}, y shape = {}, c shape = {}\".format(code,pred_dict[code]['y'].shape,\n",
    "                                                                    pred_dict[code]['c'].shape)"
   ]
  },
  {
   "cell_type": "code",
   "execution_count": 8,
   "metadata": {},
   "outputs": [
    {
     "name": "stdout",
     "output_type": "stream",
     "text": [
      "31588 31588\n",
      "segs and contours for i2ifc, y shape = (31588, 128, 128, 1), c shape = (31588,)\n",
      "i2ifc shape = y (31588, 128, 128, 1), c 31588, (38, 2)\n",
      "Error calc i2ifc y (31588, 128, 128, 1), y_truth (31588, 128, 128, 1), c 31588, c_truth 31588\n"
     ]
    }
   ],
   "source": [
    "PREDS = {}\n",
    "ERRORS = {}\n",
    "\n",
    "code = 'i2ifc'\n",
    "ct_c = 'i2i_conts_CT.npy'\n",
    "ct_y = 'i2i_segs_CT.npy'\n",
    "mr_c = 'i2i_conts_ct.npy'\n",
    "mr_y = 'i2i_segs_ct.npy'\n",
    "\n",
    "c_truth = C_truth\n",
    "y_truth = Y\n",
    "\n",
    "print len(y_truth),len(c_truth)\n",
    "get_preds(PREDS, ct_c, ct_y, mr_c, mr_y, code)\n",
    "\n",
    "#NOTE ADDING 32 BECAUSE EXTRACTED FROM CROPPED IMAGES\n",
    "PREDS[code]['c'] = [c[:,:2]-64 for c in PREDS[code]['c']]\n",
    "PREDS[code]['c'] = [PREDS[code]['c'][i]*f_test.root.meta[i] for i in  range(len(C_truth))]\n",
    "PREDS[code]['c'] = [reorder_contour(c) for c in PREDS[code]['c']]\n",
    "\n",
    "print \"{} shape = y {}, c {}, {}\".format(code,PREDS[code]['y'].shape,len(PREDS[code]['c']),\n",
    "                                         PREDS[code]['c'][0].shape)\n",
    "\n",
    "#ERROR CALCULATION\n",
    "calc_errors(ERRORS,PREDS,c_truth,y_truth,f_test.root.meta,code)"
   ]
  },
  {
   "cell_type": "code",
   "execution_count": 9,
   "metadata": {},
   "outputs": [
    {
     "name": "stdout",
     "output_type": "stream",
     "text": [
      "segs and contours for i2i, y shape = (31588, 128, 128, 1), c shape = (31588,)\n",
      "i2i shape = y (31588, 128, 128, 1), c 31588, (22, 2)\n",
      "Error calc i2i y (31588, 128, 128, 1), y_truth (31588, 128, 128, 1), c 31588, c_truth 31588\n"
     ]
    }
   ],
   "source": [
    "code = 'i2i'\n",
    "ct_c = 'i2i_vanilla_conts_ct.npy'\n",
    "ct_y = 'i2i_vanilla_segs_ct.npy'\n",
    "mr_c = 'i2i_vanilla_conts_mr.npy'\n",
    "mr_y = 'i2i_vanilla_segs_mr.npy'\n",
    "\n",
    "c_truth = C_truth\n",
    "y_truth = Y\n",
    "\n",
    "get_preds(PREDS, ct_c, ct_y, mr_c, mr_y, code)\n",
    "\n",
    "#NOTE ADDING 32 BECAUSE EXTRACTED FROM CROPPED IMAGES\n",
    "PREDS[code]['c'] = [c[:,:2]-64 for c in PREDS[code]['c']]\n",
    "PREDS[code]['c'] = [PREDS[code]['c'][i]*f_test.root.meta[i] for i in  range(len(C_truth))]\n",
    "PREDS[code]['c'] = [reorder_contour(c) for c in PREDS[code]['c']]\n",
    "\n",
    "print \"{} shape = y {}, c {}, {}\".format(code,PREDS[code]['y'].shape,len(PREDS[code]['c']),\n",
    "                                         PREDS[code]['c'][0].shape)\n",
    "\n",
    "#ERROR CALCULATION\n",
    "calc_errors(ERRORS,PREDS,c_truth,y_truth,f_test.root.meta,code)"
   ]
  },
  {
   "cell_type": "code",
   "execution_count": 10,
   "metadata": {},
   "outputs": [
    {
     "name": "stdout",
     "output_type": "stream",
     "text": [
      "30288\n",
      "30288 30288 30288\n",
      "i2i3d shape = y (30288, 128, 128, 1), c 30288, (30, 2)\n",
      "Error calc i2i3d y (30288, 128, 128, 1), y_truth (30288, 128, 128, 1), c 30288, c_truth 30288\n"
     ]
    }
   ],
   "source": [
    "f_i2i3d = tables.open_file('/media/marsdenlab/Data2/datasets/DeepLofting/test_192_ct_i2i3d.hdf5')\n",
    "code = 'i2i3d'\n",
    "PREDS[code] = {}\n",
    "PREDS[code]['y'] = f_i2i3d.root.X\n",
    "PREDS[code]['c'] = np.load('i2i_3d_conts_ct.npy')\n",
    "print len(PREDS[code]['c'])\n",
    "\n",
    "c_truth = f_i2i3d.root.C[0:len(PREDS[code]['c'])]\n",
    "y_truth = np.asarray(f_i2i3d.root.Y).astype(int)\n",
    "meta = f_i2i3d.root.meta\n",
    "\n",
    "print len(y_truth),len(c_truth),len(meta)\n",
    "# get_preds(PREDS, ct_c, ct_y, mr_c, mr_y, code)\n",
    "\n",
    "PREDS[code]['y'] = util.crop_center_nd(PREDS[code]['y'], crop_dims, crop_dims)\n",
    "y_truth = util.crop_center_nd(y_truth, crop_dims, crop_dims)\n",
    "\n",
    "#NOTE ADDING 32 BECAUSE EXTRACTED FROM CROPPED IMAGES\n",
    "PREDS[code]['c'] = [c[:,:2]-96 for c in PREDS[code]['c']]\n",
    "PREDS[code]['c'] = [PREDS[code]['c'][i]*meta[i] for i in  range(len(c_truth))]\n",
    "PREDS[code]['c'] = [reorder_contour(c) for c in PREDS[code]['c']]\n",
    "\n",
    "print \"{} shape = y {}, c {}, {}\".format(code,PREDS[code]['y'].shape,len(PREDS[code]['c']),\n",
    "                                         PREDS[code]['c'][0].shape)\n",
    "\n",
    "#ERROR CALCULATION\n",
    "calc_errors(ERRORS,PREDS,c_truth,y_truth,f_i2i3d.root.meta,code)"
   ]
  },
  {
   "cell_type": "code",
   "execution_count": 11,
   "metadata": {},
   "outputs": [
    {
     "name": "stdout",
     "output_type": "stream",
     "text": [
      "segs and contours for drls, y shape = (31588, 192, 192), c shape = (31588,)\n",
      "drls shape = y (31588, 128, 128, 1), c 31588, (18, 2)\n",
      "Error calc drls y (31588, 128, 128, 1), y_truth (31588, 128, 128, 1), c 31588, c_truth 31588\n"
     ]
    }
   ],
   "source": [
    "\n",
    "code = 'drls'\n",
    "ct_c = 'drls_conts_ct.npy'\n",
    "ct_y = 'drls_segs_ct.npy'\n",
    "mr_c = 'drls_conts_mr.npy'\n",
    "mr_y = 'drls_segs_mr.npy'\n",
    "\n",
    "c_truth = C_truth\n",
    "y_truth = Y\n",
    "\n",
    "get_preds(PREDS, ct_c, ct_y, mr_c, mr_y, code)\n",
    "\n",
    "#post processing\n",
    "tmp = []\n",
    "for i in range(N):\n",
    "\n",
    "    c = PREDS[code]['c'][i]\n",
    "    if len(c.shape) == 1:\n",
    "        c = np.asarray([[0,0,0],[0,0,0]])\n",
    "        \n",
    "    c = c[:,:2]\n",
    "    r = reorder_contour(c)\n",
    "    r = r-96\n",
    "    r = r*f_test.root.meta[i]\n",
    "    tmp.append(r)\n",
    "PREDS[code]['c'] = tmp\n",
    "\n",
    "#crop dims\n",
    "PREDS[code]['y'] = util.crop_center_nd(PREDS[code]['y'], crop_dims, crop_dims)\n",
    "PREDS[code]['y'] = PREDS[code]['y'][:,:,:,np.newaxis]\n",
    "\n",
    "print \"{} shape = y {}, c {}, {}\".format(code,PREDS[code]['y'].shape,len(PREDS[code]['c']),\n",
    "                                         PREDS[code]['c'][0].shape)\n",
    "\n",
    "#ERROR CALCULATION\n",
    "calc_errors(ERRORS,PREDS,c_truth,y_truth,f_test.root.meta,code)\n",
    "   "
   ]
  },
  {
   "cell_type": "code",
   "execution_count": 12,
   "metadata": {},
   "outputs": [
    {
     "name": "stdout",
     "output_type": "stream",
     "text": [
      "segs and contours for drls_oof, y shape = (31588, 192, 192), c shape = (31588,)\n",
      "drls_oof shape = y (31588, 128, 128, 1), c 31588, (20, 2)\n",
      "Error calc drls_oof y (31588, 128, 128, 1), y_truth (31588, 128, 128, 1), c 31588, c_truth 31588\n"
     ]
    }
   ],
   "source": [
    "\n",
    "code = 'drls_oof'\n",
    "ct_c = 'drls_conts_OOF_ct.npy'\n",
    "ct_y = 'drls_segs_OOF_ct.npy'\n",
    "mr_c = 'drls_conts_OOF_mr.npy'\n",
    "mr_y = 'drls_segs_OOF_mr.npy'\n",
    "\n",
    "data_path = '/media/marsdenlab/Data2/datasets/DeepLofting/'\n",
    "oof_test_mr = data_path+'test_192_mr_oof.hdf5'\n",
    "oof_test_ct = data_path+'test_192_ct_oof.hdf5'\n",
    "\n",
    "f_mr = tables.open_file(oof_test_mr)\n",
    "f_ct = tables.open_file(oof_test_ct)\n",
    "\n",
    "c_truth = C_truth\n",
    "y_truth = Y\n",
    "\n",
    "get_preds(PREDS, ct_c, ct_y, mr_c, mr_y, code)\n",
    "\n",
    "#post processing\n",
    "tmp = []\n",
    "for i in range(N):\n",
    "\n",
    "    c = PREDS[code]['c'][i]\n",
    "    if len(c.shape) == 1:\n",
    "        c = np.asarray([[0,0,0],[0,0,0]])\n",
    "        \n",
    "    c = c[:,:2]\n",
    "    r = reorder_contour(c)\n",
    "    r = r-96\n",
    "    r = r*f_test.root.meta[i]\n",
    "    tmp.append(r)\n",
    "PREDS[code]['c'] = tmp\n",
    "\n",
    "#crop dims\n",
    "PREDS[code]['y'] = util.crop_center_nd(PREDS[code]['y'], crop_dims, crop_dims)\n",
    "PREDS[code]['y'] = PREDS[code]['y'][:,:,:,np.newaxis]\n",
    "\n",
    "print \"{} shape = y {}, c {}, {}\".format(code,PREDS[code]['y'].shape,len(PREDS[code]['c']),\n",
    "                                         PREDS[code]['c'][0].shape)\n",
    "\n",
    "#ERROR CALCULATION\n",
    "calc_errors(ERRORS,PREDS,c_truth,y_truth,f_test.root.meta,code)"
   ]
  },
  {
   "cell_type": "code",
   "execution_count": 13,
   "metadata": {},
   "outputs": [
    {
     "name": "stdout",
     "output_type": "stream",
     "text": [
      "i2i3d & $0.150$ & $0.874$ & $2.888$ & $1.273$ \\ \\ \n",
      "drls_oof & $0.208$ & $0.872$ & $0.992$ & $0.430$ \\ \\ \n",
      "drls & $0.248$ & $0.835$ & $0.948$ & $0.393$ \\ \\ \n",
      "i2i & $0.354$ & $0.836$ & $0.693$ & $0.283$ \\ \\ \n",
      "i2ifc & $0.516$ & $0.708$ & $0.320$ & $0.163$ \\ \\ \n"
     ]
    }
   ],
   "source": [
    "strings = []\n",
    "dices = []\n",
    "for code in ERRORS.keys():\n",
    "    e_d_m = np.mean(ERRORS[code]['dice'])\n",
    "    e_d_s = np.std(ERRORS[code]['dice'])\n",
    "    \n",
    "    e_j_m = np.mean(ERRORS[code]['jaccard'])\n",
    "    e_j_s = np.std(ERRORS[code]['jaccard'])\n",
    "    \n",
    "    e_hd_m = np.mean(ERRORS[code]['hausdorf'])\n",
    "    e_hd_s = np.std(ERRORS[code]['hausdorf'])\n",
    "    \n",
    "    e_assd_m = np.mean(ERRORS[code]['assd'])\n",
    "    e_assd_s = np.std(ERRORS[code]['assd'])\n",
    "    s =  \"{} & ${:.3f}$ & ${:.3f}$ & ${:.3f}$ & ${:.3f}$ \\ \\ \".format(code, \n",
    "                                                          e_d_m, \n",
    "                                                          e_j_m, \n",
    "                                                          e_hd_m,\n",
    "                                                          e_assd_m)\n",
    "    strings.append(s)\n",
    "    dices.append(e_d_m)\n",
    "\n",
    "a = sorted(zip(strings,dices), key = lambda x: x[1])\n",
    "\n",
    "for x in a:\n",
    "    print x[0]"
   ]
  },
  {
   "cell_type": "code",
   "execution_count": 14,
   "metadata": {},
   "outputs": [
    {
     "name": "stdout",
     "output_type": "stream",
     "text": [
      "29088761\n",
      "290888\n",
      "0.0176112696206\n",
      "1.0\n",
      "1.0\n",
      "0.0\n",
      "0.0176112696206\n",
      "1.0\n",
      "1.0\n",
      "0.0\n"
     ]
    }
   ],
   "source": [
    "S = 100\n",
    "print len(ERRORS['i2ifc']['pr'][1])\n",
    "print len(ERRORS['i2ifc']['pr'][1][::S])\n",
    "\n",
    "print ERRORS['i2ifc']['pr'][0][0]\n",
    "print ERRORS['i2ifc']['pr'][1][0]\n",
    "\n",
    "print ERRORS['i2ifc']['pr'][0][-1]\n",
    "print ERRORS['i2ifc']['pr'][1][-1]\n",
    "#subsample\n",
    "for code in ERRORS.keys():\n",
    "    N = len(ERRORS[code]['pr'][0])\n",
    "    ERRORS[code]['pr_'] = []\n",
    "    \n",
    "    ERRORS[code]['pr_'].append([ERRORS[code]['pr'][0][i] for i in range(0,N,S)] + [ERRORS[code]['pr'][0][N-1]])\n",
    "    ERRORS[code]['pr_'].append([ERRORS[code]['pr'][1][i] for i in range(0,N,S)] + [ERRORS[code]['pr'][1][N-1]])\n",
    "    \n",
    "print ERRORS['i2ifc']['pr_'][0][0]\n",
    "print ERRORS['i2ifc']['pr_'][1][0]\n",
    "\n",
    "print ERRORS['i2ifc']['pr_'][0][-1]\n",
    "print ERRORS['i2ifc']['pr_'][1][-1]\n",
    "#subsample"
   ]
  },
  {
   "cell_type": "code",
   "execution_count": 15,
   "metadata": {},
   "outputs": [
    {
     "data": {
      "image/png": "[encoded data removed]",
      "text/plain": [
       "<matplotlib.figure.Figure at 0x7f94615a3e90>"
      ]
     },
     "metadata": {},
     "output_type": "display_data"
    }
   ],
   "source": [
    "plt.figure()\n",
    "plt.plot(ERRORS['i2ifc']['pr_'][1], ERRORS['i2ifc']['pr_'][0], color='r', linewidth=2, label='I2I-FC')\n",
    "plt.plot(ERRORS['i2i']['pr_'][1], ERRORS['i2i']['pr_'][0], color='g', linewidth=2, label='I2I')\n",
    "plt.plot(ERRORS['i2i3d']['pr_'][1], ERRORS['i2i3d']['pr_'][0], color='b', linewidth=2, label='I2I-3D')\n",
    "plt.scatter(ERRORS['drls']['pr'][1][1:-1], ERRORS['drls']['pr'][0][1:-1], color='k', label='DRLS')\n",
    "plt.scatter(ERRORS['drls_oof']['pr'][1][1:-1], ERRORS['drls_oof']['pr'][0][1:-1], color='y', label='OOF+DRLS')\n",
    "plt.xlabel('recall')\n",
    "plt.ylabel('precision')\n",
    "plt.legend()\n",
    "plt.savefig('pr.pdf',dpi=600)\n",
    "plt.show()"
   ]
  },
  {
   "cell_type": "code",
   "execution_count": null,
   "metadata": {
    "collapsed": true
   },
   "outputs": [],
   "source": []
  }
 ],
 "metadata": {
  "kernelspec": {
   "display_name": "Python [conda root]",
   "language": "python",
   "name": "conda-root-py"
  },
  "language_info": {
   "codemirror_mode": {
    "name": "ipython",
    "version": 2
   },
   "file_extension": ".py",
   "mimetype": "text/x-python",
   "name": "python",
   "nbconvert_exporter": "python",
   "pygments_lexer": "ipython2",
   "version": "2.7.13"
  }
 },
 "nbformat": 4,
 "nbformat_minor": 2
}
