{
 "cells": [
  {
   "cell_type": "code",
   "execution_count": 1,
   "metadata": {},
   "outputs": [
    {
     "name": "stderr",
     "output_type": "stream",
     "text": [
      "Using TensorFlow backend.\n"
     ]
    }
   ],
   "source": [
    "from modules import utility\n",
    "import numpy as np\n",
    "import matplotlib.pyplot as plt\n",
    "import tables"
   ]
  },
  {
   "cell_type": "code",
   "execution_count": 2,
   "metadata": {
    "collapsed": true
   },
   "outputs": [],
   "source": [
    "from skimage.measure import grid_points_in_poly"
   ]
  },
  {
   "cell_type": "code",
   "execution_count": 26,
   "metadata": {},
   "outputs": [],
   "source": [
    "f = tables.open_file('/media/marsdenlab/Data2/datasets/DeepLofting/test_192_mr_i2i3d.hdf5')"
   ]
  },
  {
   "cell_type": "code",
   "execution_count": 27,
   "metadata": {},
   "outputs": [
    {
     "name": "stdout",
     "output_type": "stream",
     "text": [
      "(21956, 192, 192, 1)\n",
      "(21956, 192, 192, 1)\n"
     ]
    }
   ],
   "source": [
    "ypred = f.root.X\n",
    "truth = f.root.Y\n",
    "print ypred.shape\n",
    "print truth.shape\n",
    "N = truth.shape[0]"
   ]
  },
  {
   "cell_type": "code",
   "execution_count": 43,
   "metadata": {},
   "outputs": [
    {
     "data": {
      "image/png": "[encoded data removed]",
      "text/plain": [
       "<matplotlib.figure.Figure at 0x7f860945f4d0>"
      ]
     },
     "metadata": {},
     "output_type": "display_data"
    },
    {
     "data": {
      "image/png": "[encoded data removed]",
      "text/plain": [
       "<matplotlib.figure.Figure at 0x7f860922bad0>"
      ]
     },
     "metadata": {},
     "output_type": "display_data"
    }
   ],
   "source": [
    "N = ypred.shape[0]\n",
    "i = np.random.randint(N)\n",
    "plt.figure()\n",
    "plt.imshow(ypred[i,:,:,0].astype(float))\n",
    "plt.colorbar()\n",
    "plt.show()\n",
    "\n",
    "plt.figure()\n",
    "plt.imshow(truth[i,:,:,0].astype(float))\n",
    "plt.colorbar()\n",
    "plt.show()"
   ]
  },
  {
   "cell_type": "code",
   "execution_count": null,
   "metadata": {
    "collapsed": true
   },
   "outputs": [],
   "source": []
  },
  {
   "cell_type": "code",
   "execution_count": 3,
   "metadata": {},
   "outputs": [
    {
     "name": "stdout",
     "output_type": "stream",
     "text": [
      "Help on function grid_points_in_poly in module skimage.measure.pnpoly:\n",
      "\n",
      "grid_points_in_poly(shape, verts)\n",
      "    Test whether points on a specified grid are inside a polygon.\n",
      "    \n",
      "    For each ``(r, c)`` coordinate on a grid, i.e. ``(0, 0)``, ``(0, 1)`` etc.,\n",
      "    test whether that point lies inside a polygon.\n",
      "    \n",
      "    Parameters\n",
      "    ----------\n",
      "    shape : tuple (M, N)\n",
      "        Shape of the grid.\n",
      "    verts : (V, 2) array\n",
      "        Specify the V vertices of the polygon, sorted either clockwise\n",
      "        or anti-clockwise. The first point may (but does not need to be)\n",
      "        duplicated.\n",
      "    \n",
      "    See Also\n",
      "    --------\n",
      "    points_in_poly\n",
      "    \n",
      "    Returns\n",
      "    -------\n",
      "    mask : (M, N) ndarray of bool\n",
      "        True where the grid falls inside the polygon.\n",
      "\n"
     ]
    }
   ],
   "source": [
    "help(grid_points_in_poly)"
   ]
  },
  {
   "cell_type": "code",
   "execution_count": 4,
   "metadata": {
    "collapsed": true
   },
   "outputs": [],
   "source": [
    "test = np.zeros((100,100))\n",
    "origin = np.asarray([50,50])\n",
    "spacing = np.asarray([0.2,0.4])\n",
    "origin_sp = origin*spacing\n",
    "R = 20\n",
    "\n",
    "for i in range(100):\n",
    "    for j in range(100):\n",
    "        if (i-origin[0])**2+(j-origin[1])**2 <= R**2:\n",
    "            test[i,j] = 1"
   ]
  },
  {
   "cell_type": "code",
   "execution_count": 5,
   "metadata": {},
   "outputs": [
    {
     "name": "stdout",
     "output_type": "stream",
     "text": [
      "(40, 2)\n",
      "(40, 2)\n",
      "[[ 30.          50.        ]\n",
      " [ 32.          58.71779789]\n",
      " [ 34.          62.        ]\n",
      " [ 36.          64.28285686]\n",
      " [ 38.          66.        ]\n",
      " [ 40.          67.32050808]\n",
      " [ 42.          68.33030278]\n",
      " [ 44.          69.07878403]\n",
      " [ 46.          69.59591794]\n",
      " [ 48.          69.89974874]\n",
      " [ 50.          70.        ]\n",
      " [ 52.          69.89974874]\n",
      " [ 54.          69.59591794]\n",
      " [ 56.          69.07878403]\n",
      " [ 58.          68.33030278]\n",
      " [ 60.          67.32050808]\n",
      " [ 62.          66.        ]\n",
      " [ 64.          64.28285686]\n",
      " [ 66.          62.        ]\n",
      " [ 68.          58.71779789]\n",
      " [ 68.          41.28220211]\n",
      " [ 66.          38.        ]\n",
      " [ 64.          35.71714314]\n",
      " [ 62.          34.        ]\n",
      " [ 60.          32.67949192]\n",
      " [ 58.          31.66969722]\n",
      " [ 56.          30.92121597]\n",
      " [ 54.          30.40408206]\n",
      " [ 52.          30.10025126]\n",
      " [ 50.          30.        ]\n",
      " [ 48.          30.10025126]\n",
      " [ 46.          30.40408206]\n",
      " [ 44.          30.92121597]\n",
      " [ 42.          31.66969722]\n",
      " [ 40.          32.67949192]\n",
      " [ 38.          34.        ]\n",
      " [ 36.          35.71714314]\n",
      " [ 34.          38.        ]\n",
      " [ 32.          41.28220211]\n",
      " [ 30.          50.        ]]\n"
     ]
    }
   ],
   "source": [
    "x = np.arange(-R,R,R/10)\n",
    "points = []\n",
    "\n",
    "for p in x:\n",
    "    z = np.sqrt(R**2-p**2)\n",
    "    the_point = origin+np.asarray([p,z])\n",
    "    points.append(the_point)\n",
    "    \n",
    "for p in np.flip(x,axis=0):\n",
    "    z = -np.sqrt(R**2-p**2)\n",
    "    the_point = origin+np.asarray([p,z])\n",
    "    points.append(the_point)\n",
    "    \n",
    "points = np.asarray(points)\n",
    "points_sp = (points)*spacing\n",
    "print points.shape\n",
    "print points_sp.shape\n",
    "print points"
   ]
  },
  {
   "cell_type": "code",
   "execution_count": 6,
   "metadata": {},
   "outputs": [
    {
     "data": {
      "image/png": "[encoded data removed]",
      "text/plain": [
       "<matplotlib.figure.Figure at 0x7f8b263a6ed0>"
      ]
     },
     "metadata": {},
     "output_type": "display_data"
    },
    {
     "data": {
      "image/png": "[encoded data removed]",
      "text/plain": [
       "<matplotlib.figure.Figure at 0x7f8b26074f10>"
      ]
     },
     "metadata": {},
     "output_type": "display_data"
    }
   ],
   "source": [
    "plt.figure()\n",
    "plt.plot(points[:,0],points[:,1])\n",
    "plt.show()\n",
    "\n",
    "\n",
    "plt.figure()\n",
    "plt.plot(points_sp[:,0],points_sp[:,1])\n",
    "plt.show()"
   ]
  },
  {
   "cell_type": "code",
   "execution_count": 7,
   "metadata": {},
   "outputs": [
    {
     "data": {
      "image/png": "[encoded data removed]",
      "text/plain": [
       "<matplotlib.figure.Figure at 0x7f8b263a6750>"
      ]
     },
     "metadata": {},
     "output_type": "display_data"
    }
   ],
   "source": [
    "plt.figure()\n",
    "plt.imshow(test)\n",
    "plt.colorbar()\n",
    "plt.show()"
   ]
  },
  {
   "cell_type": "code",
   "execution_count": 8,
   "metadata": {},
   "outputs": [
    {
     "name": "stdout",
     "output_type": "stream",
     "text": [
      "[[False False False ..., False False False]\n",
      " [False False False ..., False False False]\n",
      " [False False False ..., False False False]\n",
      " ..., \n",
      " [False False False ..., False False False]\n",
      " [False False False ..., False False False]\n",
      " [False False False ..., False False False]]\n"
     ]
    },
    {
     "data": {
      "image/png": "[encoded data removed]",
      "text/plain": [
       "<matplotlib.figure.Figure at 0x7f8b1c625ed0>"
      ]
     },
     "metadata": {},
     "output_type": "display_data"
    }
   ],
   "source": [
    "a = grid_points_in_poly((100,100),points)\n",
    "print a\n",
    "plt.figure()\n",
    "plt.imshow(a.T)\n",
    "plt.show()"
   ]
  },
  {
   "cell_type": "code",
   "execution_count": 9,
   "metadata": {},
   "outputs": [
    {
     "name": "stdout",
     "output_type": "stream",
     "text": [
      "[[False False False ..., False False False]\n",
      " [False False False ..., False False False]\n",
      " [False False False ..., False False False]\n",
      " ..., \n",
      " [False False False ..., False False False]\n",
      " [False False False ..., False False False]\n",
      " [False False False ..., False False False]]\n"
     ]
    },
    {
     "data": {
      "image/png": "[encoded data removed]",
      "text/plain": [
       "<matplotlib.figure.Figure at 0x7f8b1c5ac490>"
      ]
     },
     "metadata": {},
     "output_type": "display_data"
    }
   ],
   "source": [
    "a = grid_points_in_poly((100,100),(points_sp-origin_sp)/spacing+origin)\n",
    "print a\n",
    "plt.figure()\n",
    "plt.imshow(a.T)\n",
    "plt.show()"
   ]
  },
  {
   "cell_type": "code",
   "execution_count": 10,
   "metadata": {},
   "outputs": [
    {
     "name": "stdout",
     "output_type": "stream",
     "text": [
      "[[ 0.  0.  0. ...,  0.  0.  0.]\n",
      " [ 0.  0.  0. ...,  0.  0.  0.]\n",
      " [ 0.  0.  0. ...,  0.  0.  0.]\n",
      " ..., \n",
      " [ 0.  0.  0. ...,  0.  0.  0.]\n",
      " [ 0.  0.  0. ...,  0.  0.  0.]\n",
      " [ 0.  0.  0. ...,  0.  0.  0.]]\n"
     ]
    },
    {
     "data": {
      "image/png": "[encoded data removed]",
      "text/plain": [
       "<matplotlib.figure.Figure at 0x7f8b1c5722d0>"
      ]
     },
     "metadata": {},
     "output_type": "display_data"
    }
   ],
   "source": [
    "a = utility.contourToSeg(points_sp,origin_sp,[100,100],spacing)\n",
    "print a\n",
    "plt.figure()\n",
    "plt.imshow(a)\n",
    "plt.show()"
   ]
  },
  {
   "cell_type": "code",
   "execution_count": 11,
   "metadata": {},
   "outputs": [
    {
     "name": "stdout",
     "output_type": "stream",
     "text": [
      "CPU times: user 0 ns, sys: 0 ns, total: 0 ns\n",
      "Wall time: 1.48 ms\n",
      "CPU times: user 4 ms, sys: 0 ns, total: 4 ms\n",
      "Wall time: 1.86 ms\n"
     ]
    }
   ],
   "source": [
    "%time a = grid_points_in_poly((100,100),(points_sp+origin_sp)/spacing)\n",
    "%time a = utility.contourToSeg(points_sp,[-50*spacing[0],50*spacing[1]],[100,100],spacing)"
   ]
  },
  {
   "cell_type": "code",
   "execution_count": 12,
   "metadata": {
    "collapsed": true
   },
   "outputs": [],
   "source": [
    "c = np.asarray([[ -8.98388766e-01,  -1.28315470e-07],\n",
    " [ -8.67256414e-01,  -2.81788701e-01],\n",
    " [ -7.51383858e-01,  -5.45912263e-01],\n",
    " [ -5.44845459e-01,  -7.49915437e-01],\n",
    " [ -2.78937151e-01,  -8.58480096e-01],\n",
    " [  3.26135934e-08,  -8.81142453e-01],\n",
    " [  2.70534690e-01,  -8.32620284e-01],\n",
    " [  5.16821397e-01,  -7.11343366e-01],\n",
    " [  7.18170331e-01,  -5.21781504e-01],\n",
    " [  8.59788283e-01,  -2.79362130e-01],\n",
    " [  9.20418118e-01,   7.75606139e-09],\n",
    " [  8.71664494e-01,   2.83220899e-01],\n",
    " [  7.26578636e-01,   5.27890327e-01],\n",
    " [  5.24586178e-01,   7.22030974e-01],\n",
    " [  2.79195504e-01,   8.59275404e-01],\n",
    " [  2.97138169e-08,   9.07780912e-01],\n",
    " [ -2.76339158e-01,   8.50484304e-01],\n",
    " [ -5.18927666e-01  , 7.14242669e-01],\n",
    " [ -7.15722977e-01 ,  5.20003280e-01],\n",
    " [ -8.48111643e-01,   2.75568177e-01]])\n",
    "\n",
    "spacing = (0.03867189958691597, 0.03867189958691597, 0.03867189958691597)"
   ]
  },
  {
   "cell_type": "code",
   "execution_count": 13,
   "metadata": {
    "collapsed": true
   },
   "outputs": [],
   "source": [
    "b = utility.contourToSeg(c,[0.0,0.0],[192,192],spacing)"
   ]
  },
  {
   "cell_type": "code",
   "execution_count": 14,
   "metadata": {},
   "outputs": [
    {
     "data": {
      "image/png": "[encoded data removed]",
      "text/plain": [
       "<matplotlib.figure.Figure at 0x7f8b1c3b23d0>"
      ]
     },
     "metadata": {},
     "output_type": "display_data"
    }
   ],
   "source": [
    "plt.figure()\n",
    "plt.imshow(b)\n",
    "plt.show()"
   ]
  },
  {
   "cell_type": "code",
   "execution_count": 6,
   "metadata": {
    "collapsed": true
   },
   "outputs": [],
   "source": [
    "import numpy as np\n",
    "X = np.random.randn(1000,100,100,1)\n",
    "Y = X.astype(int)"
   ]
  },
  {
   "cell_type": "code",
   "execution_count": 8,
   "metadata": {},
   "outputs": [
    {
     "name": "stdout",
     "output_type": "stream",
     "text": [
      "1 loop, best of 3: 200 ms per loop\n",
      "1 loop, best of 3: 201 ms per loop\n",
      "1 loop, best of 3: 217 ms per loop\n"
     ]
    }
   ],
   "source": [
    "%timeit a = X.astype(int)\n",
    "%timeit a = Y.astype(float)\n",
    "%timeit 1.0*Y"
   ]
  },
  {
   "cell_type": "code",
   "execution_count": null,
   "metadata": {
    "collapsed": true
   },
   "outputs": [],
   "source": []
  }
 ],
 "metadata": {
  "kernelspec": {
   "display_name": "Python [conda root]",
   "language": "python",
   "name": "conda-root-py"
  },
  "language_info": {
   "codemirror_mode": {
    "name": "ipython",
    "version": 2
   },
   "file_extension": ".py",
   "mimetype": "text/x-python",
   "name": "python",
   "nbconvert_exporter": "python",
   "pygments_lexer": "ipython2",
   "version": "2.7.13"
  }
 },
 "nbformat": 4,
 "nbformat_minor": 2
}
