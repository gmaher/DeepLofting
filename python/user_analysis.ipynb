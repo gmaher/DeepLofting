{
 "cells": [
  {
   "cell_type": "code",
   "execution_count": 1,
   "metadata": {},
   "outputs": [
    {
     "name": "stderr",
     "output_type": "stream",
     "text": [
      "Using TensorFlow backend.\n"
     ]
    }
   ],
   "source": [
    "import pandas as pd\n",
    "import xml.etree.ElementTree as ET\n",
    "import os\n",
    "from modules import utility\n",
    "import numpy as np\n",
    "ML_DIR = '/home/marsdenlab/projects/SV3/user_test/ml/'\n",
    "MANUAL_DIR = '/home/marsdenlab/projects/SV3/user_test//manual/'"
   ]
  },
  {
   "cell_type": "code",
   "execution_count": 2,
   "metadata": {
    "collapsed": true
   },
   "outputs": [],
   "source": [
    "def read_xml(fn):\n",
    "    f = open(fn).readlines()\n",
    "    f = [s.replace('\\n','') for s in f]\n",
    "    f = [f[0]] + f[2:]\n",
    "    f = ''.join(f)\n",
    "    return ET.fromstring(f)\n",
    "\n",
    "def parse_contour_points(element):\n",
    "    c = []\n",
    "    for p in element:\n",
    "        a = p.attrib\n",
    "        x = float(a['x'])\n",
    "        y = float(a['y'])\n",
    "        z = float(a['z'])\n",
    "        c.append([x,y,z])\n",
    "    return c\n",
    "\n",
    "def parse_path_point(element):\n",
    "    id_        = element.attrib['id']\n",
    "    pos_e      = element.find('pos')\n",
    "    tangent_e  = element.find('tangent')\n",
    "    rotation_e = element.find('rotation')\n",
    "    \n",
    "    p_x = float(pos_e.attrib['x'])\n",
    "    p_y = float(pos_e.attrib['y'])\n",
    "    p_z = float(pos_e.attrib['z'])\n",
    "    \n",
    "    t_x = float(tangent_e.attrib['x'])\n",
    "    t_y = float(tangent_e.attrib['y'])\n",
    "    t_z = float(tangent_e.attrib['z'])\n",
    "    \n",
    "    r_x = float(rotation_e.attrib['x'])\n",
    "    r_y = float(rotation_e.attrib['y'])\n",
    "    r_z = float(rotation_e.attrib['z'])\n",
    "\n",
    "    return [p_x,p_y,p_z,t_x,t_y,t_z,r_x,r_y,r_z], id_\n",
    "\n",
    "def parse_contour(element):\n",
    "    typ    = element.attrib['type']\n",
    "    method = element.attrib['method']\n",
    "    path_point = element.find('path_point')\n",
    "    contour_points  = element.find('contour_points')\n",
    "    initial_contour = element.find('initial_contour_points')\n",
    "\n",
    "    p, id_    = parse_path_point(path_point)\n",
    "    contour_p = np.asarray(parse_contour_points(contour_points))\n",
    "    contour_p = utility.normalizeContour(contour_p, p[:3], p[3:6], p[6:9])\n",
    "    \n",
    "    if not initial_contour == None: \n",
    "        initial_p = np.asarray(parse_contour_points(initial_contour))\n",
    "        initial_p = utility.normalizeContour(initial_p, p[:3], p[3:6], p[6:9])\n",
    "    else:\n",
    "        initial_p = np.asarray([[0.0,0.0],[0.0,0.0],[0.0,0.0]])\n",
    "        \n",
    "    if \"manual\" in method.lower():\n",
    "        dice = 0\n",
    "    elif 'splinepolygon' in typ.lower():\n",
    "        dice = 1\n",
    "    else:\n",
    "        dice = 1\n",
    "        \n",
    "    c = {\"path_point\":id_,\"type\":typ, \"method\":method, \"dice\":dice, \n",
    "         \"px\":p[0], \"py\":p[1], \"pz\":p[2], \"tx\":p[3], \"ty\":p[4], \"tz\":p[5],\n",
    "        \"rx\":p[6], \"ry\":p[7], \"rz\":p[8]}\n",
    "    return c, contour_p, initial_p"
   ]
  },
  {
   "cell_type": "code",
   "execution_count": 3,
   "metadata": {
    "collapsed": true
   },
   "outputs": [],
   "source": [
    "def get_contour_attribs(root):\n",
    "    attribs = []\n",
    "    for child in root:\n",
    "        for c in child:\n",
    "            if c.tag == 'contour':\n",
    "                print c.tag\n",
    "                attribs.append(c.attrib['type'] + \" \" + c.attrib['method'])\n",
    "                \n",
    "                for e in c:\n",
    "                    print e.tag"
   ]
  },
  {
   "cell_type": "code",
   "execution_count": 4,
   "metadata": {},
   "outputs": [],
   "source": [
    "ml = []\n",
    "for f in os.listdir(ML_DIR):\n",
    "    xml = read_xml(ML_DIR+f)\n",
    "    for element in xml:\n",
    "        for c in element:\n",
    "            if c.tag == 'contour':\n",
    "                contour = parse_contour(c)\n",
    "                ml.append(contour)\n"
   ]
  },
  {
   "cell_type": "code",
   "execution_count": 54,
   "metadata": {},
   "outputs": [
    {
     "name": "stdout",
     "output_type": "stream",
     "text": [
      "396\n"
     ]
    },
    {
     "data": {
      "image/png": "[encoded data removed]",
      "text/plain": [
       "<matplotlib.figure.Figure at 0x7f704c7842d0>"
      ]
     },
     "metadata": {},
     "output_type": "display_data"
    }
   ],
   "source": [
    "print len(ml)\n",
    "i = np.random.randint(len(ml))\n",
    "c_p = ml[i][1]\n",
    "c_i = ml[i][2]\n",
    "\n",
    "import matplotlib.pyplot as plt\n",
    "plt.figure()\n",
    "plt.plot(c_p[:,0],c_p[:,1],color='r',linewidth=2,label='contour_points')\n",
    "plt.plot(c_i[:,0],c_i[:,1],color='b',linewidth=2,label='initial_conour')\n",
    "plt.legend()\n",
    "plt.show()"
   ]
  },
  {
   "cell_type": "code",
   "execution_count": 27,
   "metadata": {},
   "outputs": [
    {
     "ename": "NameError",
     "evalue": "name 'ml_methods' is not defined",
     "output_type": "error",
     "traceback": [
      "\u001b[0;31m---------------------------------------------------------------------------\u001b[0m",
      "\u001b[0;31mNameError\u001b[0m                                 Traceback (most recent call last)",
      "\u001b[0;32m<ipython-input-27-771b1cb4d067>\u001b[0m in \u001b[0;36m<module>\u001b[0;34m()\u001b[0m\n\u001b[0;32m----> 1\u001b[0;31m \u001b[0mml_set\u001b[0m \u001b[0;34m=\u001b[0m \u001b[0mset\u001b[0m\u001b[0;34m(\u001b[0m\u001b[0mml_methods\u001b[0m\u001b[0;34m)\u001b[0m\u001b[0;34m\u001b[0m\u001b[0m\n\u001b[0m\u001b[1;32m      2\u001b[0m \u001b[0;32mfor\u001b[0m \u001b[0ms\u001b[0m \u001b[0;32min\u001b[0m \u001b[0mlist\u001b[0m\u001b[0;34m(\u001b[0m\u001b[0mml_set\u001b[0m\u001b[0;34m)\u001b[0m\u001b[0;34m:\u001b[0m\u001b[0;34m\u001b[0m\u001b[0m\n\u001b[1;32m      3\u001b[0m     \u001b[0;32mprint\u001b[0m \u001b[0ms\u001b[0m\u001b[0;34m\u001b[0m\u001b[0m\n",
      "\u001b[0;31mNameError\u001b[0m: name 'ml_methods' is not defined"
     ]
    }
   ],
   "source": [
    "ml_set = set(ml_methods)\n",
    "for s in list(ml_set):\n",
    "    print s"
   ]
  },
  {
   "cell_type": "code",
   "execution_count": 6,
   "metadata": {
    "collapsed": true
   },
   "outputs": [],
   "source": [
    "manual_methods = []\n",
    "for f in os.listdir(MANUAL_DIR):\n",
    "    xml = read_xml(MANUAL_DIR+f)\n",
    "    l   = get_contour_attribs(xml)\n",
    "    manual_methods += l"
   ]
  },
  {
   "cell_type": "code",
   "execution_count": 9,
   "metadata": {},
   "outputs": [
    {
     "name": "stdout",
     "output_type": "stream",
     "text": [
      "SplinePolygon Threshold + Smoothed:9 \n",
      "Contour Manual + Shifted  + Smoothed \n",
      "SplinePolygon Manual + Shifted \n",
      "SplinePolygon LevelSet\n",
      "Contour Legacy\n",
      "Contour Manual + Smoothed  + Shifted \n",
      "Contour Threshold + Scaled + Smoothed:9 \n",
      "Contour Manual + Smoothed:9 \n",
      "SplinePolygon Manual + Scaled + Smoothed \n",
      "Contour Manual + Smoothed  + Shifted  + Scaled\n",
      "SplinePolygon Manual + Smoothed  + Scaled + Shifted \n",
      "Contour LevelSet\n",
      "Contour Threshold + Smoothed:9 \n",
      "SplinePolygon LevelSet + Shifted \n",
      "SplinePolygon Manual + Smoothed  + Scaled\n",
      "Contour Manual + Smoothed \n",
      "Contour LevelSet + Smoothed:9 \n",
      "SplinePolygon Manual\n",
      "Contour Manual + Shifted  + Scaled + Smoothed \n",
      "SplinePolygon Manual + Shifted  + Smoothed \n",
      "Contour Manual + Smoothed  + Scaled + Shifted \n",
      "Contour Manual + Shifted  + Smoothed  + Scaled\n",
      "SplinePolygon Manual + Scaled + Shifted \n",
      "Contour Manual + Smoothed  + Scaled\n",
      "Contour Manual + Scaled + Smoothed \n",
      "SplinePolygon Manual + Shifted  + Scaled\n",
      "SplinePolygon Manual + Scaled + Shifted  + Smoothed \n",
      "Contour Threshold + Shifted  + Smoothed:9 \n",
      "Contour Manual + Scaled + Shifted  + Smoothed \n",
      "SplinePolygon Manual + Shifted  + Smoothed  + Scaled\n",
      "SplinePolygon Manual + Scaled\n",
      "SplinePolygon Manual + Smoothed \n"
     ]
    }
   ],
   "source": [
    "manual_set = set(manual_methods)\n",
    "for s in list(manual_set):\n",
    "    print s"
   ]
  },
  {
   "cell_type": "code",
   "execution_count": null,
   "metadata": {
    "collapsed": true
   },
   "outputs": [],
   "source": []
  }
 ],
 "metadata": {
  "kernelspec": {
   "display_name": "Python [conda root]",
   "language": "python",
   "name": "conda-root-py"
  },
  "language_info": {
   "codemirror_mode": {
    "name": "ipython",
    "version": 2
   },
   "file_extension": ".py",
   "mimetype": "text/x-python",
   "name": "python",
   "nbconvert_exporter": "python",
   "pygments_lexer": "ipython2",
   "version": "2.7.13"
  }
 },
 "nbformat": 4,
 "nbformat_minor": 2
}
