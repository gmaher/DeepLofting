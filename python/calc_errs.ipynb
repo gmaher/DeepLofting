{
 "cells": [
  {
   "cell_type": "code",
   "execution_count": 1,
   "metadata": {},
   "outputs": [
    {
     "name": "stderr",
     "output_type": "stream",
     "text": [
      "Using TensorFlow backend.\n"
     ]
    }
   ],
   "source": [
    "import numpy as np\n",
    "import matplotlib.pyplot as plt\n",
    "from IPython.display import display, Javascript\n",
    "from modules import utility\n",
    "import os\n",
    "import pandas as pd\n",
    "from medpy.metric.binary import hd, assd, dc, precision\n",
    "import SimpleITK as sitk\n",
    "\n",
    "def get_surface(img):\n",
    "    a = sitk.GetImageFromArray(img)\n",
    "    a = sitk.BinaryContour(a)\n",
    "    a = sitk.GetArrayFromImage(a)\n",
    "    return a.copy()"
   ]
  },
  {
   "cell_type": "code",
   "execution_count": 3,
   "metadata": {},
   "outputs": [
    {
     "name": "stdout",
     "output_type": "stream",
     "text": [
      "['OSMSC0004', 'OSMSC0177', 'cabg11', 'OSMSC0179', 'OSMSC0144', 'OSMSC0148', 'OSMSC0150', 'OSMSC0119']\n",
      "['0119_0001_i2ifc.LPA_br2_br1.vtp', '0150_0001_oof.celiac_hepatic.vtp', '0179_0001_truth.C_left.vtp', 'cabg11_all_oof.lca2.vtp', '0119_0001_i2i3d.LPA_br12.vtp', '0110_0001_i2i3d.right_iliac.vtp', '0177_0000_i2i3d.in_iliac_left.vtp', '0148_1001_i2i.renal_left.vtp', '0171_0001_i2i3d.R_incrd_b4.vtp', '0119_0001_i2i.RPA_br12_br4.vtp']\n",
      "['OSMSC0004', 'OSMSC0177', 'cabg11', 'OSMSC0179', 'OSMSC0144', 'OSMSC0148', 'OSMSC0150', 'OSMSC0119', 'OSMSC0006', 'OSMSC0101', 'OSMSC0171', 'OSMSC0178', 'OSMSC0110']\n",
      "['0179_0001_truth.C_left.vtp', '0179_0001_truth.R_ant.vtp', '0119_0001_truth.RPA_br8_br1.vtp', 'cabg11_all_truth.rsubcl3.vtp', '0119_0001_truth.RPA_br2.vtp', '0119_0001_truth.RPA_br9_br3.vtp', '0148_1001_truth.SMA.vtp', '0177_0000_truth.in_iliac_left.vtp', 'cabg11_all_truth.lsubcl3.vtp', '0171_0001_truth.L_incrd_b8.vtp', '0150_0001_truth.IMA.vtp', '0119_0001_truth.LPA_br4_br4.vtp', '0150_0001_truth.aorta.vtp', '0006_0001_truth.left_internal_iliac.vtp', '0110_0001_truth.left_renal.vtp', '0119_0001_truth.LPA_br1.vtp', '0119_0001_truth.RPA_br7.vtp', '0171_0001_truth.L_vtbrl_pre.vtp', 'cabg11_all_truth.rca3.vtp', '0119_0001_truth.RPA_br2_br1.vtp']\n"
     ]
    }
   ],
   "source": [
    "mhas = open('images.txt').readlines()\n",
    "mhas = [i.replace('\\n','') for i in mhas]\n",
    "\n",
    "truths = open('truths.txt').readlines()\n",
    "truths = [i.replace('\\n','') for i in truths]\n",
    "\n",
    "paths = open('paths.txt').readlines()\n",
    "paths = [i.replace('\\n','') for i in paths]\n",
    "\n",
    "groups = open('groups.txt').readlines()\n",
    "groups = [i.replace('\\n','') for i in groups]\n",
    "\n",
    "ct_test = open('ct_test.txt').readlines()\n",
    "ct_test = [i.replace('\\n','') for i in ct_test]\n",
    "\n",
    "mr_test = open('mr_test.txt').readlines()\n",
    "mr_test = [i.replace('\\n','') for i in mr_test]\n",
    "\n",
    "vtp_dir = '/home/marsdenlab/projects/DeepLofting/python/vtp/'\n",
    "model_dir = '/home/marsdenlab/projects/DeepLofting/python/3d_models'\n",
    "\n",
    "vtp_files = os.listdir(vtp_dir)\n",
    "\n",
    "print ct_test\n",
    "print vtp_files[:10]\n",
    "IMAGES = ct_test+mr_test\n",
    "print IMAGES\n",
    "codes = ['i2ifc','i2i3d','i2i','drls','oof']\n",
    "truth_files = [c for c in vtp_files if 'truth' in c]\n",
    "print truth_files[:20]\n",
    "\n",
    "test_images = []\n",
    "for i in range(len(mhas)):\n",
    "    if any([c in mhas[i] for c in IMAGES]):\n",
    "        test_images.append((mhas[i],truths[i],paths[i],groups[i]))\n",
    "        \n",
    "#print test_images"
   ]
  },
  {
   "cell_type": "code",
   "execution_count": 7,
   "metadata": {},
   "outputs": [
    {
     "name": "stdout",
     "output_type": "stream",
     "text": [
      "Index([u'ASSD', u'FN', u'FP', u'TN', u'TP', u'code', u'hausdorf', u'image'], dtype='object')\n"
     ]
    }
   ],
   "source": [
    "df = pd.read_csv('3derrs.csv')\n",
    "df = df.drop(['Unnamed: 0'],axis=1)\n",
    "print df.columns"
   ]
  },
  {
   "cell_type": "code",
   "execution_count": 12,
   "metadata": {},
   "outputs": [
    {
     "name": "stdout",
     "output_type": "stream",
     "text": [
      "['0006', '0101', '0171', '0178', '0110']\n",
      "['0004', '0177', 'cabg11', '0179', '0144', '0148', '0150', '0119']\n",
      "CT\n",
      "i2ifc & $0.715$$ \\\n",
      "i2i & $0.742$$ \\\n",
      "oof & $0.754$$ \\\n",
      "drls & $0.762$$ \\\n",
      "i2i3d & $0.864$$ \\\n",
      "MR\n",
      "i2ifc & $0.276$$ \\\n",
      "i2i & $0.301$$ \\\n",
      "oof & $0.387$$ \\\n",
      "i2i3d & $0.426$$ \\\n",
      "drls & $0.432$$ \\\n",
      "ALL\n",
      "i2ifc & $0.584$$ \\\n",
      "i2i & $0.610$$ \\\n",
      "oof & $0.644$$ \\\n",
      "drls & $0.662$$ \\\n",
      "i2i3d & $0.730$$ \\\n"
     ]
    }
   ],
   "source": [
    "strings = []\n",
    "ct_test = [c.replace('OSMSC','') for c in ct_test]\n",
    "mr_test = [c.replace('OSMSC','') for c in mr_test]\n",
    "print mr_test\n",
    "print ct_test\n",
    "for CODE in ['CT','MR', 'ALL']:\n",
    "    l = ct_test\n",
    "    if CODE == 'MR': l = mr_test\n",
    "    if CODE == \"ALL\": l = mr_test+ct_test\n",
    "    strings = []\n",
    "    f = open('{}_3d_err_.txt'.format(CODE),'w')\n",
    "    for c in codes:\n",
    "\n",
    "        d = df.loc[df['code']==c]\n",
    "        t = [any([H==K for H in l]) for K in d['image']]\n",
    "\n",
    "        d = d.loc[t]\n",
    "\n",
    "        a = d.mean()\n",
    "        \n",
    "        s = \"{} & ${:.3f}$$ \\\\\".format(c,a['hausdorf'])\n",
    "        \n",
    "        strings.append((a['hausdorf'],s))\n",
    "\n",
    "    strings = sorted(strings,key = lambda x: x[0])\n",
    "    print CODE\n",
    "    for s in strings:\n",
    "        print s[1]\n",
    "        f.write(s[1]+'\\n')\n",
    "    f.close()"
   ]
  },
  {
   "cell_type": "code",
   "execution_count": null,
   "metadata": {
    "collapsed": true
   },
   "outputs": [],
   "source": []
  }
 ],
 "metadata": {
  "kernelspec": {
   "display_name": "Python [conda root]",
   "language": "python",
   "name": "conda-root-py"
  },
  "language_info": {
   "codemirror_mode": {
    "name": "ipython",
    "version": 2
   },
   "file_extension": ".py",
   "mimetype": "text/x-python",
   "name": "python",
   "nbconvert_exporter": "python",
   "pygments_lexer": "ipython2",
   "version": "2.7.13"
  }
 },
 "nbformat": 4,
 "nbformat_minor": 2
}
