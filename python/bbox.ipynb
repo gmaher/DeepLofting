{
 "cells": [
  {
   "cell_type": "code",
   "execution_count": 1,
   "metadata": {},
   "outputs": [
    {
     "name": "stderr",
     "output_type": "stream",
     "text": [
      "Using TensorFlow backend.\n"
     ]
    },
    {
     "data": {
      "application/javascript": [
       "\n",
       "IPython.OutputArea.prototype._should_scroll = function(lines) {\n",
       "    return false;\n",
       "}\n"
      ],
      "text/plain": [
       "<IPython.core.display.Javascript object>"
      ]
     },
     "metadata": {},
     "output_type": "display_data"
    },
    {
     "name": "stdout",
     "output_type": "stream",
     "text": [
      "autoscrolling long output is disabled\n",
      "(80004, 192, 192, 1) (80004, 192, 192, 1)\n",
      "data shapes, train=(80004, 192, 192, 1),(80004, 192, 192, 1)\n",
      "(4333, 192, 192, 1)\n"
     ]
    }
   ],
   "source": [
    "import tensorflow as tf\n",
    "import modules.layers as tf_util\n",
    "import modules.utility as util\n",
    "import numpy as np\n",
    "import tables\n",
    "import matplotlib.pyplot as plt\n",
    "from scipy.ndimage import rotate\n",
    "from IPython.display import display, Javascript\n",
    "\n",
    "disable_js = \"\"\"\n",
    "IPython.OutputArea.prototype._should_scroll = function(lines) {\n",
    "    return false;\n",
    "}\n",
    "\"\"\"\n",
    "\n",
    "def disable_scroll():\n",
    "    display(Javascript(disable_js))\n",
    "    print (\"autoscrolling long output is disabled\")\n",
    "    \n",
    "disable_scroll()\n",
    "\n",
    "#######################################################\n",
    "# Get data\n",
    "#############\n",
    "#CT Dataset\n",
    "data_path = '/media/marsdenlab/Data2/datasets/DeepLofting/'\n",
    "train = data_path+'train_192_ct.hdf5'\n",
    "val = data_path+'val_192_ct.hdf5'\n",
    "test = data_path+'test_192_ct.hdf5'\n",
    "MODEL_CODE = 'CT'\n",
    "\n",
    "#MR Dataset\n",
    "# train = data_path+'train_192_mr.hdf5'\n",
    "# val = data_path+'val_192_mr.hdf5'\n",
    "# test = data_path+'test_192_mr.hdf5'\n",
    "# MODEL_CODE = 'MR'\n",
    "\n",
    "f_train = tables.open_file(train)\n",
    "f_val = tables.open_file(val)\n",
    "\n",
    "input_shape = f_train.root.X.shape\n",
    "output_shape = f_train.root.Y.shape\n",
    "print input_shape, output_shape\n",
    "\n",
    "print 'data shapes, train={},{}'.format(input_shape,output_shape)\n",
    "print f_val.root.X.shape\n",
    "\n",
    "##########################################"
   ]
  },
  {
   "cell_type": "code",
   "execution_count": 14,
   "metadata": {},
   "outputs": [
    {
     "data": {
      "image/png": "[encoded data removed]",
      "text/plain": [
       "<matplotlib.figure.Figure at 0x7f2decebf890>"
      ]
     },
     "metadata": {},
     "output_type": "display_data"
    }
   ],
   "source": [
    "y = f_train.root.Y[30000]\n",
    "plt.figure()\n",
    "plt.imshow(y[:,:,0],cmap='gray')\n",
    "plt.show()"
   ]
  },
  {
   "cell_type": "code",
   "execution_count": 15,
   "metadata": {},
   "outputs": [],
   "source": []
  },
  {
   "cell_type": "code",
   "execution_count": 18,
   "metadata": {},
   "outputs": [],
   "source": [
    "def bbox(y):\n",
    "    c = util.marchingSquares(y[:,:,0],iso=0.5,mode='center')\n",
    "    xs = c[:,0]\n",
    "    ys = c[:,1]\n",
    "\n",
    "    w = np.amax(xs) - np.amin(xs)\n",
    "    h = np.amax(ys) - np.amin(ys)\n",
    "    ox = np.mean(xs)\n",
    "    oy = np.mean(ys)\n",
    "\n",
    "    np.asarray([ox,oy,w,h])"
   ]
  },
  {
   "cell_type": "code",
   "execution_count": null,
   "metadata": {},
   "outputs": [],
   "source": [
    "B = np.array([bbox(y) for y in f_train.root.Y[:,:,:,0]])"
   ]
  },
  {
   "cell_type": "code",
   "execution_count": null,
   "metadata": {
    "collapsed": true
   },
   "outputs": [],
   "source": []
  }
 ],
 "metadata": {
  "kernelspec": {
   "display_name": "Python [conda root]",
   "language": "python",
   "name": "conda-root-py"
  },
  "language_info": {
   "codemirror_mode": {
    "name": "ipython",
    "version": 2
   },
   "file_extension": ".py",
   "mimetype": "text/x-python",
   "name": "python",
   "nbconvert_exporter": "python",
   "pygments_lexer": "ipython2",
   "version": "2.7.13"
  }
 },
 "nbformat": 4,
 "nbformat_minor": 2
}
