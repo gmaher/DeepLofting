{
 "cells": [
  {
   "cell_type": "code",
   "execution_count": 5,
   "metadata": {
    "collapsed": true
   },
   "outputs": [],
   "source": [
    "import SimpleITK as sitk\n",
    "import numpy as np"
   ]
  },
  {
   "cell_type": "code",
   "execution_count": 6,
   "metadata": {
    "collapsed": true
   },
   "outputs": [],
   "source": [
    "def ct_norm(x):\n",
    "    return (1.0*x+1000)/(2000)\n",
    "\n",
    "def mr_norm(x):\n",
    "    x = np.log(1.0*x-np.amin(x)+1)\n",
    "    m = np.amin(x)\n",
    "    x = (x-m)/(np.amax(x)-m)    \n",
    "    return x"
   ]
  },
  {
   "cell_type": "code",
   "execution_count": 7,
   "metadata": {
    "collapsed": true
   },
   "outputs": [],
   "source": [
    "mhas = open('images.txt').readlines()\n",
    "mhas = [i.replace('\\n','') for i in mhas]\n",
    "\n",
    "im_mr = open('mr_images.list').readlines()\n",
    "im_mr = [i.replace('\\n','') for i in im_mr]\n",
    "\n",
    "im_ct = open('ct_images.list').readlines()\n",
    "im_ct = [i.replace('\\n','') for i in im_ct]"
   ]
  },
  {
   "cell_type": "code",
   "execution_count": 8,
   "metadata": {
    "collapsed": true
   },
   "outputs": [],
   "source": [
    "def process_image(img_fn, normalizer):\n",
    "    \n",
    "    img = sitk.ReadImage(img_fn)\n",
    "    \n",
    "    img_np = sitk.GetArrayFromImage(img)\n",
    "    \n",
    "    img_np = normalizer(img_np)\n",
    "    \n",
    "    img = sitk.GetImageFromArray(img_np)\n",
    "    \n",
    "    return img"
   ]
  },
  {
   "cell_type": "code",
   "execution_count": 10,
   "metadata": {},
   "outputs": [
    {
     "name": "stdout",
     "output_type": "stream",
     "text": [
      "/home/marsdenlab/datasets/vascular_data/OSMSC0001/OSMSC0001-cm.mha\n",
      "/home/marsdenlab/datasets/vascular_data/OSMSC0002/OSMSC0002-cm.mha\n",
      "/home/marsdenlab/datasets/vascular_data/OSMSC0003/OSMSC0003-cm.mha\n",
      "/home/marsdenlab/datasets/vascular_data/OSMSC0004/OSMSC0004-cm.mha\n",
      "/home/marsdenlab/datasets/vascular_data/OSMSC0005/OSMSC0005-cm.mha\n",
      "/home/marsdenlab/datasets/vascular_data/OSMSC0006/OSMSC0006-cm.mha\n",
      "/home/marsdenlab/datasets/vascular_data/OSMSC0066/OSMSC0066-cm.mha\n",
      "/home/marsdenlab/datasets/vascular_data/OSMSC0068/OSMSC0068-cm.mha\n",
      "/home/marsdenlab/datasets/vascular_data/OSMSC0069/OSMSC0069-cm.mha\n",
      "/home/marsdenlab/datasets/vascular_data/OSMSC0071/OSMSC0071-cm.mha\n",
      "/home/marsdenlab/datasets/vascular_data/OSMSC0072/OSMSC0072-cm.mha\n",
      "/home/marsdenlab/datasets/vascular_data/OSMSC0073/OSMSC0073-cm.mha\n",
      "/home/marsdenlab/datasets/vascular_data/OSMSC0074/OSMSC0074-cm.mha\n",
      "/home/marsdenlab/datasets/vascular_data/OSMSC0078/OSMSC0078-cm.mha\n",
      "/home/marsdenlab/datasets/vascular_data/OSMSC0079/OSMSC0079-cm.mha\n",
      "/home/marsdenlab/datasets/vascular_data/OSMSC0083/OSMSC0083-cm.mha\n",
      "/home/marsdenlab/datasets/vascular_data/OSMSC0085/OSMSC0085-cm.mha\n",
      "/home/marsdenlab/datasets/vascular_data/OSMSC0087/OSMSC0087-cm.mha\n",
      "/home/marsdenlab/datasets/vascular_data/OSMSC0090/OSMSC0090-cm.mha\n",
      "/home/marsdenlab/datasets/vascular_data/OSMSC0092/OSMSC0092-cm.mha\n",
      "/home/marsdenlab/datasets/vascular_data/OSMSC0093/OSMSC0093-cm.mha\n",
      "/home/marsdenlab/datasets/vascular_data/OSMSC0094/OSMSC0094-cm.mha\n",
      "/home/marsdenlab/datasets/vascular_data/OSMSC0095/OSMSC0095-cm.mha\n",
      "/home/marsdenlab/datasets/vascular_data/OSMSC0096/OSMSC0096-cm.mha\n",
      "/home/marsdenlab/datasets/vascular_data/OSMSC0097/OSMSC0097-cm.mha\n",
      "/home/marsdenlab/datasets/vascular_data/OSMSC0098/OSMSC0098-cm.mha\n",
      "/home/marsdenlab/datasets/vascular_data/OSMSC0099/OSMSC0099-cm.mha\n",
      "/home/marsdenlab/datasets/vascular_data/OSMSC0100/OSMSC0100-cm.mha\n",
      "/home/marsdenlab/datasets/vascular_data/OSMSC0101/OSMSC0101-cm.mha\n",
      "/home/marsdenlab/datasets/vascular_data/OSMSC0103/OSMSC0103-cm.mha\n",
      "/home/marsdenlab/datasets/vascular_data/OSMSC0104/OSMSC0104-cm.mha\n",
      "/home/marsdenlab/datasets/vascular_data/OSMSC0105/OSMSC0105-cm.mha\n",
      "/home/marsdenlab/datasets/vascular_data/OSMSC0106/OSMSC0106-cm.mha\n",
      "/home/marsdenlab/datasets/vascular_data/OSMSC0108/OSMSC0108-cm.mha\n",
      "/home/marsdenlab/datasets/vascular_data/OSMSC0109/OSMSC0109-cm.mha\n",
      "/home/marsdenlab/datasets/vascular_data/OSMSC0110/OSMSC0110-cm.mha\n",
      "/home/marsdenlab/datasets/vascular_data/OSMSC0113/OSMSC0113-cm.mha\n",
      "/home/marsdenlab/datasets/vascular_data/OSMSC0115/OSMSC0115-cm.mha\n",
      "/home/marsdenlab/datasets/vascular_data/OSMSC0116/OSMSC0116-cm.mha\n",
      "/home/marsdenlab/datasets/vascular_data/OSMSC0117/OSMSC0117-cm.mha\n",
      "/home/marsdenlab/datasets/vascular_data/OSMSC0118/OSMSC0118-cm.mha\n",
      "/home/marsdenlab/datasets/vascular_data/OSMSC0119/OSMSC0119-cm.mha\n",
      "/home/marsdenlab/datasets/vascular_data/OSMSC0121/OSMSC0121-cm.mha\n",
      "/home/marsdenlab/datasets/vascular_data/OSMSC0125/OSMSC0125-cm.mha\n",
      "/home/marsdenlab/datasets/vascular_data/OSMSC0126/OSMSC0126-cm.mha\n",
      "/home/marsdenlab/datasets/vascular_data/OSMSC0129/OSMSC0129-cm.mha\n",
      "/home/marsdenlab/datasets/vascular_data/OSMSC0130/OSMSC0130-cm.mha\n",
      "/home/marsdenlab/datasets/vascular_data/OSMSC0131/OSMSC0131-cm.mha\n",
      "/home/marsdenlab/datasets/vascular_data/OSMSC0134/OSMSC0134-cm.mha\n",
      "/home/marsdenlab/datasets/vascular_data/OSMSC0135/OSMSC0135-cm.mha\n",
      "/home/marsdenlab/datasets/vascular_data/OSMSC0136/OSMSC0136-cm.mha\n",
      "/home/marsdenlab/datasets/vascular_data/OSMSC0138/OSMSC0138-cm.mha\n",
      "/home/marsdenlab/datasets/vascular_data/OSMSC0139/OSMSC0139-cm.mha\n",
      "/home/marsdenlab/datasets/vascular_data/OSMSC0140/OSMSC0140-cm.mha\n",
      "/home/marsdenlab/datasets/vascular_data/OSMSC0141/OSMSC0141-cm.mha\n",
      "/home/marsdenlab/datasets/vascular_data/OSMSC0142/OSMSC0142-cm.mha\n",
      "/home/marsdenlab/datasets/vascular_data/OSMSC0143/OSMSC0143-cm.mha\n",
      "/home/marsdenlab/datasets/vascular_data/OSMSC0144/OSMSC0144-cm.mha\n",
      "/home/marsdenlab/datasets/vascular_data/OSMSC0145/OSMSC0145-cm.mha\n",
      "/home/marsdenlab/datasets/vascular_data/OSMSC0146/OSMSC0146-cm.mha\n",
      "/home/marsdenlab/datasets/vascular_data/OSMSC0147/OSMSC0147-cm.mha\n",
      "/home/marsdenlab/datasets/vascular_data/OSMSC0148/OSMSC0148-cm.mha\n",
      "/home/marsdenlab/datasets/vascular_data/OSMSC0149/OSMSC0149-cm.mha\n",
      "/home/marsdenlab/datasets/vascular_data/OSMSC0150/OSMSC0150-cm.mha\n",
      "/home/marsdenlab/datasets/vascular_data/OSMSC0151/OSMSC0151-cm.mha\n",
      "/home/marsdenlab/datasets/vascular_data/OSMSC0156/OSMSC0156-cm.mha\n",
      "/home/marsdenlab/datasets/vascular_data/OSMSC0157/OSMSC0157-cm.mha\n",
      "/home/marsdenlab/datasets/vascular_data/OSMSC0158/OSMSC0158-cm.mha\n",
      "/home/marsdenlab/datasets/vascular_data/OSMSC0159/OSMSC0159-cm.mha\n",
      "/home/marsdenlab/datasets/vascular_data/OSMSC0160/OSMSC0160-cm.mha\n",
      "/home/marsdenlab/datasets/vascular_data/OSMSC0161/OSMSC0161-cm.mha\n",
      "/home/marsdenlab/datasets/vascular_data/OSMSC0162/OSMSC0162-cm.mha\n",
      "/home/marsdenlab/datasets/vascular_data/OSMSC0163/OSMSC0163-cm.mha\n",
      "/home/marsdenlab/datasets/vascular_data/OSMSC0166/OSMSC0166-cm.mha\n",
      "/home/marsdenlab/datasets/vascular_data/OSMSC0167/OSMSC0167-cm.mha\n",
      "/home/marsdenlab/datasets/vascular_data/OSMSC0168/OSMSC0168-cm.mha\n",
      "/home/marsdenlab/datasets/vascular_data/OSMSC0169/OSMSC0169-cm.mha\n",
      "/home/marsdenlab/datasets/vascular_data/OSMSC0170/OSMSC0170-cm.mha\n",
      "/home/marsdenlab/datasets/vascular_data/OSMSC0171/OSMSC0171-cm.mha\n",
      "/home/marsdenlab/datasets/vascular_data/OSMSC0172/OSMSC0172-cm.mha\n",
      "/home/marsdenlab/datasets/vascular_data/OSMSC0173/OSMSC0173-cm.mha\n",
      "/home/marsdenlab/datasets/vascular_data/OSMSC0174/OSMSC0174-cm.mha\n",
      "/home/marsdenlab/datasets/vascular_data/OSMSC0175/OSMSC0175-cm.mha\n",
      "/home/marsdenlab/datasets/vascular_data/OSMSC0176/OSMSC0176-cm.mha\n",
      "/home/marsdenlab/datasets/vascular_data/OSMSC0177/OSMSC0177-cm.mha\n",
      "/home/marsdenlab/datasets/vascular_data/OSMSC0178/OSMSC0178-cm.mha\n",
      "/home/marsdenlab/datasets/vascular_data/OSMSC0179/OSMSC0179-cm.mha\n",
      "/home/marsdenlab/datasets/vascular_data/OSMSC0180/OSMSC0180-cm.mha\n",
      "/home/marsdenlab/datasets/vascular_data/OSMSC0181/OSMSC0181-cm.mha\n",
      "/home/marsdenlab/datasets/vascular_data/OSMSC0182/OSMSC0182-cm.mha\n",
      "/home/marsdenlab/datasets/vascular_data/OSMSC0183/OSMSC0183-cm.mha\n",
      "/home/marsdenlab/datasets/vascular_data/OSMSC0184/OSMSC0184-cm.mha\n",
      "/home/marsdenlab/datasets/vascular_data/OSMSC0185/OSMSC0185-cm.mha\n",
      "/home/marsdenlab/datasets/vascular_data/OSMSC0186/OSMSC0186-cm.mha\n",
      "/home/marsdenlab/datasets/vascular_data/OSMSC0187/OSMSC0187-cm.mha\n",
      "/home/marsdenlab/datasets/vascular_data/OSMSC0188/OSMSC0188-cm.mha\n",
      "/home/marsdenlab/datasets/vascular_data/OSMSC0189/OSMSC0189-cm.mha\n",
      "/home/marsdenlab/datasets/vascular_data/cabg10/cabg10-image.mha\n",
      "/home/marsdenlab/datasets/vascular_data/cabg11/cabg11-image.mha\n",
      "/home/marsdenlab/datasets/vascular_data/cabg5/cabg5-image.mha\n"
     ]
    }
   ],
   "source": [
    "for fn in mhas:\n",
    "    print fn\n",
    "    if any([i in fn for i in im_mr]):\n",
    "        img = process_image(fn,mr_norm)\n",
    "    else:\n",
    "        img = process_image(fn,ct_norm)\n",
    "        \n",
    "    img_name = fn.split('/')[-1]\n",
    "    sitk.WriteImage(img,'./data/{}'.format(img_name))"
   ]
  },
  {
   "cell_type": "code",
   "execution_count": null,
   "metadata": {
    "collapsed": true
   },
   "outputs": [],
   "source": []
  }
 ],
 "metadata": {
  "kernelspec": {
   "display_name": "Python [conda root]",
   "language": "python",
   "name": "conda-root-py"
  },
  "language_info": {
   "codemirror_mode": {
    "name": "ipython",
    "version": 2
   },
   "file_extension": ".py",
   "mimetype": "text/x-python",
   "name": "python",
   "nbconvert_exporter": "python",
   "pygments_lexer": "ipython2",
   "version": "2.7.13"
  }
 },
 "nbformat": 4,
 "nbformat_minor": 2
}
