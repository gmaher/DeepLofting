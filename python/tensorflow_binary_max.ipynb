{
 "cells": [
  {
   "cell_type": "code",
   "execution_count": 1,
   "metadata": {
    "collapsed": true
   },
   "outputs": [],
   "source": [
    "import numpy as np\n",
    "import tensorflow as tf"
   ]
  },
  {
   "cell_type": "code",
   "execution_count": 2,
   "metadata": {},
   "outputs": [],
   "source": [
    "a = tf.placeholder(shape=(None,2),dtype=tf.float32)\n",
    "shape = tf.shape(a)\n",
    "m = tf.reduce_max(a,axis=0)\n",
    "s = tf.ones(shape=shape)*m\n",
    "b = tf.greater_equal(a,s)\n",
    "\n",
    "x = tf.zeros(shape=shape)\n",
    "y = tf.ones(shape=shape)\n",
    "out = tf.where(b,y,x)"
   ]
  },
  {
   "cell_type": "code",
   "execution_count": 3,
   "metadata": {},
   "outputs": [
    {
     "name": "stdout",
     "output_type": "stream",
     "text": [
      "Tensor(\"Max:0\", shape=(2,), dtype=float32)\n",
      "Tensor(\"mul:0\", shape=(?, 2), dtype=float32)\n",
      "Tensor(\"GreaterEqual:0\", shape=(?, 2), dtype=bool)\n",
      "Tensor(\"Select:0\", shape=(?, 2), dtype=float32)\n"
     ]
    }
   ],
   "source": [
    "print m\n",
    "print s\n",
    "print b\n",
    "print out"
   ]
  },
  {
   "cell_type": "code",
   "execution_count": 4,
   "metadata": {},
   "outputs": [
    {
     "name": "stdout",
     "output_type": "stream",
     "text": [
      "(5, 2)\n"
     ]
    }
   ],
   "source": [
    "inp = np.asarray([[0.9,0.1,0.0,0.0,0.0],[0.1,0.2,0.3,0.4,0.0]])\n",
    "\n",
    "inp = inp.T\n",
    "print inp.shape"
   ]
  },
  {
   "cell_type": "code",
   "execution_count": 5,
   "metadata": {},
   "outputs": [],
   "source": [
    "sess = tf.Session()\n",
    "sess.run(tf.global_variables_initializer())"
   ]
  },
  {
   "cell_type": "code",
   "execution_count": 6,
   "metadata": {
    "collapsed": true
   },
   "outputs": [],
   "source": [
    "o = sess.run(out,{a:inp})"
   ]
  },
  {
   "cell_type": "code",
   "execution_count": 7,
   "metadata": {},
   "outputs": [
    {
     "name": "stdout",
     "output_type": "stream",
     "text": [
      "[[ 1.  0.]\n",
      " [ 0.  0.]\n",
      " [ 0.  0.]\n",
      " [ 0.  1.]\n",
      " [ 0.  0.]]\n"
     ]
    }
   ],
   "source": [
    "print o"
   ]
  },
  {
   "cell_type": "code",
   "execution_count": 8,
   "metadata": {},
   "outputs": [
    {
     "name": "stdout",
     "output_type": "stream",
     "text": [
      "(5, 2)\n",
      "[[ 1.  0.]\n",
      " [ 1.  0.]\n",
      " [ 0.  0.]\n",
      " [ 0.  1.]\n",
      " [ 0.  0.]]\n"
     ]
    }
   ],
   "source": [
    "inp = np.asarray([[0.9,0.9,0.0,0.0,0.0],[0.1,0.2,0.3,0.4,0.0]])\n",
    "\n",
    "inp = inp.T\n",
    "print inp.shape\n",
    "\n",
    "o = sess.run(out,{a:inp})\n",
    "\n",
    "print o"
   ]
  },
  {
   "cell_type": "code",
   "execution_count": null,
   "metadata": {
    "collapsed": true
   },
   "outputs": [],
   "source": []
  }
 ],
 "metadata": {
  "kernelspec": {
   "display_name": "Python [conda root]",
   "language": "python",
   "name": "conda-root-py"
  },
  "language_info": {
   "codemirror_mode": {
    "name": "ipython",
    "version": 2
   },
   "file_extension": ".py",
   "mimetype": "text/x-python",
   "name": "python",
   "nbconvert_exporter": "python",
   "pygments_lexer": "ipython2",
   "version": "2.7.13"
  }
 },
 "nbformat": 4,
 "nbformat_minor": 2
}
