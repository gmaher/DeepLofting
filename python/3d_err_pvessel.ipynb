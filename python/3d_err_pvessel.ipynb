{
 "cells": [
  {
   "cell_type": "code",
   "execution_count": 1,
   "metadata": {},
   "outputs": [
    {
     "name": "stderr",
     "output_type": "stream",
     "text": [
      "Using TensorFlow backend.\n"
     ]
    }
   ],
   "source": [
    "import numpy as np\n",
    "import matplotlib.pyplot as plt\n",
    "from IPython.display import display, Javascript\n",
    "from modules import utility\n",
    "import os\n",
    "import pandas as pd\n",
    "from medpy.metric.binary import hd, assd, dc, precision\n",
    "import SimpleITK as sitk\n",
    "\n",
    "def get_surface(img):\n",
    "    a = sitk.GetImageFromArray(img)\n",
    "    a = sitk.BinaryContour(a)\n",
    "    a = sitk.GetArrayFromImage(a)\n",
    "    return a.copy()"
   ]
  },
  {
   "cell_type": "code",
   "execution_count": 2,
   "metadata": {},
   "outputs": [
    {
     "name": "stdout",
     "output_type": "stream",
     "text": [
      "['OSMSC0004', 'OSMSC0177', 'cabg11', 'OSMSC0179', 'OSMSC0144', 'OSMSC0148', 'OSMSC0150', 'OSMSC0119']\n",
      "['0119_0001_i2ifc.LPA_br2_br1.vtp', '0150_0001_oof.celiac_hepatic.vtp', '0179_0001_truth.C_left.vtp', 'cabg11_all_oof.lca2.vtp', '0119_0001_i2i3d.LPA_br12.vtp', '0080_0001_i2i.LPA_1.vtp', '0110_0001_i2i3d.right_iliac.vtp', '0177_0000_i2i3d.in_iliac_left.vtp', '0148_1001_i2i.renal_left.vtp', '0080_0001_i2i.RPA_31.vtp']\n",
      "['OSMSC0004', 'OSMSC0177', 'cabg11', 'OSMSC0179', 'OSMSC0144', 'OSMSC0148', 'OSMSC0150', 'OSMSC0119', 'OSMSC0006', 'OSMSC0080', 'OSMSC0082', 'OSMSC0101', 'OSMSC0171', 'OSMSC0178', 'OSMSC0110']\n",
      "['0179_0001_truth.C_left.vtp', '0179_0001_truth.R_ant.vtp', '0119_0001_truth.RPA_br8_br1.vtp', 'cabg11_all_truth.rsubcl3.vtp', '0119_0001_truth.RPA_br2.vtp', '0119_0001_truth.RPA_br9_br3.vtp', '0148_1001_truth.SMA.vtp', '0177_0000_truth.in_iliac_left.vtp', 'cabg11_all_truth.lsubcl3.vtp', '0171_0001_truth.L_incrd_b8.vtp', '0150_0001_truth.IMA.vtp', '0119_0001_truth.LPA_br4_br4.vtp', '0150_0001_truth.aorta.vtp', '0006_0001_truth.left_internal_iliac.vtp', '0110_0001_truth.left_renal.vtp', '0119_0001_truth.LPA_br1.vtp', '0119_0001_truth.RPA_br7.vtp', '0171_0001_truth.L_vtbrl_pre.vtp', 'cabg11_all_truth.rca3.vtp', '0119_0001_truth.RPA_br2_br1.vtp']\n"
     ]
    }
   ],
   "source": [
    "mhas = open('images.txt').readlines()\n",
    "mhas = [i.replace('\\n','') for i in mhas]\n",
    "\n",
    "truths = open('truths.txt').readlines()\n",
    "truths = [i.replace('\\n','') for i in truths]\n",
    "\n",
    "paths = open('paths.txt').readlines()\n",
    "paths = [i.replace('\\n','') for i in paths]\n",
    "\n",
    "groups = open('groups.txt').readlines()\n",
    "groups = [i.replace('\\n','') for i in groups]\n",
    "\n",
    "ct_test = open('ct_test.txt').readlines()\n",
    "ct_test = [i.replace('\\n','') for i in ct_test]\n",
    "\n",
    "mr_test = open('mr_test.txt').readlines()\n",
    "mr_test = [i.replace('\\n','') for i in mr_test]\n",
    "\n",
    "vtp_dir = '/home/marsdenlab/projects/DeepLofting/python/vtp/'\n",
    "model_dir = '/home/marsdenlab/projects/DeepLofting/python/3d_models'\n",
    "\n",
    "vtp_files = os.listdir(vtp_dir)\n",
    "\n",
    "print ct_test\n",
    "print vtp_files[:10]\n",
    "IMAGES = ct_test+mr_test\n",
    "print IMAGES\n",
    "codes = ['i2ifc','i2i3d','i2i','drls','oof']\n",
    "truth_files = [c for c in vtp_files if 'truth' in c]\n",
    "print truth_files[:20]\n",
    "\n",
    "test_images = []\n",
    "for i in range(len(mhas)):\n",
    "    if any([c in mhas[i] for c in IMAGES]):\n",
    "        test_images.append((mhas[i],truths[i],paths[i],groups[i]))\n",
    "        \n",
    "#print test_images"
   ]
  },
  {
   "cell_type": "code",
   "execution_count": null,
   "metadata": {},
   "outputs": [
    {
     "name": "stdout",
     "output_type": "stream",
     "text": [
      "/home/marsdenlab/datasets/vascular_data/OSMSC0004/OSMSC0004-cm.mha\n",
      "/home/marsdenlab/datasets/vascular_data/OSMSC0006/OSMSC0006-cm.mha\n",
      "/home/marsdenlab/datasets/vascular_data/OSMSC0080/OSMSC0080-cm.mha\n",
      "/home/marsdenlab/datasets/vascular_data/OSMSC0082/OSMSC0082-cm.mha\n",
      "/home/marsdenlab/datasets/vascular_data/OSMSC0101/OSMSC0101-cm.mha\n",
      "/home/marsdenlab/datasets/vascular_data/OSMSC0110/OSMSC0110-cm.mha\n",
      "/home/marsdenlab/datasets/vascular_data/OSMSC0119/OSMSC0119-cm.mha\n",
      "/home/marsdenlab/datasets/vascular_data/OSMSC0144/OSMSC0144-cm.mha\n",
      "/home/marsdenlab/datasets/vascular_data/OSMSC0148/OSMSC0148-cm.mha\n",
      "/home/marsdenlab/datasets/vascular_data/OSMSC0150/OSMSC0150-cm.mha\n",
      "/home/marsdenlab/datasets/vascular_data/OSMSC0171/OSMSC0171-cm.mha\n",
      "/home/marsdenlab/datasets/vascular_data/OSMSC0177/OSMSC0177-cm.mha\n",
      "/home/marsdenlab/datasets/vascular_data/OSMSC0178/OSMSC0178-cm.mha\n",
      "/home/marsdenlab/datasets/vascular_data/OSMSC0179/OSMSC0179-cm.mha\n",
      "/home/marsdenlab/datasets/vascular_data/cabg11/cabg11-image.mha\n",
      "['0004', '0178', '0006', '0179', '0171', '0119', '0101', '0110', '0177', '0144', '0150', 'cabg11', '0148', '0080', '0082']\n"
     ]
    }
   ],
   "source": [
    "import vtk\n",
    "import SimpleITK as sitk\n",
    "meta_dict = {}\n",
    "for i in range(len(test_images)):\n",
    "    im_file = test_images[i][0]\n",
    "    print im_file\n",
    "    reader = vtk.vtkMetaImageReader()\n",
    "    reader.SetFileName(im_file)\n",
    "    reader.Update()\n",
    "    im = reader.GetOutput()\n",
    "\n",
    "    spacing = im.GetSpacing()\n",
    "    extent  = im.GetExtent()\n",
    "    origin  = im.GetOrigin()\n",
    "    s = extent[1::2]\n",
    "    model = [c for c in IMAGES if c in im_file][0]\n",
    "    model = model.replace('OSMSC','')\n",
    "    meta_dict[model] = {}\n",
    "    meta_dict[model]['spacing'] = spacing\n",
    "    meta_dict[model]['origin'] = origin\n",
    "    meta_dict[model]['extent'] = extent\n",
    "    #meta_dict[model]['image'] = im\n",
    "print meta_dict.keys()"
   ]
  },
  {
   "cell_type": "code",
   "execution_count": null,
   "metadata": {},
   "outputs": [
    {
     "name": "stdout",
     "output_type": "stream",
     "text": [
      "0179_0001_truth.C_left.vtp\n",
      "0179_0001_i2ifc.C_left.vtp\n",
      "(266, 511, 511) (266, 511, 511) 42.0 1787.0\n",
      "0179_0001_i2i3d.C_left.vtp\n",
      "(266, 511, 511) (266, 511, 511) 42.0 4678.0\n",
      "0179_0001_i2i.C_left.vtp\n",
      "(266, 511, 511) (266, 511, 511) 42.0 3094.0\n",
      "0179_0001_drls.C_left.vtp\n",
      "(266, 511, 511) (266, 511, 511) 42.0 4794.0\n",
      "0179_0001_oof.C_left.vtp\n",
      "(266, 511, 511) (266, 511, 511) 42.0 8107.0\n",
      "0179_0001_truth.R_ant.vtp\n",
      "0179_0001_i2ifc.R_ant.vtp\n",
      "(266, 511, 511) (266, 511, 511) 1326.0 25964.0\n",
      "0179_0001_i2i3d.R_ant.vtp\n",
      "(266, 511, 511) (266, 511, 511) 1326.0 17971.0\n",
      "0179_0001_i2i.R_ant.vtp\n",
      "(266, 511, 511) (266, 511, 511) 1326.0 16621.0\n",
      "0179_0001_drls.R_ant.vtp\n",
      "(266, 511, 511) (266, 511, 511) 1326.0 12233.0\n",
      "0179_0001_oof.R_ant.vtp\n",
      "(266, 511, 511) (266, 511, 511) 1326.0 27055.0\n",
      "0119_0001_truth.RPA_br8_br1.vtp\n",
      "0119_0001_i2ifc.RPA_br8_br1.vtp\n",
      "(482, 511, 511) (482, 511, 511) 530.0 1175.0\n",
      "0119_0001_i2i3d.RPA_br8_br1.vtp\n",
      "(482, 511, 511) (482, 511, 511) 530.0 419.0\n",
      "0119_0001_i2i.RPA_br8_br1.vtp\n",
      "(482, 511, 511) (482, 511, 511) 530.0 1115.0\n"
     ]
    }
   ],
   "source": [
    "model_dict = {}\n",
    "df = pd.DataFrame()\n",
    "SKIP=1\n",
    "for truth_fn in truth_files:\n",
    "    print truth_fn\n",
    "    truth_pd = utility.get_pds_from_files([vtp_dir+truth_fn])[0]\n",
    "    \n",
    "    image = truth_fn.split('_')[0]\n",
    "    grp   = truth_fn.split('.')[1]\n",
    "    spacing = meta_dict[image]['spacing']\n",
    "    extent  = meta_dict[image]['extent'][1::2]\n",
    "    origin  = meta_dict[image]['origin']\n",
    "    \n",
    "    truth_np = utility.pd_to_numpy_vol(truth_pd,spacing,\n",
    "                                       shape=extent,origin=origin,foreground_value=1)[::SKIP,::SKIP,::SKIP]\n",
    "\n",
    "    if np.sum(truth_np) < 10: continue\n",
    "   # truth_np = get_surface(truth_np.astype(int))\n",
    "    for code in codes:\n",
    "        code_fn = [c for c in vtp_files if (image in c) and (code+'.' in c) and (grp+'.' in c)]\n",
    "        if len(code_fn) == 0: continue\n",
    "        else:\n",
    "            code_fn = code_fn[0]\n",
    "            print code_fn\n",
    "            \n",
    "            code_pd = utility.get_pds_from_files([vtp_dir+code_fn])[0]\n",
    "            \n",
    "            \n",
    "            code_np = utility.pd_to_numpy_vol(code_pd,spacing,shape=extent,\n",
    "                                               origin=origin,foreground_value=1)[::SKIP,::SKIP,::SKIP]\n",
    "\n",
    "            if np.sum(code_np) < 1: continue\n",
    "            \n",
    "            #code_np = get_surface(code_np.astype(int))\n",
    "            \n",
    "            print truth_np.shape, code_np.shape, np.sum(truth_np),np.sum(code_np)\n",
    "            \n",
    "            e_hd = hd(truth_np,code_np, spacing[0])\n",
    "\n",
    "            #e_j = utility.jaccard3D_pd_to_itk(code_pd, truth_pd,meta_dict[image]['image'])\n",
    "\n",
    "            e_asd = assd(truth_np,code_np, spacing[0])\n",
    "\n",
    "            #e_dc = dc(truth_np,code_np)\n",
    "\n",
    "            #e_ap = precision(truth_np, code_np)\n",
    "\n",
    "            TP = np.sum(truth_np*code_np)\n",
    "            FP = np.sum((1-truth_np)*code_np)\n",
    "            TN = np.sum((1-truth_np)*(1-code_np))\n",
    "            FN = np.sum((truth_np)*(1-code_np))\n",
    "            \n",
    "            d = {'image': image, \"group\":grp,'code':code, 'hausdorf':e_hd, 'ASSD':e_asd, \"TP\":TP,\"FP\":FP,\"TN\":TN,\"FN\":FN}\n",
    "            #d = {\"image\":image, \"group\":grp, 'code':code, 'hausdorf':e_hd}\n",
    "            df = df.append(d, ignore_index=True)"
   ]
  },
  {
   "cell_type": "code",
   "execution_count": null,
   "metadata": {
    "collapsed": true
   },
   "outputs": [],
   "source": [
    "strings = []\n",
    "ct_test = [c.replace('OSMSC','') for c in ct_test]\n",
    "mr_test = [c.replace('OSMSC','') for c in mr_test]\n",
    "print mr_test\n",
    "for CODE in ['CT','MR']:\n",
    "    l = ct_test\n",
    "    if CODE == 'MR': l = mr_test\n",
    "    strings = []\n",
    "    f = open('{}_3d_err_.txt'.format(CODE),'w')\n",
    "    for c in codes:\n",
    "\n",
    "        d = df.loc[df['code']==c]\n",
    "        t = [any([H==K for H in l]) for K in d['image']]\n",
    "\n",
    "        d = d.loc[t]\n",
    "\n",
    "        a = d.mean()\n",
    "        \n",
    "        s = \"{} & ${:.3f}$$ \\\\\".format(c,a['hausdorf'])\n",
    "        \n",
    "        strings.append((a['hausdorf'],s))\n",
    "\n",
    "    strings = sorted(strings,key = lambda x: x[0])\n",
    "    print CODE\n",
    "    for s in strings:\n",
    "        print s[1]\n",
    "        f.write(s[1]+'\\n')\n",
    "    f.close()"
   ]
  },
  {
   "cell_type": "code",
   "execution_count": null,
   "metadata": {
    "collapsed": true
   },
   "outputs": [],
   "source": [
    "df.to_csv('3derrs.csv')"
   ]
  },
  {
   "cell_type": "code",
   "execution_count": null,
   "metadata": {
    "collapsed": true
   },
   "outputs": [],
   "source": [
    "for k in meta_dict.items():\n",
    "    print k"
   ]
  },
  {
   "cell_type": "code",
   "execution_count": null,
   "metadata": {
    "collapsed": true
   },
   "outputs": [],
   "source": [
    "import pandas as pd\n",
    "from collections import OrderedDict\n",
    "def df_dice(grp):\n",
    "    # sum columns    \n",
    "    grp = grp[['TP', 'TN', 'FP', 'FN']].sum()\n",
    "    return 2*grp['TP']/(2*grp['TP']+grp['FP']+grp['FN'])\n",
    "mr_images = ['0006', '0080', '0082', '0101', '0171', '0178', '0110']\n",
    "ct_images = ['0004', '0177', 'cabg11', '0179', '0144', '0148', '0150', '0119']\n",
    "df = pd.read_csv('3derrs.csv')\n",
    "df.loc[df.image.isin(ct_images), 'type'] = 'CT'\n",
    "df.loc[df.image.isin(mr_images), 'type'] = 'MR'\n",
    "dfs = OrderedDict()\n",
    "\n",
    "dfs['DICE'] = pd.concat([df.groupby(['code', 'type']).apply(df_dice).rename(columns={0:'DICE'}).unstack(),\n",
    "                         pd.DataFrame(df.groupby(['code']).apply(df_dice)).rename(columns={0:'Overall'})],\n",
    "                        axis=1)\n",
    "\n",
    "for k in ['ASSD', 'hausdorf']:\n",
    "    dfs[k] = pd.concat([df.groupby(['code', 'type']).mean()[k].unstack(),\n",
    "                        pd.DataFrame(df.groupby(['code']).mean()[k]).rename(columns={k: 'Overall'})], axis=1)\n",
    "    out_df = pd.concat(dfs.values(), keys=dfs.keys(), axis=1).sort_values(('DICE', 'Overall'), \n",
    "                                                                          ascending=True)\n",
    "    out_df"
   ]
  },
  {
   "cell_type": "code",
   "execution_count": 10,
   "metadata": {},
   "outputs": [
    {
     "name": "stdout",
     "output_type": "stream",
     "text": [
      "          DICE                       ASSD                   hausdorf           \\\n",
      "            CT       MR  Overall       CT       MR  Overall       CT       MR   \n",
      "code                                                                            \n",
      "oof    $0.237$  $0.129$  $0.202$  $0.283$  $0.228$  $0.265$  $1.068$  $1.066$   \n",
      "drls   $0.321$  $0.099$  $0.221$  $0.220$  $0.295$  $0.244$  $1.091$  $1.273$   \n",
      "i2i3d  $0.594$  $0.545$  $0.586$  $0.382$  $0.242$  $0.336$  $1.575$  $1.314$   \n",
      "i2i    $0.636$  $0.625$  $0.635$  $0.139$  $0.118$  $0.133$  $0.839$  $0.714$   \n",
      "i2ifc  $0.682$  $0.652$  $0.677$  $0.116$  $0.130$  $0.120$  $0.657$  $0.618$   \n",
      "\n",
      "                \n",
      "       Overall  \n",
      "code            \n",
      "oof    $1.068$  \n",
      "drls   $1.149$  \n",
      "i2i3d  $1.490$  \n",
      "i2i    $0.800$  \n",
      "i2ifc  $0.645$  \n"
     ]
    }
   ],
   "source": [
    " print out_df.applymap(lambda x: \"${:.3f}$\".format(x)) "
   ]
  },
  {
   "cell_type": "code",
   "execution_count": null,
   "metadata": {
    "collapsed": true
   },
   "outputs": [],
   "source": []
  }
 ],
 "metadata": {
  "kernelspec": {
   "display_name": "Python [conda root]",
   "language": "python",
   "name": "conda-root-py"
  },
  "language_info": {
   "codemirror_mode": {
    "name": "ipython",
    "version": 2
   },
   "file_extension": ".py",
   "mimetype": "text/x-python",
   "name": "python",
   "nbconvert_exporter": "python",
   "pygments_lexer": "ipython2",
   "version": "2.7.13"
  }
 },
 "nbformat": 4,
 "nbformat_minor": 2
}
